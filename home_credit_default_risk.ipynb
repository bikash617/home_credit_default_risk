{
 "cells": [
  {
   "cell_type": "code",
   "execution_count": 21,
   "metadata": {},
   "outputs": [],
   "source": [
    "import pandas as pd\n",
    "import numpy as np\n",
    "from sklearn.preprocessing import StandardScaler\n",
    "from sklearn.ensemble import RandomForestClassifier\n",
    "from sklearn.cross_validation import train_test_split\n",
    "from sklearn.metrics import accuracy_score, roc_auc_score\n",
    "import xgboost as xgb\n",
    "from sklearn.model_selection import GridSearchCV\n",
    "from imblearn.over_sampling import SMOTE"
   ]
  },
  {
   "cell_type": "code",
   "execution_count": 2,
   "metadata": {
    "collapsed": true
   },
   "outputs": [],
   "source": [
    "full_train_orig = pd.read_csv(\"../Data/application_train.csv\")\n",
    "test =  pd.read_csv(\"../Data/application_test.csv\")\n",
    "bureau = pd.read_csv(\"../Data/bureau.csv\")"
   ]
  },
  {
   "cell_type": "code",
   "execution_count": 3,
   "metadata": {
    "collapsed": true
   },
   "outputs": [],
   "source": [
    "'''\n",
    "Removing columns with more than 100 null values (filters out 62 columns out of 122 columns)\n",
    "And not useful (based on EDA) which removes reduces feature size to 43)\n",
    "'''\n",
    "\n",
    "null_columns = full_train_orig.columns[full_train_orig.isnull().sum().values > 100].values.tolist()\n",
    "useless_columns = [\"FLAG_DOCUMENT_2\", \"FLAG_DOCUMENT_4\", \"FLAG_DOCUMENT_5\", \"FLAG_DOCUMENT_7\"\n",
    "                  ,'FLAG_DOCUMENT_9','FLAG_DOCUMENT_10', 'FLAG_DOCUMENT_11', 'FLAG_DOCUMENT_12',\n",
    "       'FLAG_DOCUMENT_13', 'FLAG_DOCUMENT_14', 'FLAG_DOCUMENT_15',\n",
    "       'FLAG_DOCUMENT_16', 'FLAG_DOCUMENT_17', 'FLAG_DOCUMENT_18',\n",
    "       'FLAG_DOCUMENT_19', 'FLAG_DOCUMENT_20', 'FLAG_DOCUMENT_21']"
   ]
  },
  {
   "cell_type": "code",
   "execution_count": 4,
   "metadata": {
    "collapsed": true
   },
   "outputs": [],
   "source": [
    "### Manually removing columns which doesn't make sense (based on EDA)\n",
    "full_train = full_train_orig.drop(null_columns+useless_columns, axis = 1)"
   ]
  },
  {
   "cell_type": "code",
   "execution_count": 5,
   "metadata": {
    "collapsed": true
   },
   "outputs": [],
   "source": [
    "train_bureau = pd.merge(full_train_orig, bureau, how=\"left\", on=\"SK_ID_CURR\")"
   ]
  },
  {
   "cell_type": "code",
   "execution_count": 6,
   "metadata": {},
   "outputs": [
    {
     "data": {
      "text/plain": [
       "Index(['SK_ID_CURR', 'SK_ID_BUREAU', 'CREDIT_ACTIVE', 'CREDIT_CURRENCY',\n",
       "       'DAYS_CREDIT', 'CREDIT_DAY_OVERDUE', 'DAYS_CREDIT_ENDDATE',\n",
       "       'DAYS_ENDDATE_FACT', 'AMT_CREDIT_MAX_OVERDUE', 'CNT_CREDIT_PROLONG',\n",
       "       'AMT_CREDIT_SUM', 'AMT_CREDIT_SUM_DEBT', 'AMT_CREDIT_SUM_LIMIT',\n",
       "       'AMT_CREDIT_SUM_OVERDUE', 'CREDIT_TYPE', 'DAYS_CREDIT_UPDATE',\n",
       "       'AMT_ANNUITY'],\n",
       "      dtype='object')"
      ]
     },
     "execution_count": 6,
     "metadata": {},
     "output_type": "execute_result"
    }
   ],
   "source": [
    "bureau.columns"
   ]
  },
  {
   "cell_type": "code",
   "execution_count": 7,
   "metadata": {},
   "outputs": [
    {
     "data": {
      "text/html": [
       "<div>\n",
       "<style>\n",
       "    .dataframe thead tr:only-child th {\n",
       "        text-align: right;\n",
       "    }\n",
       "\n",
       "    .dataframe thead th {\n",
       "        text-align: left;\n",
       "    }\n",
       "\n",
       "    .dataframe tbody tr th {\n",
       "        vertical-align: top;\n",
       "    }\n",
       "</style>\n",
       "<table border=\"1\" class=\"dataframe\">\n",
       "  <thead>\n",
       "    <tr style=\"text-align: right;\">\n",
       "      <th></th>\n",
       "      <th>SK_ID_CURR</th>\n",
       "      <th>SK_ID_BUREAU</th>\n",
       "      <th>CREDIT_ACTIVE</th>\n",
       "      <th>CREDIT_CURRENCY</th>\n",
       "      <th>DAYS_CREDIT</th>\n",
       "      <th>CREDIT_DAY_OVERDUE</th>\n",
       "      <th>DAYS_CREDIT_ENDDATE</th>\n",
       "      <th>DAYS_ENDDATE_FACT</th>\n",
       "      <th>AMT_CREDIT_MAX_OVERDUE</th>\n",
       "      <th>CNT_CREDIT_PROLONG</th>\n",
       "      <th>AMT_CREDIT_SUM</th>\n",
       "      <th>AMT_CREDIT_SUM_DEBT</th>\n",
       "      <th>AMT_CREDIT_SUM_LIMIT</th>\n",
       "      <th>AMT_CREDIT_SUM_OVERDUE</th>\n",
       "      <th>CREDIT_TYPE</th>\n",
       "      <th>DAYS_CREDIT_UPDATE</th>\n",
       "      <th>AMT_ANNUITY</th>\n",
       "    </tr>\n",
       "  </thead>\n",
       "  <tbody>\n",
       "    <tr>\n",
       "      <th>0</th>\n",
       "      <td>215354</td>\n",
       "      <td>5714462</td>\n",
       "      <td>Closed</td>\n",
       "      <td>currency 1</td>\n",
       "      <td>-497</td>\n",
       "      <td>0</td>\n",
       "      <td>-153.0</td>\n",
       "      <td>-153.0</td>\n",
       "      <td>NaN</td>\n",
       "      <td>0</td>\n",
       "      <td>91323.0</td>\n",
       "      <td>0.0</td>\n",
       "      <td>NaN</td>\n",
       "      <td>0.0</td>\n",
       "      <td>Consumer credit</td>\n",
       "      <td>-131</td>\n",
       "      <td>NaN</td>\n",
       "    </tr>\n",
       "    <tr>\n",
       "      <th>1</th>\n",
       "      <td>215354</td>\n",
       "      <td>5714463</td>\n",
       "      <td>Active</td>\n",
       "      <td>currency 1</td>\n",
       "      <td>-208</td>\n",
       "      <td>0</td>\n",
       "      <td>1075.0</td>\n",
       "      <td>NaN</td>\n",
       "      <td>NaN</td>\n",
       "      <td>0</td>\n",
       "      <td>225000.0</td>\n",
       "      <td>171342.0</td>\n",
       "      <td>NaN</td>\n",
       "      <td>0.0</td>\n",
       "      <td>Credit card</td>\n",
       "      <td>-20</td>\n",
       "      <td>NaN</td>\n",
       "    </tr>\n",
       "    <tr>\n",
       "      <th>2</th>\n",
       "      <td>215354</td>\n",
       "      <td>5714464</td>\n",
       "      <td>Active</td>\n",
       "      <td>currency 1</td>\n",
       "      <td>-203</td>\n",
       "      <td>0</td>\n",
       "      <td>528.0</td>\n",
       "      <td>NaN</td>\n",
       "      <td>NaN</td>\n",
       "      <td>0</td>\n",
       "      <td>464323.5</td>\n",
       "      <td>NaN</td>\n",
       "      <td>NaN</td>\n",
       "      <td>0.0</td>\n",
       "      <td>Consumer credit</td>\n",
       "      <td>-16</td>\n",
       "      <td>NaN</td>\n",
       "    </tr>\n",
       "    <tr>\n",
       "      <th>3</th>\n",
       "      <td>215354</td>\n",
       "      <td>5714465</td>\n",
       "      <td>Active</td>\n",
       "      <td>currency 1</td>\n",
       "      <td>-203</td>\n",
       "      <td>0</td>\n",
       "      <td>NaN</td>\n",
       "      <td>NaN</td>\n",
       "      <td>NaN</td>\n",
       "      <td>0</td>\n",
       "      <td>90000.0</td>\n",
       "      <td>NaN</td>\n",
       "      <td>NaN</td>\n",
       "      <td>0.0</td>\n",
       "      <td>Credit card</td>\n",
       "      <td>-16</td>\n",
       "      <td>NaN</td>\n",
       "    </tr>\n",
       "    <tr>\n",
       "      <th>4</th>\n",
       "      <td>215354</td>\n",
       "      <td>5714466</td>\n",
       "      <td>Active</td>\n",
       "      <td>currency 1</td>\n",
       "      <td>-629</td>\n",
       "      <td>0</td>\n",
       "      <td>1197.0</td>\n",
       "      <td>NaN</td>\n",
       "      <td>77674.5</td>\n",
       "      <td>0</td>\n",
       "      <td>2700000.0</td>\n",
       "      <td>NaN</td>\n",
       "      <td>NaN</td>\n",
       "      <td>0.0</td>\n",
       "      <td>Consumer credit</td>\n",
       "      <td>-21</td>\n",
       "      <td>NaN</td>\n",
       "    </tr>\n",
       "  </tbody>\n",
       "</table>\n",
       "</div>"
      ],
      "text/plain": [
       "   SK_ID_CURR  SK_ID_BUREAU CREDIT_ACTIVE CREDIT_CURRENCY  DAYS_CREDIT  \\\n",
       "0      215354       5714462        Closed      currency 1         -497   \n",
       "1      215354       5714463        Active      currency 1         -208   \n",
       "2      215354       5714464        Active      currency 1         -203   \n",
       "3      215354       5714465        Active      currency 1         -203   \n",
       "4      215354       5714466        Active      currency 1         -629   \n",
       "\n",
       "   CREDIT_DAY_OVERDUE  DAYS_CREDIT_ENDDATE  DAYS_ENDDATE_FACT  \\\n",
       "0                   0               -153.0             -153.0   \n",
       "1                   0               1075.0                NaN   \n",
       "2                   0                528.0                NaN   \n",
       "3                   0                  NaN                NaN   \n",
       "4                   0               1197.0                NaN   \n",
       "\n",
       "   AMT_CREDIT_MAX_OVERDUE  CNT_CREDIT_PROLONG  AMT_CREDIT_SUM  \\\n",
       "0                     NaN                   0         91323.0   \n",
       "1                     NaN                   0        225000.0   \n",
       "2                     NaN                   0        464323.5   \n",
       "3                     NaN                   0         90000.0   \n",
       "4                 77674.5                   0       2700000.0   \n",
       "\n",
       "   AMT_CREDIT_SUM_DEBT  AMT_CREDIT_SUM_LIMIT  AMT_CREDIT_SUM_OVERDUE  \\\n",
       "0                  0.0                   NaN                     0.0   \n",
       "1             171342.0                   NaN                     0.0   \n",
       "2                  NaN                   NaN                     0.0   \n",
       "3                  NaN                   NaN                     0.0   \n",
       "4                  NaN                   NaN                     0.0   \n",
       "\n",
       "       CREDIT_TYPE  DAYS_CREDIT_UPDATE  AMT_ANNUITY  \n",
       "0  Consumer credit                -131          NaN  \n",
       "1      Credit card                 -20          NaN  \n",
       "2  Consumer credit                 -16          NaN  \n",
       "3      Credit card                 -16          NaN  \n",
       "4  Consumer credit                 -21          NaN  "
      ]
     },
     "execution_count": 7,
     "metadata": {},
     "output_type": "execute_result"
    }
   ],
   "source": [
    "bureau.head()"
   ]
  },
  {
   "cell_type": "code",
   "execution_count": 10,
   "metadata": {
    "collapsed": true
   },
   "outputs": [],
   "source": [
    "#cat_columns_all = set(full_train.columns) - set(full_train._get_numeric_data().columns.tolist())"
   ]
  },
  {
   "cell_type": "code",
   "execution_count": 11,
   "metadata": {
    "collapsed": true
   },
   "outputs": [],
   "source": [
    "# cat_feats = [\"CODE_GENDER\", \"NAME_CONTRACT_TYPE\", \"FLAG_OWN_CAR\", \"FLAG_OWN_REALTY\", \n",
    "#              \"NAME_INCOME_TYPE\", \"NAME_EDUCATION_TYPE\", \"NAME_FAMILY_STATUS\", \"OCCUPATION_TYPE\",\n",
    "#              \"NAME_HOUSING_TYPE\", \"FLAG_DOCUMENT_3\"]\n",
    "# num_feats = [\"AMT_INCOME_TOTAL\", \"CNT_CHILDREN\", \"AMT_CREDIT\", \"AMT_ANNUITY\", \"AMT_GOODS_PRICE\", \"DAYS_BIRTH\",\n",
    "#              \"DAYS_EMPLOYED\", \"DAYS_REGISTRATION\", \"DAYS_LAST_PHONE_CHANGE\", \"AMT_REQ_CREDIT_BUREAU_YEAR\", \n",
    "#             \"REGION_POPULATION_RELATIVE\", ]"
   ]
  },
  {
   "cell_type": "code",
   "execution_count": 12,
   "metadata": {
    "collapsed": true
   },
   "outputs": [],
   "source": [
    "full_train_y = full_train.TARGET.values\n",
    "full_train = full_train.drop([\"TARGET\"], axis = 1)\n",
    "full_train = full_train.set_index(\"SK_ID_CURR\")\n",
    "num_feats = full_train._get_numeric_data().columns.values.tolist()\n",
    "cat_feats = list(set(full_train.columns.values) - set(num_feats))"
   ]
  },
  {
   "cell_type": "code",
   "execution_count": 13,
   "metadata": {
    "collapsed": true
   },
   "outputs": [],
   "source": [
    "## Categorical Features - Train\n",
    "train_cat= full_train[cat_feats]\n",
    "train_cat = pd.get_dummies(train_cat)\n",
    "\n",
    "## Numerical Features - Train\n",
    "train_num = full_train[num_feats]\n",
    "# train[num_feats].isnull().any() # Checking if the column has any null value\n",
    "#train_num = train_num.fillna((train_num.mean()), inplace=True)\n",
    "\n",
    "## Categorical Features - Test\n",
    "test_cat = test[cat_feats]\n",
    "test_cat = pd.get_dummies(test_cat)\n",
    "\n",
    "## Numerical Features - Test\n",
    "test_num = test[num_feats]\n",
    "test_num = test_num.fillna(test_num.mean())\n",
    "\n",
    "# ## Standardize numerical features\n",
    "# std = StandardScaler().fit(train_num)\n",
    "# train_num = std.transform(train_num)\n",
    "# test_num = std.transform(test_num)\n"
   ]
  },
  {
   "cell_type": "code",
   "execution_count": 14,
   "metadata": {
    "collapsed": true
   },
   "outputs": [],
   "source": [
    "full_train_feats = pd.concat([train_num, train_cat], axis=1)\n",
    "test_feats = pd.concat([test_num, test_cat], axis=1)"
   ]
  },
  {
   "cell_type": "code",
   "execution_count": 15,
   "metadata": {
    "collapsed": true
   },
   "outputs": [],
   "source": [
    "full_train_feats = full_train_feats.apply(lambda x: x.fillna(x.mean()),axis=0)\n",
    "test_feats = test_feats.apply(lambda x: x.fillna(x.mean()),axis=0)"
   ]
  },
  {
   "cell_type": "code",
   "execution_count": 16,
   "metadata": {
    "collapsed": true
   },
   "outputs": [],
   "source": [
    "train_X, valid_X, train_y, valid_y = train_test_split(full_train_feats, full_train_y, train_size = 0.8)"
   ]
  },
  {
   "cell_type": "code",
   "execution_count": 22,
   "metadata": {},
   "outputs": [
    {
     "name": "stderr",
     "output_type": "stream",
     "text": [
      "/usr/local/lib/python3.4/dist-packages/sklearn/utils/deprecation.py:77: DeprecationWarning: Function _ratio_float is deprecated; Use a float for 'ratio' is deprecated from version 0.2. The support will be removed in 0.4. Use a dict, str, or a callable instead.\n",
      "  warnings.warn(msg, category=DeprecationWarning)\n"
     ]
    }
   ],
   "source": [
    "sm = SMOTE(random_state=12, ratio = 1.0)\n",
    "train_X_res, train_y_res = sm.fit_sample(train_X, train_y)"
   ]
  },
  {
   "cell_type": "code",
   "execution_count": 27,
   "metadata": {},
   "outputs": [
    {
     "data": {
      "text/plain": [
       "(31065, 128)"
      ]
     },
     "execution_count": 27,
     "metadata": {},
     "output_type": "execute_result"
    }
   ],
   "source": [
    "train_X.shape"
   ]
  },
  {
   "cell_type": "code",
   "execution_count": 29,
   "metadata": {},
   "outputs": [],
   "source": [
    "train_X_res = pd.DataFrame(train_X_res, columns=train_X.columns)"
   ]
  },
  {
   "cell_type": "code",
   "execution_count": 30,
   "metadata": {},
   "outputs": [
    {
     "name": "stdout",
     "output_type": "stream",
     "text": [
      "Fitting 3 folds for each of 9 candidates, totalling 27 fits\n",
      "[CV] max_depth=20, n_estimators=100 ..................................\n",
      "[CV] ................... max_depth=20, n_estimators=100, total=   7.6s\n",
      "[CV] max_depth=20, n_estimators=100 ..................................\n"
     ]
    },
    {
     "name": "stderr",
     "output_type": "stream",
     "text": [
      "[Parallel(n_jobs=1)]: Done   1 out of   1 | elapsed:    8.2s remaining:    0.0s\n"
     ]
    },
    {
     "name": "stdout",
     "output_type": "stream",
     "text": [
      "[CV] ................... max_depth=20, n_estimators=100, total=   8.6s\n",
      "[CV] max_depth=20, n_estimators=100 ..................................\n",
      "[CV] ................... max_depth=20, n_estimators=100, total=   9.2s\n",
      "[CV] max_depth=20, n_estimators=300 ..................................\n",
      "[CV] ................... max_depth=20, n_estimators=300, total=  25.0s\n",
      "[CV] max_depth=20, n_estimators=300 ..................................\n",
      "[CV] ................... max_depth=20, n_estimators=300, total=  23.5s\n",
      "[CV] max_depth=20, n_estimators=300 ..................................\n",
      "[CV] ................... max_depth=20, n_estimators=300, total=  23.4s\n",
      "[CV] max_depth=20, n_estimators=500 ..................................\n",
      "[CV] ................... max_depth=20, n_estimators=500, total=  36.3s\n",
      "[CV] max_depth=20, n_estimators=500 ..................................\n",
      "[CV] ................... max_depth=20, n_estimators=500, total=  38.5s\n",
      "[CV] max_depth=20, n_estimators=500 ..................................\n",
      "[CV] ................... max_depth=20, n_estimators=500, total=  39.7s\n",
      "[CV] max_depth=40, n_estimators=100 ..................................\n",
      "[CV] ................... max_depth=40, n_estimators=100, total=   8.2s\n",
      "[CV] max_depth=40, n_estimators=100 ..................................\n",
      "[CV] ................... max_depth=40, n_estimators=100, total=  10.0s\n",
      "[CV] max_depth=40, n_estimators=100 ..................................\n",
      "[CV] ................... max_depth=40, n_estimators=100, total=   9.1s\n",
      "[CV] max_depth=40, n_estimators=300 ..................................\n",
      "[CV] ................... max_depth=40, n_estimators=300, total=  26.9s\n",
      "[CV] max_depth=40, n_estimators=300 ..................................\n",
      "[CV] ................... max_depth=40, n_estimators=300, total=  28.7s\n",
      "[CV] max_depth=40, n_estimators=300 ..................................\n",
      "[CV] ................... max_depth=40, n_estimators=300, total=  26.8s\n",
      "[CV] max_depth=40, n_estimators=500 ..................................\n",
      "[CV] ................... max_depth=40, n_estimators=500, total=  44.5s\n",
      "[CV] max_depth=40, n_estimators=500 ..................................\n",
      "[CV] ................... max_depth=40, n_estimators=500, total=  50.4s\n",
      "[CV] max_depth=40, n_estimators=500 ..................................\n",
      "[CV] ................... max_depth=40, n_estimators=500, total=  45.7s\n",
      "[CV] max_depth=60, n_estimators=100 ..................................\n",
      "[CV] ................... max_depth=60, n_estimators=100, total=   7.7s\n",
      "[CV] max_depth=60, n_estimators=100 ..................................\n",
      "[CV] ................... max_depth=60, n_estimators=100, total=   8.9s\n",
      "[CV] max_depth=60, n_estimators=100 ..................................\n",
      "[CV] ................... max_depth=60, n_estimators=100, total=   8.6s\n",
      "[CV] max_depth=60, n_estimators=300 ..................................\n",
      "[CV] ................... max_depth=60, n_estimators=300, total=  23.9s\n",
      "[CV] max_depth=60, n_estimators=300 ..................................\n",
      "[CV] ................... max_depth=60, n_estimators=300, total=  26.3s\n",
      "[CV] max_depth=60, n_estimators=300 ..................................\n",
      "[CV] ................... max_depth=60, n_estimators=300, total=  26.1s\n",
      "[CV] max_depth=60, n_estimators=500 ..................................\n",
      "[CV] ................... max_depth=60, n_estimators=500, total=  39.1s\n",
      "[CV] max_depth=60, n_estimators=500 ..................................\n",
      "[CV] ................... max_depth=60, n_estimators=500, total=  48.5s\n",
      "[CV] max_depth=60, n_estimators=500 ..................................\n",
      "[CV] ................... max_depth=60, n_estimators=500, total=  45.2s\n"
     ]
    },
    {
     "name": "stderr",
     "output_type": "stream",
     "text": [
      "[Parallel(n_jobs=1)]: Done  27 out of  27 | elapsed: 12.5min finished\n"
     ]
    },
    {
     "ename": "NameError",
     "evalue": "name 'best_est' is not defined",
     "output_type": "error",
     "traceback": [
      "\u001b[0;31m---------------------------------------------------------------------------\u001b[0m",
      "\u001b[0;31mNameError\u001b[0m                                 Traceback (most recent call last)",
      "\u001b[0;32m<ipython-input-30-1d2f7034fb19>\u001b[0m in \u001b[0;36m<module>\u001b[0;34m()\u001b[0m\n\u001b[1;32m     14\u001b[0m \u001b[0mrf\u001b[0m\u001b[0;34m.\u001b[0m\u001b[0mfit\u001b[0m\u001b[0;34m(\u001b[0m\u001b[0mtrain_X_res\u001b[0m\u001b[0;34m.\u001b[0m\u001b[0mdrop\u001b[0m\u001b[0;34m(\u001b[0m\u001b[0;34m\"CODE_GENDER_XNA\"\u001b[0m\u001b[0;34m,\u001b[0m \u001b[0maxis\u001b[0m\u001b[0;34m=\u001b[0m\u001b[0;36m1\u001b[0m\u001b[0;34m)\u001b[0m\u001b[0;34m,\u001b[0m \u001b[0mtrain_y_res\u001b[0m\u001b[0;34m)\u001b[0m\u001b[0;34m\u001b[0m\u001b[0m\n\u001b[1;32m     15\u001b[0m \u001b[0mbest_est_rf\u001b[0m \u001b[0;34m=\u001b[0m \u001b[0mrf\u001b[0m\u001b[0;34m.\u001b[0m\u001b[0mbest_estimator_\u001b[0m\u001b[0;34m\u001b[0m\u001b[0m\n\u001b[0;32m---> 16\u001b[0;31m \u001b[0mprint\u001b[0m\u001b[0;34m(\u001b[0m\u001b[0mbest_est\u001b[0m\u001b[0;34m)\u001b[0m\u001b[0;34m\u001b[0m\u001b[0m\n\u001b[0m\u001b[1;32m     17\u001b[0m \u001b[0mvalid_probs_rf\u001b[0m \u001b[0;34m=\u001b[0m \u001b[0mrf\u001b[0m\u001b[0;34m.\u001b[0m\u001b[0mpredict_proba\u001b[0m\u001b[0;34m(\u001b[0m\u001b[0mvalid_X\u001b[0m\u001b[0;34m)\u001b[0m\u001b[0;34m[\u001b[0m\u001b[0;34m:\u001b[0m\u001b[0;34m,\u001b[0m\u001b[0;36m1\u001b[0m\u001b[0;34m]\u001b[0m\u001b[0;34m\u001b[0m\u001b[0m\n\u001b[1;32m     18\u001b[0m \u001b[0mvalid_preds_rf\u001b[0m \u001b[0;34m=\u001b[0m \u001b[0mrf\u001b[0m\u001b[0;34m.\u001b[0m\u001b[0mpredict\u001b[0m\u001b[0;34m(\u001b[0m\u001b[0mvalid_X\u001b[0m\u001b[0;34m)\u001b[0m\u001b[0;34m\u001b[0m\u001b[0m\n",
      "\u001b[0;31mNameError\u001b[0m: name 'best_est' is not defined"
     ]
    }
   ],
   "source": [
    "### RF classifier\n",
    "params_rf={\n",
    "    'max_depth': [20, 40, 60], #[3,4,5,6,7,8,9], # 5 is good but takes too long in kaggle env\n",
    "    'n_estimators': [100, 300, 500], #[1000,2000,3000]\n",
    "}\n",
    "\n",
    "rf_clf = RandomForestClassifier()\n",
    "rf = GridSearchCV(rf_clf,\n",
    "                  params_rf,\n",
    "                  cv=3,\n",
    "                  scoring=\"roc_auc\",\n",
    "                  n_jobs=1,\n",
    "                  verbose=2)\n",
    "rf.fit(train_X_res.drop(\"CODE_GENDER_XNA\", axis=1), train_y_res)\n",
    "best_est_rf = rf.best_estimator_\n",
    "print(best_est_rf)\n",
    "valid_probs_rf = rf.predict_proba(valid_X)[:,1]\n",
    "valid_preds_rf = rf.predict(valid_X)"
   ]
  },
  {
   "cell_type": "code",
   "execution_count": 42,
   "metadata": {},
   "outputs": [],
   "source": [
    "# trainrf = RandomForestClassifier(bootstrap=True, class_weight=None, criterion='gini',\n",
    "#             max_depth=40, max_features='auto', max_leaf_nodes=None,\n",
    "#             min_impurity_decrease=0.0, min_impurity_split=None,\n",
    "#             min_samples_leaf=1, min_samples_split=2,\n",
    "#             min_weight_fraction_leaf=0.0, n_estimators=500, n_jobs=1,\n",
    "#             oob_score=False, random_state=None, verbose=0,\n",
    "#             warm_start=False)\n",
    "\n",
    "# trainrf.fit(train_X.drop(\"CODE_GENDER_XNA\", axis=1), train_y)\n",
    "# valid_probs_rf = trainrf.predict_proba(valid_X.drop(\"CODE_GENDER_XNA\", axis=1))[:,1]\n",
    "# valid_preds_rf = trainrf.predict(valid_X.drop(\"CODE_GENDER_XNA\", axis=1))"
   ]
  },
  {
   "cell_type": "code",
   "execution_count": 43,
   "metadata": {},
   "outputs": [
    {
     "name": "stdout",
     "output_type": "stream",
     "text": [
      "0.917213853483\n",
      "0.662401882494\n"
     ]
    }
   ],
   "source": [
    "print(accuracy_score(valid_y, valid_preds_rf))\n",
    "print(roc_auc_score(valid_y, valid_probs_rf))"
   ]
  },
  {
   "cell_type": "code",
   "execution_count": 44,
   "metadata": {},
   "outputs": [
    {
     "name": "stdout",
     "output_type": "stream",
     "text": [
      "Fitting 3 folds for each of 32 candidates, totalling 96 fits\n",
      "[CV] colsample_bytree=0.5, reg_alpha=0.01, subsample=0.6, max_depth=3, n_estimators=300 \n",
      "[CV]  colsample_bytree=0.5, reg_alpha=0.01, subsample=0.6, max_depth=3, n_estimators=300, total=  20.8s\n",
      "[CV] colsample_bytree=0.5, reg_alpha=0.01, subsample=0.6, max_depth=3, n_estimators=300 \n"
     ]
    },
    {
     "name": "stderr",
     "output_type": "stream",
     "text": [
      "[Parallel(n_jobs=1)]: Done   1 out of   1 | elapsed:   21.0s remaining:    0.0s\n"
     ]
    },
    {
     "name": "stdout",
     "output_type": "stream",
     "text": [
      "[CV]  colsample_bytree=0.5, reg_alpha=0.01, subsample=0.6, max_depth=3, n_estimators=300, total=  23.1s\n",
      "[CV] colsample_bytree=0.5, reg_alpha=0.01, subsample=0.6, max_depth=3, n_estimators=300 \n",
      "[CV]  colsample_bytree=0.5, reg_alpha=0.01, subsample=0.6, max_depth=3, n_estimators=300, total=  22.3s\n",
      "[CV] colsample_bytree=0.5, reg_alpha=0.01, subsample=0.8, max_depth=3, n_estimators=300 \n",
      "[CV]  colsample_bytree=0.5, reg_alpha=0.01, subsample=0.8, max_depth=3, n_estimators=300, total=  27.0s\n",
      "[CV] colsample_bytree=0.5, reg_alpha=0.01, subsample=0.8, max_depth=3, n_estimators=300 \n",
      "[CV]  colsample_bytree=0.5, reg_alpha=0.01, subsample=0.8, max_depth=3, n_estimators=300, total=  28.3s\n",
      "[CV] colsample_bytree=0.5, reg_alpha=0.01, subsample=0.8, max_depth=3, n_estimators=300 \n",
      "[CV]  colsample_bytree=0.5, reg_alpha=0.01, subsample=0.8, max_depth=3, n_estimators=300, total=  22.1s\n",
      "[CV] colsample_bytree=0.5, reg_alpha=0.05, subsample=0.6, max_depth=3, n_estimators=300 \n",
      "[CV]  colsample_bytree=0.5, reg_alpha=0.05, subsample=0.6, max_depth=3, n_estimators=300, total=  13.0s\n",
      "[CV] colsample_bytree=0.5, reg_alpha=0.05, subsample=0.6, max_depth=3, n_estimators=300 \n",
      "[CV]  colsample_bytree=0.5, reg_alpha=0.05, subsample=0.6, max_depth=3, n_estimators=300, total=  12.8s\n",
      "[CV] colsample_bytree=0.5, reg_alpha=0.05, subsample=0.6, max_depth=3, n_estimators=300 \n",
      "[CV]  colsample_bytree=0.5, reg_alpha=0.05, subsample=0.6, max_depth=3, n_estimators=300, total=  12.8s\n",
      "[CV] colsample_bytree=0.5, reg_alpha=0.05, subsample=0.8, max_depth=3, n_estimators=300 \n",
      "[CV]  colsample_bytree=0.5, reg_alpha=0.05, subsample=0.8, max_depth=3, n_estimators=300, total=  13.0s\n",
      "[CV] colsample_bytree=0.5, reg_alpha=0.05, subsample=0.8, max_depth=3, n_estimators=300 \n",
      "[CV]  colsample_bytree=0.5, reg_alpha=0.05, subsample=0.8, max_depth=3, n_estimators=300, total=  12.8s\n",
      "[CV] colsample_bytree=0.5, reg_alpha=0.05, subsample=0.8, max_depth=3, n_estimators=300 \n",
      "[CV]  colsample_bytree=0.5, reg_alpha=0.05, subsample=0.8, max_depth=3, n_estimators=300, total=  12.9s\n",
      "[CV] colsample_bytree=0.5, reg_alpha=0.01, subsample=0.6, max_depth=3, n_estimators=500 \n",
      "[CV]  colsample_bytree=0.5, reg_alpha=0.01, subsample=0.6, max_depth=3, n_estimators=500, total=  21.3s\n",
      "[CV] colsample_bytree=0.5, reg_alpha=0.01, subsample=0.6, max_depth=3, n_estimators=500 \n",
      "[CV]  colsample_bytree=0.5, reg_alpha=0.01, subsample=0.6, max_depth=3, n_estimators=500, total=  21.2s\n",
      "[CV] colsample_bytree=0.5, reg_alpha=0.01, subsample=0.6, max_depth=3, n_estimators=500 \n",
      "[CV]  colsample_bytree=0.5, reg_alpha=0.01, subsample=0.6, max_depth=3, n_estimators=500, total=  21.2s\n",
      "[CV] colsample_bytree=0.5, reg_alpha=0.01, subsample=0.8, max_depth=3, n_estimators=500 \n",
      "[CV]  colsample_bytree=0.5, reg_alpha=0.01, subsample=0.8, max_depth=3, n_estimators=500, total=  21.8s\n",
      "[CV] colsample_bytree=0.5, reg_alpha=0.01, subsample=0.8, max_depth=3, n_estimators=500 \n",
      "[CV]  colsample_bytree=0.5, reg_alpha=0.01, subsample=0.8, max_depth=3, n_estimators=500, total=  21.3s\n",
      "[CV] colsample_bytree=0.5, reg_alpha=0.01, subsample=0.8, max_depth=3, n_estimators=500 \n",
      "[CV]  colsample_bytree=0.5, reg_alpha=0.01, subsample=0.8, max_depth=3, n_estimators=500, total=  21.6s\n",
      "[CV] colsample_bytree=0.5, reg_alpha=0.05, subsample=0.6, max_depth=3, n_estimators=500 \n",
      "[CV]  colsample_bytree=0.5, reg_alpha=0.05, subsample=0.6, max_depth=3, n_estimators=500, total=  21.5s\n",
      "[CV] colsample_bytree=0.5, reg_alpha=0.05, subsample=0.6, max_depth=3, n_estimators=500 \n",
      "[CV]  colsample_bytree=0.5, reg_alpha=0.05, subsample=0.6, max_depth=3, n_estimators=500, total=  21.2s\n",
      "[CV] colsample_bytree=0.5, reg_alpha=0.05, subsample=0.6, max_depth=3, n_estimators=500 \n",
      "[CV]  colsample_bytree=0.5, reg_alpha=0.05, subsample=0.6, max_depth=3, n_estimators=500, total=  21.4s\n",
      "[CV] colsample_bytree=0.5, reg_alpha=0.05, subsample=0.8, max_depth=3, n_estimators=500 \n",
      "[CV]  colsample_bytree=0.5, reg_alpha=0.05, subsample=0.8, max_depth=3, n_estimators=500, total=  22.0s\n",
      "[CV] colsample_bytree=0.5, reg_alpha=0.05, subsample=0.8, max_depth=3, n_estimators=500 \n",
      "[CV]  colsample_bytree=0.5, reg_alpha=0.05, subsample=0.8, max_depth=3, n_estimators=500, total=  21.7s\n",
      "[CV] colsample_bytree=0.5, reg_alpha=0.05, subsample=0.8, max_depth=3, n_estimators=500 \n",
      "[CV]  colsample_bytree=0.5, reg_alpha=0.05, subsample=0.8, max_depth=3, n_estimators=500, total=  21.6s\n",
      "[CV] colsample_bytree=0.5, reg_alpha=0.01, subsample=0.6, max_depth=5, n_estimators=300 \n",
      "[CV]  colsample_bytree=0.5, reg_alpha=0.01, subsample=0.6, max_depth=5, n_estimators=300, total=  19.5s\n",
      "[CV] colsample_bytree=0.5, reg_alpha=0.01, subsample=0.6, max_depth=5, n_estimators=300 \n",
      "[CV]  colsample_bytree=0.5, reg_alpha=0.01, subsample=0.6, max_depth=5, n_estimators=300, total=  20.2s\n",
      "[CV] colsample_bytree=0.5, reg_alpha=0.01, subsample=0.6, max_depth=5, n_estimators=300 \n",
      "[CV]  colsample_bytree=0.5, reg_alpha=0.01, subsample=0.6, max_depth=5, n_estimators=300, total=  20.3s\n",
      "[CV] colsample_bytree=0.5, reg_alpha=0.01, subsample=0.8, max_depth=5, n_estimators=300 \n",
      "[CV]  colsample_bytree=0.5, reg_alpha=0.01, subsample=0.8, max_depth=5, n_estimators=300, total=  20.4s\n",
      "[CV] colsample_bytree=0.5, reg_alpha=0.01, subsample=0.8, max_depth=5, n_estimators=300 \n",
      "[CV]  colsample_bytree=0.5, reg_alpha=0.01, subsample=0.8, max_depth=5, n_estimators=300, total=  20.6s\n",
      "[CV] colsample_bytree=0.5, reg_alpha=0.01, subsample=0.8, max_depth=5, n_estimators=300 \n",
      "[CV]  colsample_bytree=0.5, reg_alpha=0.01, subsample=0.8, max_depth=5, n_estimators=300, total=  20.7s\n",
      "[CV] colsample_bytree=0.5, reg_alpha=0.05, subsample=0.6, max_depth=5, n_estimators=300 \n",
      "[CV]  colsample_bytree=0.5, reg_alpha=0.05, subsample=0.6, max_depth=5, n_estimators=300, total=  19.6s\n",
      "[CV] colsample_bytree=0.5, reg_alpha=0.05, subsample=0.6, max_depth=5, n_estimators=300 \n",
      "[CV]  colsample_bytree=0.5, reg_alpha=0.05, subsample=0.6, max_depth=5, n_estimators=300, total=  27.6s\n",
      "[CV] colsample_bytree=0.5, reg_alpha=0.05, subsample=0.6, max_depth=5, n_estimators=300 \n",
      "[CV]  colsample_bytree=0.5, reg_alpha=0.05, subsample=0.6, max_depth=5, n_estimators=300, total=  41.0s\n",
      "[CV] colsample_bytree=0.5, reg_alpha=0.05, subsample=0.8, max_depth=5, n_estimators=300 \n",
      "[CV]  colsample_bytree=0.5, reg_alpha=0.05, subsample=0.8, max_depth=5, n_estimators=300, total=  41.7s\n",
      "[CV] colsample_bytree=0.5, reg_alpha=0.05, subsample=0.8, max_depth=5, n_estimators=300 \n",
      "[CV]  colsample_bytree=0.5, reg_alpha=0.05, subsample=0.8, max_depth=5, n_estimators=300, total=  49.0s\n",
      "[CV] colsample_bytree=0.5, reg_alpha=0.05, subsample=0.8, max_depth=5, n_estimators=300 \n",
      "[CV]  colsample_bytree=0.5, reg_alpha=0.05, subsample=0.8, max_depth=5, n_estimators=300, total=  35.6s\n",
      "[CV] colsample_bytree=0.5, reg_alpha=0.01, subsample=0.6, max_depth=5, n_estimators=500 \n",
      "[CV]  colsample_bytree=0.5, reg_alpha=0.01, subsample=0.6, max_depth=5, n_estimators=500, total=  47.7s\n",
      "[CV] colsample_bytree=0.5, reg_alpha=0.01, subsample=0.6, max_depth=5, n_estimators=500 \n",
      "[CV]  colsample_bytree=0.5, reg_alpha=0.01, subsample=0.6, max_depth=5, n_estimators=500, total=  44.7s\n",
      "[CV] colsample_bytree=0.5, reg_alpha=0.01, subsample=0.6, max_depth=5, n_estimators=500 \n",
      "[CV]  colsample_bytree=0.5, reg_alpha=0.01, subsample=0.6, max_depth=5, n_estimators=500, total=  44.1s\n",
      "[CV] colsample_bytree=0.5, reg_alpha=0.01, subsample=0.8, max_depth=5, n_estimators=500 \n",
      "[CV]  colsample_bytree=0.5, reg_alpha=0.01, subsample=0.8, max_depth=5, n_estimators=500, total=  41.1s\n",
      "[CV] colsample_bytree=0.5, reg_alpha=0.01, subsample=0.8, max_depth=5, n_estimators=500 \n",
      "[CV]  colsample_bytree=0.5, reg_alpha=0.01, subsample=0.8, max_depth=5, n_estimators=500, total=  52.7s\n",
      "[CV] colsample_bytree=0.5, reg_alpha=0.01, subsample=0.8, max_depth=5, n_estimators=500 \n",
      "[CV]  colsample_bytree=0.5, reg_alpha=0.01, subsample=0.8, max_depth=5, n_estimators=500, total=  52.0s\n",
      "[CV] colsample_bytree=0.5, reg_alpha=0.05, subsample=0.6, max_depth=5, n_estimators=500 \n",
      "[CV]  colsample_bytree=0.5, reg_alpha=0.05, subsample=0.6, max_depth=5, n_estimators=500, total=  42.0s\n",
      "[CV] colsample_bytree=0.5, reg_alpha=0.05, subsample=0.6, max_depth=5, n_estimators=500 \n",
      "[CV]  colsample_bytree=0.5, reg_alpha=0.05, subsample=0.6, max_depth=5, n_estimators=500, total=  44.3s\n",
      "[CV] colsample_bytree=0.5, reg_alpha=0.05, subsample=0.6, max_depth=5, n_estimators=500 \n"
     ]
    },
    {
     "name": "stdout",
     "output_type": "stream",
     "text": [
      "[CV]  colsample_bytree=0.5, reg_alpha=0.05, subsample=0.6, max_depth=5, n_estimators=500, total=  55.6s\n",
      "[CV] colsample_bytree=0.5, reg_alpha=0.05, subsample=0.8, max_depth=5, n_estimators=500 \n",
      "[CV]  colsample_bytree=0.5, reg_alpha=0.05, subsample=0.8, max_depth=5, n_estimators=500, total=  44.4s\n",
      "[CV] colsample_bytree=0.5, reg_alpha=0.05, subsample=0.8, max_depth=5, n_estimators=500 \n",
      "[CV]  colsample_bytree=0.5, reg_alpha=0.05, subsample=0.8, max_depth=5, n_estimators=500, total=  44.4s\n",
      "[CV] colsample_bytree=0.5, reg_alpha=0.05, subsample=0.8, max_depth=5, n_estimators=500 \n",
      "[CV]  colsample_bytree=0.5, reg_alpha=0.05, subsample=0.8, max_depth=5, n_estimators=500, total=  41.0s\n",
      "[CV] colsample_bytree=0.7, reg_alpha=0.01, subsample=0.6, max_depth=3, n_estimators=300 \n",
      "[CV]  colsample_bytree=0.7, reg_alpha=0.01, subsample=0.6, max_depth=3, n_estimators=300, total=  22.0s\n",
      "[CV] colsample_bytree=0.7, reg_alpha=0.01, subsample=0.6, max_depth=3, n_estimators=300 \n",
      "[CV]  colsample_bytree=0.7, reg_alpha=0.01, subsample=0.6, max_depth=3, n_estimators=300, total=  27.8s\n",
      "[CV] colsample_bytree=0.7, reg_alpha=0.01, subsample=0.6, max_depth=3, n_estimators=300 \n",
      "[CV]  colsample_bytree=0.7, reg_alpha=0.01, subsample=0.6, max_depth=3, n_estimators=300, total=  24.5s\n",
      "[CV] colsample_bytree=0.7, reg_alpha=0.01, subsample=0.8, max_depth=3, n_estimators=300 \n",
      "[CV]  colsample_bytree=0.7, reg_alpha=0.01, subsample=0.8, max_depth=3, n_estimators=300, total=  22.0s\n",
      "[CV] colsample_bytree=0.7, reg_alpha=0.01, subsample=0.8, max_depth=3, n_estimators=300 \n",
      "[CV]  colsample_bytree=0.7, reg_alpha=0.01, subsample=0.8, max_depth=3, n_estimators=300, total=  21.8s\n",
      "[CV] colsample_bytree=0.7, reg_alpha=0.01, subsample=0.8, max_depth=3, n_estimators=300 \n",
      "[CV]  colsample_bytree=0.7, reg_alpha=0.01, subsample=0.8, max_depth=3, n_estimators=300, total=  20.9s\n",
      "[CV] colsample_bytree=0.7, reg_alpha=0.05, subsample=0.6, max_depth=3, n_estimators=300 \n",
      "[CV]  colsample_bytree=0.7, reg_alpha=0.05, subsample=0.6, max_depth=3, n_estimators=300, total=  20.9s\n",
      "[CV] colsample_bytree=0.7, reg_alpha=0.05, subsample=0.6, max_depth=3, n_estimators=300 \n",
      "[CV]  colsample_bytree=0.7, reg_alpha=0.05, subsample=0.6, max_depth=3, n_estimators=300, total=  21.0s\n",
      "[CV] colsample_bytree=0.7, reg_alpha=0.05, subsample=0.6, max_depth=3, n_estimators=300 \n",
      "[CV]  colsample_bytree=0.7, reg_alpha=0.05, subsample=0.6, max_depth=3, n_estimators=300, total=  20.9s\n",
      "[CV] colsample_bytree=0.7, reg_alpha=0.05, subsample=0.8, max_depth=3, n_estimators=300 \n",
      "[CV]  colsample_bytree=0.7, reg_alpha=0.05, subsample=0.8, max_depth=3, n_estimators=300, total=  21.4s\n",
      "[CV] colsample_bytree=0.7, reg_alpha=0.05, subsample=0.8, max_depth=3, n_estimators=300 \n",
      "[CV]  colsample_bytree=0.7, reg_alpha=0.05, subsample=0.8, max_depth=3, n_estimators=300, total=  21.3s\n",
      "[CV] colsample_bytree=0.7, reg_alpha=0.05, subsample=0.8, max_depth=3, n_estimators=300 \n",
      "[CV]  colsample_bytree=0.7, reg_alpha=0.05, subsample=0.8, max_depth=3, n_estimators=300, total=  21.0s\n",
      "[CV] colsample_bytree=0.7, reg_alpha=0.01, subsample=0.6, max_depth=3, n_estimators=500 \n",
      "[CV]  colsample_bytree=0.7, reg_alpha=0.01, subsample=0.6, max_depth=3, n_estimators=500, total=  49.6s\n",
      "[CV] colsample_bytree=0.7, reg_alpha=0.01, subsample=0.6, max_depth=3, n_estimators=500 \n",
      "[CV]  colsample_bytree=0.7, reg_alpha=0.01, subsample=0.6, max_depth=3, n_estimators=500, total=  36.4s\n",
      "[CV] colsample_bytree=0.7, reg_alpha=0.01, subsample=0.6, max_depth=3, n_estimators=500 \n",
      "[CV]  colsample_bytree=0.7, reg_alpha=0.01, subsample=0.6, max_depth=3, n_estimators=500, total=  35.5s\n",
      "[CV] colsample_bytree=0.7, reg_alpha=0.01, subsample=0.8, max_depth=3, n_estimators=500 \n",
      "[CV]  colsample_bytree=0.7, reg_alpha=0.01, subsample=0.8, max_depth=3, n_estimators=500, total=  32.8s\n",
      "[CV] colsample_bytree=0.7, reg_alpha=0.01, subsample=0.8, max_depth=3, n_estimators=500 \n",
      "[CV]  colsample_bytree=0.7, reg_alpha=0.01, subsample=0.8, max_depth=3, n_estimators=500, total=  38.2s\n",
      "[CV] colsample_bytree=0.7, reg_alpha=0.01, subsample=0.8, max_depth=3, n_estimators=500 \n",
      "[CV]  colsample_bytree=0.7, reg_alpha=0.01, subsample=0.8, max_depth=3, n_estimators=500, total=  40.0s\n",
      "[CV] colsample_bytree=0.7, reg_alpha=0.05, subsample=0.6, max_depth=3, n_estimators=500 \n",
      "[CV]  colsample_bytree=0.7, reg_alpha=0.05, subsample=0.6, max_depth=3, n_estimators=500, total=  36.5s\n",
      "[CV] colsample_bytree=0.7, reg_alpha=0.05, subsample=0.6, max_depth=3, n_estimators=500 \n",
      "[CV]  colsample_bytree=0.7, reg_alpha=0.05, subsample=0.6, max_depth=3, n_estimators=500, total=  35.6s\n",
      "[CV] colsample_bytree=0.7, reg_alpha=0.05, subsample=0.6, max_depth=3, n_estimators=500 \n",
      "[CV]  colsample_bytree=0.7, reg_alpha=0.05, subsample=0.6, max_depth=3, n_estimators=500, total=  36.8s\n",
      "[CV] colsample_bytree=0.7, reg_alpha=0.05, subsample=0.8, max_depth=3, n_estimators=500 \n",
      "[CV]  colsample_bytree=0.7, reg_alpha=0.05, subsample=0.8, max_depth=3, n_estimators=500, total=  37.5s\n",
      "[CV] colsample_bytree=0.7, reg_alpha=0.05, subsample=0.8, max_depth=3, n_estimators=500 \n",
      "[CV]  colsample_bytree=0.7, reg_alpha=0.05, subsample=0.8, max_depth=3, n_estimators=500, total=  38.6s\n",
      "[CV] colsample_bytree=0.7, reg_alpha=0.05, subsample=0.8, max_depth=3, n_estimators=500 \n",
      "[CV]  colsample_bytree=0.7, reg_alpha=0.05, subsample=0.8, max_depth=3, n_estimators=500, total=  35.9s\n",
      "[CV] colsample_bytree=0.7, reg_alpha=0.01, subsample=0.6, max_depth=5, n_estimators=300 \n",
      "[CV]  colsample_bytree=0.7, reg_alpha=0.01, subsample=0.6, max_depth=5, n_estimators=300, total=  33.5s\n",
      "[CV] colsample_bytree=0.7, reg_alpha=0.01, subsample=0.6, max_depth=5, n_estimators=300 \n",
      "[CV]  colsample_bytree=0.7, reg_alpha=0.01, subsample=0.6, max_depth=5, n_estimators=300, total=  35.0s\n",
      "[CV] colsample_bytree=0.7, reg_alpha=0.01, subsample=0.6, max_depth=5, n_estimators=300 \n",
      "[CV]  colsample_bytree=0.7, reg_alpha=0.01, subsample=0.6, max_depth=5, n_estimators=300, total=  32.2s\n",
      "[CV] colsample_bytree=0.7, reg_alpha=0.01, subsample=0.8, max_depth=5, n_estimators=300 \n",
      "[CV]  colsample_bytree=0.7, reg_alpha=0.01, subsample=0.8, max_depth=5, n_estimators=300, total=  33.9s\n",
      "[CV] colsample_bytree=0.7, reg_alpha=0.01, subsample=0.8, max_depth=5, n_estimators=300 \n",
      "[CV]  colsample_bytree=0.7, reg_alpha=0.01, subsample=0.8, max_depth=5, n_estimators=300, total=  34.0s\n",
      "[CV] colsample_bytree=0.7, reg_alpha=0.01, subsample=0.8, max_depth=5, n_estimators=300 \n",
      "[CV]  colsample_bytree=0.7, reg_alpha=0.01, subsample=0.8, max_depth=5, n_estimators=300, total=  32.3s\n",
      "[CV] colsample_bytree=0.7, reg_alpha=0.05, subsample=0.6, max_depth=5, n_estimators=300 \n",
      "[CV]  colsample_bytree=0.7, reg_alpha=0.05, subsample=0.6, max_depth=5, n_estimators=300, total=  30.7s\n",
      "[CV] colsample_bytree=0.7, reg_alpha=0.05, subsample=0.6, max_depth=5, n_estimators=300 \n",
      "[CV]  colsample_bytree=0.7, reg_alpha=0.05, subsample=0.6, max_depth=5, n_estimators=300, total=  32.1s\n",
      "[CV] colsample_bytree=0.7, reg_alpha=0.05, subsample=0.6, max_depth=5, n_estimators=300 \n",
      "[CV]  colsample_bytree=0.7, reg_alpha=0.05, subsample=0.6, max_depth=5, n_estimators=300, total=  32.3s\n",
      "[CV] colsample_bytree=0.7, reg_alpha=0.05, subsample=0.8, max_depth=5, n_estimators=300 \n",
      "[CV]  colsample_bytree=0.7, reg_alpha=0.05, subsample=0.8, max_depth=5, n_estimators=300, total=  32.4s\n",
      "[CV] colsample_bytree=0.7, reg_alpha=0.05, subsample=0.8, max_depth=5, n_estimators=300 \n",
      "[CV]  colsample_bytree=0.7, reg_alpha=0.05, subsample=0.8, max_depth=5, n_estimators=300, total=  33.1s\n",
      "[CV] colsample_bytree=0.7, reg_alpha=0.05, subsample=0.8, max_depth=5, n_estimators=300 \n",
      "[CV]  colsample_bytree=0.7, reg_alpha=0.05, subsample=0.8, max_depth=5, n_estimators=300, total=  32.4s\n",
      "[CV] colsample_bytree=0.7, reg_alpha=0.01, subsample=0.6, max_depth=5, n_estimators=500 \n",
      "[CV]  colsample_bytree=0.7, reg_alpha=0.01, subsample=0.6, max_depth=5, n_estimators=500, total=  50.1s\n",
      "[CV] colsample_bytree=0.7, reg_alpha=0.01, subsample=0.6, max_depth=5, n_estimators=500 \n",
      "[CV]  colsample_bytree=0.7, reg_alpha=0.01, subsample=0.6, max_depth=5, n_estimators=500, total=  53.0s\n",
      "[CV] colsample_bytree=0.7, reg_alpha=0.01, subsample=0.6, max_depth=5, n_estimators=500 \n",
      "[CV]  colsample_bytree=0.7, reg_alpha=0.01, subsample=0.6, max_depth=5, n_estimators=500, total= 1.0min\n",
      "[CV] colsample_bytree=0.7, reg_alpha=0.01, subsample=0.8, max_depth=5, n_estimators=500 \n"
     ]
    },
    {
     "name": "stdout",
     "output_type": "stream",
     "text": [
      "[CV]  colsample_bytree=0.7, reg_alpha=0.01, subsample=0.8, max_depth=5, n_estimators=500, total=  54.6s\n",
      "[CV] colsample_bytree=0.7, reg_alpha=0.01, subsample=0.8, max_depth=5, n_estimators=500 \n",
      "[CV]  colsample_bytree=0.7, reg_alpha=0.01, subsample=0.8, max_depth=5, n_estimators=500, total=  57.4s\n",
      "[CV] colsample_bytree=0.7, reg_alpha=0.01, subsample=0.8, max_depth=5, n_estimators=500 \n",
      "[CV]  colsample_bytree=0.7, reg_alpha=0.01, subsample=0.8, max_depth=5, n_estimators=500, total=  55.6s\n",
      "[CV] colsample_bytree=0.7, reg_alpha=0.05, subsample=0.6, max_depth=5, n_estimators=500 \n",
      "[CV]  colsample_bytree=0.7, reg_alpha=0.05, subsample=0.6, max_depth=5, n_estimators=500, total=  41.2s\n",
      "[CV] colsample_bytree=0.7, reg_alpha=0.05, subsample=0.6, max_depth=5, n_estimators=500 \n",
      "[CV]  colsample_bytree=0.7, reg_alpha=0.05, subsample=0.6, max_depth=5, n_estimators=500, total=  43.5s\n",
      "[CV] colsample_bytree=0.7, reg_alpha=0.05, subsample=0.6, max_depth=5, n_estimators=500 \n",
      "[CV]  colsample_bytree=0.7, reg_alpha=0.05, subsample=0.6, max_depth=5, n_estimators=500, total=  43.5s\n",
      "[CV] colsample_bytree=0.7, reg_alpha=0.05, subsample=0.8, max_depth=5, n_estimators=500 \n",
      "[CV]  colsample_bytree=0.7, reg_alpha=0.05, subsample=0.8, max_depth=5, n_estimators=500, total=  42.0s\n",
      "[CV] colsample_bytree=0.7, reg_alpha=0.05, subsample=0.8, max_depth=5, n_estimators=500 \n",
      "[CV]  colsample_bytree=0.7, reg_alpha=0.05, subsample=0.8, max_depth=5, n_estimators=500, total=  43.9s\n",
      "[CV] colsample_bytree=0.7, reg_alpha=0.05, subsample=0.8, max_depth=5, n_estimators=500 \n",
      "[CV]  colsample_bytree=0.7, reg_alpha=0.05, subsample=0.8, max_depth=5, n_estimators=500, total=  43.8s\n"
     ]
    },
    {
     "name": "stderr",
     "output_type": "stream",
     "text": [
      "[Parallel(n_jobs=1)]: Done  96 out of  96 | elapsed: 51.8min finished\n"
     ]
    },
    {
     "name": "stdout",
     "output_type": "stream",
     "text": [
      "XGBClassifier(base_score=0.5, colsample_bylevel=1, colsample_bytree=0.7,\n",
      "       gamma=0, learning_rate=0.1, max_delta_step=0, max_depth=5,\n",
      "       min_child_weight=1, missing=9999999999, n_estimators=500,\n",
      "       nthread=-1, objective='binary:logistic', reg_alpha=0.05,\n",
      "       reg_lambda=1, scale_pos_weight=1, seed=0, silent=True,\n",
      "       subsample=0.6)\n"
     ]
    }
   ],
   "source": [
    "params={\n",
    "    'max_depth': [3, 5], #[3,4,5,6,7,8,9], # 5 is good but takes too long in kaggle env\n",
    "    'subsample': [0.6, 0.8], #[0.4,0.5,0.6,0.7,0.8,0.9,1.0],\n",
    "    'colsample_bytree': [0.5, 0.7], #[0.5,0.6,0.7,0.8],\n",
    "    'n_estimators': [300, 500], #[1000,2000,3000]\n",
    "    'reg_alpha': [0.01, 0.05] #[0.01, 0.02, 0.03, 0.04]\n",
    "}\n",
    "\n",
    "xgb_clf = xgb.XGBClassifier(missing=9999999999)\n",
    "rs = GridSearchCV(xgb_clf,\n",
    "                  params,\n",
    "                  cv=3,\n",
    "                  scoring=\"roc_auc\",\n",
    "                  n_jobs=1,\n",
    "                  verbose=2)\n",
    "rs.fit(train_X_res.drop(\"CODE_GENDER_XNA\", axis=1), train_y_res)\n",
    "best_est = rs.best_estimator_\n",
    "print(best_est)"
   ]
  },
  {
   "cell_type": "code",
   "execution_count": null,
   "metadata": {
    "collapsed": true
   },
   "outputs": [],
   "source": [
    "# xgb_single = xgb.XGBClassifier(base_score=0.5, colsample_bylevel=1, colsample_bytree=0.5,\n",
    "#        gamma=0, learning_rate=0.1, max_delta_step=0, max_depth=3,\n",
    "#        min_child_weight=1, missing=9999999999, n_estimators=300,\n",
    "#        nthread=-1, objective='binary:logistic', reg_alpha=0.05,\n",
    "#        reg_lambda=1, scale_pos_weight=1, seed=0, silent=True,\n",
    "#        subsample=0.8)\n",
    "\n",
    "# xgb_single.fit(train_X, train_y)\n",
    "# valid_probs_xgb_single = xgb_single.predict_proba(valid_X)[:,1]\n",
    "# valid_preds_xgb_single = xgb_single.predict(valid_X)\n",
    "# print(accuracy_score(valid_y, valid_preds_xgb_single))\n",
    "# print(roc_auc_score(valid_y, valid_probs_xgb_single))"
   ]
  },
  {
   "cell_type": "code",
   "execution_count": 45,
   "metadata": {},
   "outputs": [
    {
     "name": "stdout",
     "output_type": "stream",
     "text": [
      "0.91489635638\n",
      "0.67467142806\n"
     ]
    }
   ],
   "source": [
    "valid_probs_rs = rs.predict_proba(valid_X.drop(\"CODE_GENDER_XNA\", axis=1))[:,1]\n",
    "valid_preds_rs= rs.predict(valid_X.drop(\"CODE_GENDER_XNA\", axis=1))\n",
    "print(accuracy_score(valid_y, valid_preds_rs))\n",
    "print(roc_auc_score(valid_y, valid_probs_rs))"
   ]
  },
  {
   "cell_type": "code",
   "execution_count": 46,
   "metadata": {
    "collapsed": true
   },
   "outputs": [],
   "source": [
    "### Prepare submission file and save to disk\n",
    "result_df = pd.DataFrame({'SK_ID_CURR':test.SK_ID_CURR.values, \"TARGET\":rs.predict_proba(test_feats)[:,1]})\n",
    "result_df.to_csv(\"submimssion_3_xgboost_gridsearch_allfeatures_smote.csv\", index=False)"
   ]
  },
  {
   "cell_type": "code",
   "execution_count": null,
   "metadata": {
    "collapsed": true
   },
   "outputs": [],
   "source": []
  },
  {
   "cell_type": "code",
   "execution_count": null,
   "metadata": {
    "collapsed": true
   },
   "outputs": [],
   "source": []
  }
 ],
 "metadata": {
  "kernelspec": {
   "display_name": "Python 3",
   "language": "python",
   "name": "python3"
  },
  "language_info": {
   "codemirror_mode": {
    "name": "ipython",
    "version": 3
   },
   "file_extension": ".py",
   "mimetype": "text/x-python",
   "name": "python",
   "nbconvert_exporter": "python",
   "pygments_lexer": "ipython3",
   "version": "3.4.3"
  }
 },
 "nbformat": 4,
 "nbformat_minor": 2
}
