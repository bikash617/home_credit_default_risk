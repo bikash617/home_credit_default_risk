{
 "cells": [
  {
   "cell_type": "code",
   "execution_count": 72,
   "metadata": {},
   "outputs": [],
   "source": [
    "import pandas as pd\n",
    "import numpy as np\n",
    "from sklearn.preprocessing import StandardScaler\n",
    "from sklearn.ensemble import RandomForestClassifier\n",
    "from sklearn.cross_validation import train_test_split\n",
    "from sklearn.metrics import accuracy_score, roc_auc_score\n",
    "import xgboost as xgb\n",
    "from sklearn.model_selection import GridSearchCV\n",
    "import lightgbm as lgb\n",
    "import seaborn as sns\n",
    "import warnings\n",
    "%matplotlib inline\n",
    "warnings.filterwarnings('ignore')"
   ]
  },
  {
   "cell_type": "code",
   "execution_count": 73,
   "metadata": {},
   "outputs": [],
   "source": [
    "full_train_orig = pd.read_csv(\"../Data/application_train.csv\")\n",
    "test =  pd.read_csv(\"../Data/application_test.csv\")"
   ]
  },
  {
   "cell_type": "code",
   "execution_count": 74,
   "metadata": {},
   "outputs": [
    {
     "data": {
      "text/plain": [
       "(48744, 121)"
      ]
     },
     "execution_count": 74,
     "metadata": {},
     "output_type": "execute_result"
    }
   ],
   "source": [
    "test.shape"
   ]
  },
  {
   "cell_type": "code",
   "execution_count": 75,
   "metadata": {
    "collapsed": true
   },
   "outputs": [],
   "source": [
    "bureau = pd.read_csv(\"../Data/bureau.csv\")\n",
    "bureau_gb = bureau.groupby(\"SK_ID_CURR\")[[\"DAYS_CREDIT\", \"CREDIT_DAY_OVERDUE\", \"CNT_CREDIT_PROLONG\", \"DAYS_CREDIT_UPDATE\"\n",
    "                             , \"AMT_CREDIT_SUM_OVERDUE\", \"AMT_CREDIT_SUM\"]].mean().reset_index()"
   ]
  },
  {
   "cell_type": "code",
   "execution_count": 76,
   "metadata": {
    "collapsed": true
   },
   "outputs": [],
   "source": [
    "full_train_orig = pd.merge(full_train_orig, bureau_gb, how=\"inner\", on=\"SK_ID_CURR\")\n",
    "test = pd.merge(test, bureau_gb, how=\"left\", on=\"SK_ID_CURR\")"
   ]
  },
  {
   "cell_type": "code",
   "execution_count": 77,
   "metadata": {
    "collapsed": true
   },
   "outputs": [],
   "source": [
    "'''\n",
    "Removing columns with more than 100 null values (filters out 62 columns out of 122 columns)\n",
    "And not useful (based on EDA) which removes reduces feature size to 43)\n",
    "'''\n",
    "\n",
    "null_columns = full_train_orig.columns[full_train_orig.isnull().sum().values > 10000].values.tolist()\n",
    "useless_columns = [\"FLAG_DOCUMENT_2\", \"FLAG_DOCUMENT_4\", \"FLAG_DOCUMENT_5\", \"FLAG_DOCUMENT_7\"\n",
    "                  ,'FLAG_DOCUMENT_9','FLAG_DOCUMENT_10', 'FLAG_DOCUMENT_11', 'FLAG_DOCUMENT_12',\n",
    "       'FLAG_DOCUMENT_13', 'FLAG_DOCUMENT_14', 'FLAG_DOCUMENT_15',\n",
    "       'FLAG_DOCUMENT_16', 'FLAG_DOCUMENT_17', 'FLAG_DOCUMENT_18',\n",
    "       'FLAG_DOCUMENT_19', 'FLAG_DOCUMENT_20', 'FLAG_DOCUMENT_21']"
   ]
  },
  {
   "cell_type": "code",
   "execution_count": 78,
   "metadata": {
    "collapsed": true
   },
   "outputs": [],
   "source": [
    "### Manually removing columns which doesn't make sense (based on EDA)\n",
    "full_train = full_train_orig.drop(null_columns+useless_columns, axis = 1)"
   ]
  },
  {
   "cell_type": "code",
   "execution_count": 79,
   "metadata": {
    "collapsed": true
   },
   "outputs": [],
   "source": [
    "#cat_columns_all = set(full_train.columns) - set(full_train._get_numeric_data().columns.tolist())"
   ]
  },
  {
   "cell_type": "code",
   "execution_count": 80,
   "metadata": {
    "collapsed": true
   },
   "outputs": [],
   "source": [
    "# cat_feats = [\"CODE_GENDER\", \"NAME_CONTRACT_TYPE\", \"FLAG_OWN_CAR\", \"FLAG_OWN_REALTY\", \n",
    "#              \"NAME_INCOME_TYPE\", \"NAME_EDUCATION_TYPE\", \"NAME_FAMILY_STATUS\", \"OCCUPATION_TYPE\",\n",
    "#              \"NAME_HOUSING_TYPE\", \"FLAG_DOCUMENT_3\"]\n",
    "# num_feats = [\"AMT_INCOME_TOTAL\", \"CNT_CHILDREN\", \"AMT_CREDIT\", \"AMT_ANNUITY\", \"AMT_GOODS_PRICE\", \"DAYS_BIRTH\",\n",
    "#              \"DAYS_EMPLOYED\", \"DAYS_REGISTRATION\", \"DAYS_LAST_PHONE_CHANGE\", \"AMT_REQ_CREDIT_BUREAU_YEAR\", \n",
    "#             \"REGION_POPULATION_RELATIVE\", ]"
   ]
  },
  {
   "cell_type": "code",
   "execution_count": 81,
   "metadata": {},
   "outputs": [],
   "source": [
    "full_train_y = full_train.TARGET.values\n",
    "full_train = full_train.drop([\"TARGET\"], axis = 1)\n",
    "full_train = full_train.set_index(\"SK_ID_CURR\")\n",
    "num_feats = full_train._get_numeric_data().columns.values.tolist()\n",
    "cat_feats = list(set(full_train.columns.values) - set(num_feats))"
   ]
  },
  {
   "cell_type": "code",
   "execution_count": 82,
   "metadata": {
    "collapsed": true
   },
   "outputs": [],
   "source": [
    "## Categorical Features - Train\n",
    "train_cat= full_train[cat_feats]\n",
    "train_cat = pd.get_dummies(train_cat)\n",
    "\n",
    "## Numerical Features - Train\n",
    "train_num = full_train[num_feats]\n",
    "# train[num_feats].isnull().any() # Checking if the column has any null value\n",
    "train_num = train_num.fillna((train_num.mean()))\n",
    "\n",
    "## Categorical Features - Test\n",
    "test_cat = test[cat_feats]\n",
    "test_cat = pd.get_dummies(test_cat)\n",
    "\n",
    "## Numerical Features - Test\n",
    "test_num = test[num_feats]\n",
    "test_num = test_num.fillna(test_num.mean())\n",
    "\n",
    "# ## Standardize numerical features\n",
    "# std = StandardScaler().fit(train_num)\n",
    "# train_num = std.transform(train_num)\n",
    "# test_num = std.transform(test_num)\n"
   ]
  },
  {
   "cell_type": "code",
   "execution_count": 83,
   "metadata": {
    "collapsed": true
   },
   "outputs": [],
   "source": [
    "full_train_feats = pd.concat([train_num, train_cat], axis=1)\n",
    "test_feats = pd.concat([test_num, test_cat], axis=1)"
   ]
  },
  {
   "cell_type": "code",
   "execution_count": 84,
   "metadata": {
    "collapsed": true
   },
   "outputs": [],
   "source": [
    "full_train_feats = full_train_feats.apply(lambda x: x.fillna(x.mean()),axis=0)\n",
    "test_feats = test_feats.apply(lambda x: x.fillna(x.mean()),axis=0)"
   ]
  },
  {
   "cell_type": "code",
   "execution_count": 85,
   "metadata": {
    "collapsed": true
   },
   "outputs": [],
   "source": [
    "train_X, valid_X, train_y, valid_y = train_test_split(full_train_feats, full_train_y, train_size = 0.8, stratify=full_train_y)"
   ]
  },
  {
   "cell_type": "markdown",
   "metadata": {},
   "source": [
    "# Random Forest Classifier"
   ]
  },
  {
   "cell_type": "code",
   "execution_count": null,
   "metadata": {
    "collapsed": true
   },
   "outputs": [],
   "source": [
    "# ### RF classifier\n",
    "# params_rf={\n",
    "#     'max_depth': [20, 40, 60], #[3,4,5,6,7,8,9], # 5 is good but takes too long in kaggle env\n",
    "#     'n_estimators': [100, 300, 500], #[1000,2000,3000]\n",
    "# }\n",
    "\n",
    "# rf_clf = RandomForestClassifier()\n",
    "# rf = GridSearchCV(rf_clf,\n",
    "#                   params_rf,\n",
    "#                   cv=3,\n",
    "#                   scoring=\"roc_auc\",\n",
    "#                   n_jobs=1,\n",
    "#                   verbose=2)\n",
    "# rf.fit(train_X.drop(\"CODE_GENDER_XNA\", axis=1), train_y)\n",
    "# best_est_rf = rf.best_estimator_\n",
    "# print(best_est)"
   ]
  },
  {
   "cell_type": "code",
   "execution_count": null,
   "metadata": {
    "collapsed": true
   },
   "outputs": [],
   "source": [
    "valid_probs_rf = rf.predict_proba(valid_X.drop(\"CODE_GENDER_XNA\", axis=1))[:,1]\n",
    "valid_preds_rf = rf.predict(valid_X.drop(\"CODE_GENDER_XNA\", axis=1))"
   ]
  },
  {
   "cell_type": "code",
   "execution_count": null,
   "metadata": {
    "collapsed": true
   },
   "outputs": [],
   "source": [
    "print(accuracy_score(valid_y, valid_preds_rf))\n",
    "print(roc_auc_score(valid_y, valid_probs_rf))"
   ]
  },
  {
   "cell_type": "markdown",
   "metadata": {},
   "source": [
    "# XGboost with Grid Search"
   ]
  },
  {
   "cell_type": "code",
   "execution_count": null,
   "metadata": {
    "collapsed": true
   },
   "outputs": [],
   "source": [
    "params={\n",
    "    'max_depth': [3, 5], #[3,4,5,6,7,8,9], # 5 is good but takes too long in kaggle env\n",
    "    'subsample': [0.6, 0.8], #[0.4,0.5,0.6,0.7,0.8,0.9,1.0],\n",
    "    #'colsample_bytree': [0.5, 0.7], #[0.5,0.6,0.7,0.8],\n",
    "    'n_estimators': [300, 500], #[1000,2000,3000]\n",
    "    #'reg_alpha': [0.01, 0.05] #[0.01, 0.02, 0.03, 0.04]\n",
    "    'scale_pos_weight':[1,3,5]\n",
    "}\n",
    "\n",
    "xgb_clf = xgb.XGBClassifier(missing=9999999999)\n",
    "rs = GridSearchCV(xgb_clf,\n",
    "                  params,\n",
    "                  cv=3,\n",
    "                  scoring=\"roc_auc\",\n",
    "                  n_jobs=1,\n",
    "                  verbose=2)\n",
    "rs.fit(train_X.drop(\"CODE_GENDER_XNA\", axis=1), train_y)\n",
    "best_est = rs.best_estimator_\n",
    "print(best_est)"
   ]
  },
  {
   "cell_type": "code",
   "execution_count": 59,
   "metadata": {},
   "outputs": [
    {
     "name": "stdout",
     "output_type": "stream",
     "text": [
      "0.9226930302282775\n",
      "0.7311426072668485\n"
     ]
    }
   ],
   "source": [
    "xgb_single = xgb.XGBClassifier(base_score=0.5, colsample_bylevel=1, colsample_bytree=0.5,\n",
    "       gamma=0, learning_rate=0.1, max_delta_step=0, max_depth=3,\n",
    "       min_child_weight=1, missing=9999999999, n_estimators=300,\n",
    "       nthread=-1, objective='binary:logistic', reg_alpha=0.05,\n",
    "       reg_lambda=1, scale_pos_weight=1, seed=0, silent=True,\n",
    "       subsample=0.8)\n",
    "\n",
    "xgb_single.fit(train_X.drop(list(set(train_X.columns.tolist()) - set(test_feats.columns.tolist())), axis=1), train_y)\n",
    "valid_probs_xgb_single = xgb_single.predict_proba(valid_X.drop(list(set(train_X.columns.tolist()) - set(test_feats.columns.tolist())), axis=1))[:,1]\n",
    "valid_preds_xgb_single = xgb_single.predict(valid_X.drop(list(set(train_X.columns.tolist()) - set(test_feats.columns.tolist())), axis=1))\n",
    "print(accuracy_score(valid_y, valid_preds_xgb_single))\n",
    "print(roc_auc_score(valid_y, valid_probs_xgb_single))"
   ]
  },
  {
   "cell_type": "code",
   "execution_count": null,
   "metadata": {
    "collapsed": true
   },
   "outputs": [],
   "source": [
    "valid_probs_rs = rs.predict_proba(valid_X.drop(\"CODE_GENDER_XNA\", axis=1))[:,1]\n",
    "valid_preds_rs= rs.predict(valid_X.drop(\"CODE_GENDER_XNA\", axis=1))\n",
    "print(accuracy_score(valid_y, valid_preds_rs))\n",
    "print(roc_auc_score(valid_y, valid_probs_rs))"
   ]
  },
  {
   "cell_type": "markdown",
   "metadata": {
    "collapsed": true
   },
   "source": [
    "# LightGBM model "
   ]
  },
  {
   "cell_type": "code",
   "execution_count": 62,
   "metadata": {},
   "outputs": [
    {
     "name": "stdout",
     "output_type": "stream",
     "text": [
      "Fitting 3 folds for each of 32 candidates, totalling 96 fits\n",
      "[CV] num_leaves=20, max_depth=2, n_estimators=300, reg_alpha=0.01, scale_pos_weight=1 \n",
      "[CV]  num_leaves=20, max_depth=2, n_estimators=300, reg_alpha=0.01, scale_pos_weight=1, total=   5.6s\n",
      "[CV] num_leaves=20, max_depth=2, n_estimators=300, reg_alpha=0.01, scale_pos_weight=1 \n"
     ]
    },
    {
     "name": "stderr",
     "output_type": "stream",
     "text": [
      "[Parallel(n_jobs=1)]: Done   1 out of   1 | elapsed:    6.3s remaining:    0.0s\n"
     ]
    },
    {
     "name": "stdout",
     "output_type": "stream",
     "text": [
      "[CV]  num_leaves=20, max_depth=2, n_estimators=300, reg_alpha=0.01, scale_pos_weight=1, total=   5.9s\n",
      "[CV] num_leaves=20, max_depth=2, n_estimators=300, reg_alpha=0.01, scale_pos_weight=1 \n",
      "[CV]  num_leaves=20, max_depth=2, n_estimators=300, reg_alpha=0.01, scale_pos_weight=1, total=   8.2s\n",
      "[CV] num_leaves=20, max_depth=2, n_estimators=300, reg_alpha=0.01, scale_pos_weight=3 \n",
      "[CV]  num_leaves=20, max_depth=2, n_estimators=300, reg_alpha=0.01, scale_pos_weight=3, total=   5.3s\n",
      "[CV] num_leaves=20, max_depth=2, n_estimators=300, reg_alpha=0.01, scale_pos_weight=3 \n",
      "[CV]  num_leaves=20, max_depth=2, n_estimators=300, reg_alpha=0.01, scale_pos_weight=3, total=   5.8s\n",
      "[CV] num_leaves=20, max_depth=2, n_estimators=300, reg_alpha=0.01, scale_pos_weight=3 \n",
      "[CV]  num_leaves=20, max_depth=2, n_estimators=300, reg_alpha=0.01, scale_pos_weight=3, total=  10.2s\n",
      "[CV] num_leaves=20, max_depth=2, n_estimators=300, reg_alpha=0.05, scale_pos_weight=1 \n",
      "[CV]  num_leaves=20, max_depth=2, n_estimators=300, reg_alpha=0.05, scale_pos_weight=1, total=   7.2s\n",
      "[CV] num_leaves=20, max_depth=2, n_estimators=300, reg_alpha=0.05, scale_pos_weight=1 \n",
      "[CV]  num_leaves=20, max_depth=2, n_estimators=300, reg_alpha=0.05, scale_pos_weight=1, total=   7.5s\n",
      "[CV] num_leaves=20, max_depth=2, n_estimators=300, reg_alpha=0.05, scale_pos_weight=1 \n",
      "[CV]  num_leaves=20, max_depth=2, n_estimators=300, reg_alpha=0.05, scale_pos_weight=1, total=   7.4s\n",
      "[CV] num_leaves=20, max_depth=2, n_estimators=300, reg_alpha=0.05, scale_pos_weight=3 \n",
      "[CV]  num_leaves=20, max_depth=2, n_estimators=300, reg_alpha=0.05, scale_pos_weight=3, total=   7.0s\n",
      "[CV] num_leaves=20, max_depth=2, n_estimators=300, reg_alpha=0.05, scale_pos_weight=3 \n",
      "[CV]  num_leaves=20, max_depth=2, n_estimators=300, reg_alpha=0.05, scale_pos_weight=3, total=   7.5s\n",
      "[CV] num_leaves=20, max_depth=2, n_estimators=300, reg_alpha=0.05, scale_pos_weight=3 \n",
      "[CV]  num_leaves=20, max_depth=2, n_estimators=300, reg_alpha=0.05, scale_pos_weight=3, total=   7.9s\n",
      "[CV] num_leaves=40, max_depth=2, n_estimators=300, reg_alpha=0.01, scale_pos_weight=1 \n",
      "[CV]  num_leaves=40, max_depth=2, n_estimators=300, reg_alpha=0.01, scale_pos_weight=1, total=   8.3s\n",
      "[CV] num_leaves=40, max_depth=2, n_estimators=300, reg_alpha=0.01, scale_pos_weight=1 \n",
      "[CV]  num_leaves=40, max_depth=2, n_estimators=300, reg_alpha=0.01, scale_pos_weight=1, total=   9.9s\n",
      "[CV] num_leaves=40, max_depth=2, n_estimators=300, reg_alpha=0.01, scale_pos_weight=1 \n",
      "[CV]  num_leaves=40, max_depth=2, n_estimators=300, reg_alpha=0.01, scale_pos_weight=1, total=   8.1s\n",
      "[CV] num_leaves=40, max_depth=2, n_estimators=300, reg_alpha=0.01, scale_pos_weight=3 \n",
      "[CV]  num_leaves=40, max_depth=2, n_estimators=300, reg_alpha=0.01, scale_pos_weight=3, total=   8.3s\n",
      "[CV] num_leaves=40, max_depth=2, n_estimators=300, reg_alpha=0.01, scale_pos_weight=3 \n",
      "[CV]  num_leaves=40, max_depth=2, n_estimators=300, reg_alpha=0.01, scale_pos_weight=3, total=   8.8s\n",
      "[CV] num_leaves=40, max_depth=2, n_estimators=300, reg_alpha=0.01, scale_pos_weight=3 \n",
      "[CV]  num_leaves=40, max_depth=2, n_estimators=300, reg_alpha=0.01, scale_pos_weight=3, total=   7.9s\n",
      "[CV] num_leaves=40, max_depth=2, n_estimators=300, reg_alpha=0.05, scale_pos_weight=1 \n",
      "[CV]  num_leaves=40, max_depth=2, n_estimators=300, reg_alpha=0.05, scale_pos_weight=1, total=   7.4s\n",
      "[CV] num_leaves=40, max_depth=2, n_estimators=300, reg_alpha=0.05, scale_pos_weight=1 \n",
      "[CV]  num_leaves=40, max_depth=2, n_estimators=300, reg_alpha=0.05, scale_pos_weight=1, total=   8.3s\n",
      "[CV] num_leaves=40, max_depth=2, n_estimators=300, reg_alpha=0.05, scale_pos_weight=1 \n",
      "[CV]  num_leaves=40, max_depth=2, n_estimators=300, reg_alpha=0.05, scale_pos_weight=1, total=   7.8s\n",
      "[CV] num_leaves=40, max_depth=2, n_estimators=300, reg_alpha=0.05, scale_pos_weight=3 \n",
      "[CV]  num_leaves=40, max_depth=2, n_estimators=300, reg_alpha=0.05, scale_pos_weight=3, total=   8.2s\n",
      "[CV] num_leaves=40, max_depth=2, n_estimators=300, reg_alpha=0.05, scale_pos_weight=3 \n",
      "[CV]  num_leaves=40, max_depth=2, n_estimators=300, reg_alpha=0.05, scale_pos_weight=3, total=   8.3s\n",
      "[CV] num_leaves=40, max_depth=2, n_estimators=300, reg_alpha=0.05, scale_pos_weight=3 \n",
      "[CV]  num_leaves=40, max_depth=2, n_estimators=300, reg_alpha=0.05, scale_pos_weight=3, total=   7.5s\n",
      "[CV] num_leaves=20, max_depth=2, n_estimators=500, reg_alpha=0.01, scale_pos_weight=1 \n",
      "[CV]  num_leaves=20, max_depth=2, n_estimators=500, reg_alpha=0.01, scale_pos_weight=1, total=  12.3s\n",
      "[CV] num_leaves=20, max_depth=2, n_estimators=500, reg_alpha=0.01, scale_pos_weight=1 \n",
      "[CV]  num_leaves=20, max_depth=2, n_estimators=500, reg_alpha=0.01, scale_pos_weight=1, total=  15.3s\n",
      "[CV] num_leaves=20, max_depth=2, n_estimators=500, reg_alpha=0.01, scale_pos_weight=1 \n",
      "[CV]  num_leaves=20, max_depth=2, n_estimators=500, reg_alpha=0.01, scale_pos_weight=1, total=  16.1s\n",
      "[CV] num_leaves=20, max_depth=2, n_estimators=500, reg_alpha=0.01, scale_pos_weight=3 \n",
      "[CV]  num_leaves=20, max_depth=2, n_estimators=500, reg_alpha=0.01, scale_pos_weight=3, total=  12.7s\n",
      "[CV] num_leaves=20, max_depth=2, n_estimators=500, reg_alpha=0.01, scale_pos_weight=3 \n",
      "[CV]  num_leaves=20, max_depth=2, n_estimators=500, reg_alpha=0.01, scale_pos_weight=3, total=  13.2s\n",
      "[CV] num_leaves=20, max_depth=2, n_estimators=500, reg_alpha=0.01, scale_pos_weight=3 \n",
      "[CV]  num_leaves=20, max_depth=2, n_estimators=500, reg_alpha=0.01, scale_pos_weight=3, total=  15.8s\n",
      "[CV] num_leaves=20, max_depth=2, n_estimators=500, reg_alpha=0.05, scale_pos_weight=1 \n",
      "[CV]  num_leaves=20, max_depth=2, n_estimators=500, reg_alpha=0.05, scale_pos_weight=1, total=  13.2s\n",
      "[CV] num_leaves=20, max_depth=2, n_estimators=500, reg_alpha=0.05, scale_pos_weight=1 \n",
      "[CV]  num_leaves=20, max_depth=2, n_estimators=500, reg_alpha=0.05, scale_pos_weight=1, total=  13.1s\n",
      "[CV] num_leaves=20, max_depth=2, n_estimators=500, reg_alpha=0.05, scale_pos_weight=1 \n",
      "[CV]  num_leaves=20, max_depth=2, n_estimators=500, reg_alpha=0.05, scale_pos_weight=1, total=  13.8s\n",
      "[CV] num_leaves=20, max_depth=2, n_estimators=500, reg_alpha=0.05, scale_pos_weight=3 \n",
      "[CV]  num_leaves=20, max_depth=2, n_estimators=500, reg_alpha=0.05, scale_pos_weight=3, total=  14.1s\n",
      "[CV] num_leaves=20, max_depth=2, n_estimators=500, reg_alpha=0.05, scale_pos_weight=3 \n",
      "[CV]  num_leaves=20, max_depth=2, n_estimators=500, reg_alpha=0.05, scale_pos_weight=3, total=  13.6s\n",
      "[CV] num_leaves=20, max_depth=2, n_estimators=500, reg_alpha=0.05, scale_pos_weight=3 \n",
      "[CV]  num_leaves=20, max_depth=2, n_estimators=500, reg_alpha=0.05, scale_pos_weight=3, total=  13.0s\n",
      "[CV] num_leaves=40, max_depth=2, n_estimators=500, reg_alpha=0.01, scale_pos_weight=1 \n",
      "[CV]  num_leaves=40, max_depth=2, n_estimators=500, reg_alpha=0.01, scale_pos_weight=1, total=  11.1s\n",
      "[CV] num_leaves=40, max_depth=2, n_estimators=500, reg_alpha=0.01, scale_pos_weight=1 \n",
      "[CV]  num_leaves=40, max_depth=2, n_estimators=500, reg_alpha=0.01, scale_pos_weight=1, total=  16.0s\n",
      "[CV] num_leaves=40, max_depth=2, n_estimators=500, reg_alpha=0.01, scale_pos_weight=1 \n",
      "[CV]  num_leaves=40, max_depth=2, n_estimators=500, reg_alpha=0.01, scale_pos_weight=1, total=  12.8s\n",
      "[CV] num_leaves=40, max_depth=2, n_estimators=500, reg_alpha=0.01, scale_pos_weight=3 \n",
      "[CV]  num_leaves=40, max_depth=2, n_estimators=500, reg_alpha=0.01, scale_pos_weight=3, total=  12.4s\n",
      "[CV] num_leaves=40, max_depth=2, n_estimators=500, reg_alpha=0.01, scale_pos_weight=3 \n",
      "[CV]  num_leaves=40, max_depth=2, n_estimators=500, reg_alpha=0.01, scale_pos_weight=3, total=  12.5s\n",
      "[CV] num_leaves=40, max_depth=2, n_estimators=500, reg_alpha=0.01, scale_pos_weight=3 \n",
      "[CV]  num_leaves=40, max_depth=2, n_estimators=500, reg_alpha=0.01, scale_pos_weight=3, total=  12.3s\n",
      "[CV] num_leaves=40, max_depth=2, n_estimators=500, reg_alpha=0.05, scale_pos_weight=1 \n",
      "[CV]  num_leaves=40, max_depth=2, n_estimators=500, reg_alpha=0.05, scale_pos_weight=1, total=  24.4s\n",
      "[CV] num_leaves=40, max_depth=2, n_estimators=500, reg_alpha=0.05, scale_pos_weight=1 \n",
      "[CV]  num_leaves=40, max_depth=2, n_estimators=500, reg_alpha=0.05, scale_pos_weight=1, total=  13.2s\n",
      "[CV] num_leaves=40, max_depth=2, n_estimators=500, reg_alpha=0.05, scale_pos_weight=1 \n",
      "[CV]  num_leaves=40, max_depth=2, n_estimators=500, reg_alpha=0.05, scale_pos_weight=1, total=  11.1s\n",
      "[CV] num_leaves=40, max_depth=2, n_estimators=500, reg_alpha=0.05, scale_pos_weight=3 \n"
     ]
    },
    {
     "name": "stdout",
     "output_type": "stream",
     "text": [
      "[CV]  num_leaves=40, max_depth=2, n_estimators=500, reg_alpha=0.05, scale_pos_weight=3, total=  13.8s\n",
      "[CV] num_leaves=40, max_depth=2, n_estimators=500, reg_alpha=0.05, scale_pos_weight=3 \n",
      "[CV]  num_leaves=40, max_depth=2, n_estimators=500, reg_alpha=0.05, scale_pos_weight=3, total=  11.9s\n",
      "[CV] num_leaves=40, max_depth=2, n_estimators=500, reg_alpha=0.05, scale_pos_weight=3 \n",
      "[CV]  num_leaves=40, max_depth=2, n_estimators=500, reg_alpha=0.05, scale_pos_weight=3, total=  11.5s\n",
      "[CV] num_leaves=20, max_depth=3, n_estimators=300, reg_alpha=0.01, scale_pos_weight=1 \n",
      "[CV]  num_leaves=20, max_depth=3, n_estimators=300, reg_alpha=0.01, scale_pos_weight=1, total=   9.3s\n",
      "[CV] num_leaves=20, max_depth=3, n_estimators=300, reg_alpha=0.01, scale_pos_weight=1 \n",
      "[CV]  num_leaves=20, max_depth=3, n_estimators=300, reg_alpha=0.01, scale_pos_weight=1, total=   8.4s\n",
      "[CV] num_leaves=20, max_depth=3, n_estimators=300, reg_alpha=0.01, scale_pos_weight=1 \n",
      "[CV]  num_leaves=20, max_depth=3, n_estimators=300, reg_alpha=0.01, scale_pos_weight=1, total=   8.0s\n",
      "[CV] num_leaves=20, max_depth=3, n_estimators=300, reg_alpha=0.01, scale_pos_weight=3 \n",
      "[CV]  num_leaves=20, max_depth=3, n_estimators=300, reg_alpha=0.01, scale_pos_weight=3, total=  11.1s\n",
      "[CV] num_leaves=20, max_depth=3, n_estimators=300, reg_alpha=0.01, scale_pos_weight=3 \n",
      "[CV]  num_leaves=20, max_depth=3, n_estimators=300, reg_alpha=0.01, scale_pos_weight=3, total=  10.0s\n",
      "[CV] num_leaves=20, max_depth=3, n_estimators=300, reg_alpha=0.01, scale_pos_weight=3 \n",
      "[CV]  num_leaves=20, max_depth=3, n_estimators=300, reg_alpha=0.01, scale_pos_weight=3, total=  32.8s\n",
      "[CV] num_leaves=20, max_depth=3, n_estimators=300, reg_alpha=0.05, scale_pos_weight=1 \n",
      "[CV]  num_leaves=20, max_depth=3, n_estimators=300, reg_alpha=0.05, scale_pos_weight=1, total=  23.1s\n",
      "[CV] num_leaves=20, max_depth=3, n_estimators=300, reg_alpha=0.05, scale_pos_weight=1 \n",
      "[CV]  num_leaves=20, max_depth=3, n_estimators=300, reg_alpha=0.05, scale_pos_weight=1, total=  13.9s\n",
      "[CV] num_leaves=20, max_depth=3, n_estimators=300, reg_alpha=0.05, scale_pos_weight=1 \n",
      "[CV]  num_leaves=20, max_depth=3, n_estimators=300, reg_alpha=0.05, scale_pos_weight=1, total=  10.3s\n",
      "[CV] num_leaves=20, max_depth=3, n_estimators=300, reg_alpha=0.05, scale_pos_weight=3 \n",
      "[CV]  num_leaves=20, max_depth=3, n_estimators=300, reg_alpha=0.05, scale_pos_weight=3, total=  10.6s\n",
      "[CV] num_leaves=20, max_depth=3, n_estimators=300, reg_alpha=0.05, scale_pos_weight=3 \n",
      "[CV]  num_leaves=20, max_depth=3, n_estimators=300, reg_alpha=0.05, scale_pos_weight=3, total=   9.9s\n",
      "[CV] num_leaves=20, max_depth=3, n_estimators=300, reg_alpha=0.05, scale_pos_weight=3 \n",
      "[CV]  num_leaves=20, max_depth=3, n_estimators=300, reg_alpha=0.05, scale_pos_weight=3, total=   8.5s\n",
      "[CV] num_leaves=40, max_depth=3, n_estimators=300, reg_alpha=0.01, scale_pos_weight=1 \n",
      "[CV]  num_leaves=40, max_depth=3, n_estimators=300, reg_alpha=0.01, scale_pos_weight=1, total=  12.9s\n",
      "[CV] num_leaves=40, max_depth=3, n_estimators=300, reg_alpha=0.01, scale_pos_weight=1 \n",
      "[CV]  num_leaves=40, max_depth=3, n_estimators=300, reg_alpha=0.01, scale_pos_weight=1, total=  12.1s\n",
      "[CV] num_leaves=40, max_depth=3, n_estimators=300, reg_alpha=0.01, scale_pos_weight=1 \n",
      "[CV]  num_leaves=40, max_depth=3, n_estimators=300, reg_alpha=0.01, scale_pos_weight=1, total=  11.8s\n",
      "[CV] num_leaves=40, max_depth=3, n_estimators=300, reg_alpha=0.01, scale_pos_weight=3 \n",
      "[CV]  num_leaves=40, max_depth=3, n_estimators=300, reg_alpha=0.01, scale_pos_weight=3, total=   9.6s\n",
      "[CV] num_leaves=40, max_depth=3, n_estimators=300, reg_alpha=0.01, scale_pos_weight=3 \n",
      "[CV]  num_leaves=40, max_depth=3, n_estimators=300, reg_alpha=0.01, scale_pos_weight=3, total=   9.1s\n",
      "[CV] num_leaves=40, max_depth=3, n_estimators=300, reg_alpha=0.01, scale_pos_weight=3 \n",
      "[CV]  num_leaves=40, max_depth=3, n_estimators=300, reg_alpha=0.01, scale_pos_weight=3, total=  11.1s\n",
      "[CV] num_leaves=40, max_depth=3, n_estimators=300, reg_alpha=0.05, scale_pos_weight=1 \n",
      "[CV]  num_leaves=40, max_depth=3, n_estimators=300, reg_alpha=0.05, scale_pos_weight=1, total=  10.9s\n",
      "[CV] num_leaves=40, max_depth=3, n_estimators=300, reg_alpha=0.05, scale_pos_weight=1 \n",
      "[CV]  num_leaves=40, max_depth=3, n_estimators=300, reg_alpha=0.05, scale_pos_weight=1, total=  11.1s\n",
      "[CV] num_leaves=40, max_depth=3, n_estimators=300, reg_alpha=0.05, scale_pos_weight=1 \n",
      "[CV]  num_leaves=40, max_depth=3, n_estimators=300, reg_alpha=0.05, scale_pos_weight=1, total=  11.0s\n",
      "[CV] num_leaves=40, max_depth=3, n_estimators=300, reg_alpha=0.05, scale_pos_weight=3 \n",
      "[CV]  num_leaves=40, max_depth=3, n_estimators=300, reg_alpha=0.05, scale_pos_weight=3, total=  11.3s\n",
      "[CV] num_leaves=40, max_depth=3, n_estimators=300, reg_alpha=0.05, scale_pos_weight=3 \n",
      "[CV]  num_leaves=40, max_depth=3, n_estimators=300, reg_alpha=0.05, scale_pos_weight=3, total=  10.4s\n",
      "[CV] num_leaves=40, max_depth=3, n_estimators=300, reg_alpha=0.05, scale_pos_weight=3 \n",
      "[CV]  num_leaves=40, max_depth=3, n_estimators=300, reg_alpha=0.05, scale_pos_weight=3, total=  10.0s\n",
      "[CV] num_leaves=20, max_depth=3, n_estimators=500, reg_alpha=0.01, scale_pos_weight=1 \n",
      "[CV]  num_leaves=20, max_depth=3, n_estimators=500, reg_alpha=0.01, scale_pos_weight=1, total=  14.7s\n",
      "[CV] num_leaves=20, max_depth=3, n_estimators=500, reg_alpha=0.01, scale_pos_weight=1 \n",
      "[CV]  num_leaves=20, max_depth=3, n_estimators=500, reg_alpha=0.01, scale_pos_weight=1, total=  14.4s\n",
      "[CV] num_leaves=20, max_depth=3, n_estimators=500, reg_alpha=0.01, scale_pos_weight=1 \n",
      "[CV]  num_leaves=20, max_depth=3, n_estimators=500, reg_alpha=0.01, scale_pos_weight=1, total=  14.7s\n",
      "[CV] num_leaves=20, max_depth=3, n_estimators=500, reg_alpha=0.01, scale_pos_weight=3 \n",
      "[CV]  num_leaves=20, max_depth=3, n_estimators=500, reg_alpha=0.01, scale_pos_weight=3, total=  13.6s\n",
      "[CV] num_leaves=20, max_depth=3, n_estimators=500, reg_alpha=0.01, scale_pos_weight=3 \n",
      "[CV]  num_leaves=20, max_depth=3, n_estimators=500, reg_alpha=0.01, scale_pos_weight=3, total=  13.9s\n",
      "[CV] num_leaves=20, max_depth=3, n_estimators=500, reg_alpha=0.01, scale_pos_weight=3 \n",
      "[CV]  num_leaves=20, max_depth=3, n_estimators=500, reg_alpha=0.01, scale_pos_weight=3, total=  13.9s\n",
      "[CV] num_leaves=20, max_depth=3, n_estimators=500, reg_alpha=0.05, scale_pos_weight=1 \n",
      "[CV]  num_leaves=20, max_depth=3, n_estimators=500, reg_alpha=0.05, scale_pos_weight=1, total=  13.9s\n",
      "[CV] num_leaves=20, max_depth=3, n_estimators=500, reg_alpha=0.05, scale_pos_weight=1 \n",
      "[CV]  num_leaves=20, max_depth=3, n_estimators=500, reg_alpha=0.05, scale_pos_weight=1, total=  13.9s\n",
      "[CV] num_leaves=20, max_depth=3, n_estimators=500, reg_alpha=0.05, scale_pos_weight=1 \n",
      "[CV]  num_leaves=20, max_depth=3, n_estimators=500, reg_alpha=0.05, scale_pos_weight=1, total=  13.6s\n",
      "[CV] num_leaves=20, max_depth=3, n_estimators=500, reg_alpha=0.05, scale_pos_weight=3 \n",
      "[CV]  num_leaves=20, max_depth=3, n_estimators=500, reg_alpha=0.05, scale_pos_weight=3, total=  15.9s\n",
      "[CV] num_leaves=20, max_depth=3, n_estimators=500, reg_alpha=0.05, scale_pos_weight=3 \n",
      "[CV]  num_leaves=20, max_depth=3, n_estimators=500, reg_alpha=0.05, scale_pos_weight=3, total=  18.8s\n",
      "[CV] num_leaves=20, max_depth=3, n_estimators=500, reg_alpha=0.05, scale_pos_weight=3 \n",
      "[CV]  num_leaves=20, max_depth=3, n_estimators=500, reg_alpha=0.05, scale_pos_weight=3, total=  15.1s\n",
      "[CV] num_leaves=40, max_depth=3, n_estimators=500, reg_alpha=0.01, scale_pos_weight=1 \n",
      "[CV]  num_leaves=40, max_depth=3, n_estimators=500, reg_alpha=0.01, scale_pos_weight=1, total=  16.2s\n",
      "[CV] num_leaves=40, max_depth=3, n_estimators=500, reg_alpha=0.01, scale_pos_weight=1 \n",
      "[CV]  num_leaves=40, max_depth=3, n_estimators=500, reg_alpha=0.01, scale_pos_weight=1, total=  14.7s\n",
      "[CV] num_leaves=40, max_depth=3, n_estimators=500, reg_alpha=0.01, scale_pos_weight=1 \n",
      "[CV]  num_leaves=40, max_depth=3, n_estimators=500, reg_alpha=0.01, scale_pos_weight=1, total=  15.7s\n",
      "[CV] num_leaves=40, max_depth=3, n_estimators=500, reg_alpha=0.01, scale_pos_weight=3 \n",
      "[CV]  num_leaves=40, max_depth=3, n_estimators=500, reg_alpha=0.01, scale_pos_weight=3, total=  16.0s\n",
      "[CV] num_leaves=40, max_depth=3, n_estimators=500, reg_alpha=0.01, scale_pos_weight=3 \n",
      "[CV]  num_leaves=40, max_depth=3, n_estimators=500, reg_alpha=0.01, scale_pos_weight=3, total=  14.7s\n",
      "[CV] num_leaves=40, max_depth=3, n_estimators=500, reg_alpha=0.01, scale_pos_weight=3 \n"
     ]
    },
    {
     "name": "stdout",
     "output_type": "stream",
     "text": [
      "[CV]  num_leaves=40, max_depth=3, n_estimators=500, reg_alpha=0.01, scale_pos_weight=3, total=  15.0s\n",
      "[CV] num_leaves=40, max_depth=3, n_estimators=500, reg_alpha=0.05, scale_pos_weight=1 \n",
      "[CV]  num_leaves=40, max_depth=3, n_estimators=500, reg_alpha=0.05, scale_pos_weight=1, total=  16.0s\n",
      "[CV] num_leaves=40, max_depth=3, n_estimators=500, reg_alpha=0.05, scale_pos_weight=1 \n",
      "[CV]  num_leaves=40, max_depth=3, n_estimators=500, reg_alpha=0.05, scale_pos_weight=1, total=  15.4s\n",
      "[CV] num_leaves=40, max_depth=3, n_estimators=500, reg_alpha=0.05, scale_pos_weight=1 \n",
      "[CV]  num_leaves=40, max_depth=3, n_estimators=500, reg_alpha=0.05, scale_pos_weight=1, total=  24.9s\n",
      "[CV] num_leaves=40, max_depth=3, n_estimators=500, reg_alpha=0.05, scale_pos_weight=3 \n",
      "[CV]  num_leaves=40, max_depth=3, n_estimators=500, reg_alpha=0.05, scale_pos_weight=3, total=  14.1s\n",
      "[CV] num_leaves=40, max_depth=3, n_estimators=500, reg_alpha=0.05, scale_pos_weight=3 \n",
      "[CV]  num_leaves=40, max_depth=3, n_estimators=500, reg_alpha=0.05, scale_pos_weight=3, total=  13.6s\n",
      "[CV] num_leaves=40, max_depth=3, n_estimators=500, reg_alpha=0.05, scale_pos_weight=3 \n",
      "[CV]  num_leaves=40, max_depth=3, n_estimators=500, reg_alpha=0.05, scale_pos_weight=3, total=  12.6s\n"
     ]
    },
    {
     "name": "stderr",
     "output_type": "stream",
     "text": [
      "[Parallel(n_jobs=1)]: Done  96 out of  96 | elapsed: 21.7min finished\n"
     ]
    },
    {
     "name": "stdout",
     "output_type": "stream",
     "text": [
      "LGBMClassifier(boosting_type='gbdt', class_weight=None, colsample_bytree=1.0,\n",
      "        learning_rate=0.1, max_depth=3, min_child_samples=20,\n",
      "        min_child_weight=0.001, min_split_gain=0.0, n_estimators=500,\n",
      "        n_jobs=-1, num_leaves=20, objective=None, random_state=None,\n",
      "        reg_alpha=0.05, reg_lambda=0.0, scale_pos_weight=3, silent=True,\n",
      "        subsample=1.0, subsample_for_bin=200000, subsample_freq=0)\n"
     ]
    }
   ],
   "source": [
    "params={\n",
    "    'max_depth': [2, 3], #[3,4,5,6,7,8,9], # 5 is good but takes too long in kaggle env\n",
    "    #'subsample': [0.4, 0.6], #[0.4,0.5,0.6,0.7,0.8,0.9,1.0],\n",
    "    #'colsample_bytree': [0.5, 0.7], #[0.5,0.6,0.7,0.8],\n",
    "    'n_estimators': [300, 500], #[1000,2000,3000]\n",
    "    'reg_alpha': [0.01, 0.05], #[0.01, 0.02, 0.03, 0.04]\n",
    "    'scale_pos_weight':[1,3], \n",
    "    'num_leaves':[20, 40]\n",
    "    \n",
    "}\n",
    "\n",
    "lgb_clf = lgb.LGBMClassifier()\n",
    "rs = GridSearchCV(lgb_clf,\n",
    "                  params,\n",
    "                  cv=3,\n",
    "                  scoring=\"roc_auc\",\n",
    "                  n_jobs=1,\n",
    "                  verbose=2)\n",
    "rs.fit(train_X.drop(list(set(train_X.columns.tolist()) - set(test_feats.columns.tolist())), axis=1), train_y)\n",
    "best_est = rs.best_estimator_\n",
    "print(best_est)"
   ]
  },
  {
   "cell_type": "code",
   "execution_count": 63,
   "metadata": {},
   "outputs": [
    {
     "name": "stdout",
     "output_type": "stream",
     "text": [
      "0.9127118161634946\n",
      "0.7320031550001073\n"
     ]
    }
   ],
   "source": [
    "valid_probs_rs = rs.predict_proba(valid_X.drop(list(set(train_X.columns.tolist()) - set(test_feats.columns.tolist())), axis=1))[:,1]\n",
    "valid_preds_rs= rs.predict(valid_X.drop(list(set(train_X.columns.tolist()) - set(test_feats.columns.tolist())), axis=1))\n",
    "print(accuracy_score(valid_y, valid_preds_rs))\n",
    "print(roc_auc_score(valid_y, valid_probs_rs))"
   ]
  },
  {
   "cell_type": "code",
   "execution_count": 88,
   "metadata": {},
   "outputs": [],
   "source": [
    "best = lgb.LGBMClassifier(boosting_type='gbdt', class_weight=None, colsample_bytree=1.0,\n",
    "        learning_rate=0.1, max_depth=3, min_child_samples=20,\n",
    "        min_child_weight=0.001, min_split_gain=0.0, n_estimators=500,\n",
    "        n_jobs=-1, num_leaves=20, objective=None, random_state=None,\n",
    "        reg_alpha=0.05, reg_lambda=0.0, scale_pos_weight=3, silent=True,\n",
    "        subsample=1.0, subsample_for_bin=200000, subsample_freq=0)"
   ]
  },
  {
   "cell_type": "code",
   "execution_count": 90,
   "metadata": {},
   "outputs": [
    {
     "data": {
      "text/plain": [
       "LGBMClassifier(boosting_type='gbdt', class_weight=None, colsample_bytree=1.0,\n",
       "        learning_rate=0.1, max_depth=3, min_child_samples=20,\n",
       "        min_child_weight=0.001, min_split_gain=0.0, n_estimators=500,\n",
       "        n_jobs=-1, num_leaves=20, objective=None, random_state=None,\n",
       "        reg_alpha=0.05, reg_lambda=0.0, scale_pos_weight=3, silent=True,\n",
       "        subsample=1.0, subsample_for_bin=200000, subsample_freq=0)"
      ]
     },
     "execution_count": 90,
     "metadata": {},
     "output_type": "execute_result"
    }
   ],
   "source": [
    "best.fit(full_train_feats.drop(list(set(full_train_feats.columns.tolist()) - set(test_feats.columns.tolist())), axis=1), full_train_y)"
   ]
  },
  {
   "cell_type": "code",
   "execution_count": null,
   "metadata": {
    "collapsed": true
   },
   "outputs": [],
   "source": []
  },
  {
   "cell_type": "markdown",
   "metadata": {},
   "source": [
    "# Prepare Submission file "
   ]
  },
  {
   "cell_type": "code",
   "execution_count": 91,
   "metadata": {},
   "outputs": [],
   "source": [
    "### Prepare submission file and save to disk\n",
    "result_df = pd.DataFrame({'SK_ID_CURR':test.SK_ID_CURR.values, \"TARGET\":best.predict_proba(test_feats)[:,1]})\n",
    "result_df.to_csv(\"submimssion_2_lightgbm_gridsearch_fulldata_bureau.csv\", index=False)"
   ]
  },
  {
   "cell_type": "code",
   "execution_count": null,
   "metadata": {
    "collapsed": true
   },
   "outputs": [],
   "source": []
  },
  {
   "cell_type": "code",
   "execution_count": 23,
   "metadata": {},
   "outputs": [
    {
     "data": {
      "text/plain": [
       "Index(['SK_ID_CURR', 'TARGET', 'NAME_CONTRACT_TYPE', 'CODE_GENDER',\n",
       "       'FLAG_OWN_CAR', 'FLAG_OWN_REALTY', 'CNT_CHILDREN', 'AMT_INCOME_TOTAL',\n",
       "       'AMT_CREDIT', 'AMT_ANNUITY', 'AMT_GOODS_PRICE', 'NAME_TYPE_SUITE',\n",
       "       'NAME_INCOME_TYPE', 'NAME_EDUCATION_TYPE', 'NAME_FAMILY_STATUS',\n",
       "       'NAME_HOUSING_TYPE', 'REGION_POPULATION_RELATIVE', 'DAYS_BIRTH',\n",
       "       'DAYS_EMPLOYED', 'DAYS_REGISTRATION', 'DAYS_ID_PUBLISH', 'FLAG_MOBIL',\n",
       "       'FLAG_EMP_PHONE', 'FLAG_WORK_PHONE', 'FLAG_CONT_MOBILE', 'FLAG_PHONE',\n",
       "       'FLAG_EMAIL', 'CNT_FAM_MEMBERS', 'REGION_RATING_CLIENT',\n",
       "       'REGION_RATING_CLIENT_W_CITY', 'WEEKDAY_APPR_PROCESS_START',\n",
       "       'HOUR_APPR_PROCESS_START', 'REG_REGION_NOT_LIVE_REGION',\n",
       "       'REG_REGION_NOT_WORK_REGION', 'LIVE_REGION_NOT_WORK_REGION',\n",
       "       'REG_CITY_NOT_LIVE_CITY', 'REG_CITY_NOT_WORK_CITY',\n",
       "       'LIVE_CITY_NOT_WORK_CITY', 'ORGANIZATION_TYPE', 'EXT_SOURCE_2',\n",
       "       'OBS_30_CNT_SOCIAL_CIRCLE', 'DEF_30_CNT_SOCIAL_CIRCLE',\n",
       "       'OBS_60_CNT_SOCIAL_CIRCLE', 'DEF_60_CNT_SOCIAL_CIRCLE',\n",
       "       'DAYS_LAST_PHONE_CHANGE', 'FLAG_DOCUMENT_2', 'FLAG_DOCUMENT_3',\n",
       "       'FLAG_DOCUMENT_4', 'FLAG_DOCUMENT_5', 'FLAG_DOCUMENT_6',\n",
       "       'FLAG_DOCUMENT_7', 'FLAG_DOCUMENT_8', 'FLAG_DOCUMENT_9',\n",
       "       'FLAG_DOCUMENT_10', 'FLAG_DOCUMENT_11', 'FLAG_DOCUMENT_12',\n",
       "       'FLAG_DOCUMENT_13', 'FLAG_DOCUMENT_14', 'FLAG_DOCUMENT_15',\n",
       "       'FLAG_DOCUMENT_16', 'FLAG_DOCUMENT_17', 'FLAG_DOCUMENT_18',\n",
       "       'FLAG_DOCUMENT_19', 'FLAG_DOCUMENT_20', 'FLAG_DOCUMENT_21'],\n",
       "      dtype='object')"
      ]
     },
     "execution_count": 23,
     "metadata": {},
     "output_type": "execute_result"
    }
   ],
   "source": [
    "full_train_orig.columns[full_train_orig.isnull().sum() < 10000]"
   ]
  },
  {
   "cell_type": "code",
   "execution_count": 51,
   "metadata": {},
   "outputs": [
    {
     "data": {
      "text/plain": [
       "<seaborn.axisgrid.FacetGrid at 0x7f6fa844a780>"
      ]
     },
     "execution_count": 51,
     "metadata": {},
     "output_type": "execute_result"
    },
    {
     "data": {
      "image/png": "[encoded data removed]",
      "text/plain": [
       "<Figure size 506x360 with 1 Axes>"
      ]
     },
     "metadata": {},
     "output_type": "display_data"
    }
   ],
   "source": [
    "col = \"NAME_INCOME_TYPE\"\n",
    "bla = full_train_orig.groupby(\"TARGET\")[col].value_counts(normalize=True).reset_index(name=\"count\")\n",
    "sns.catplot(x=\"TARGET\", y = \"count\", hue= col, data= bla, kind=\"bar\")"
   ]
  },
  {
   "cell_type": "code",
   "execution_count": 48,
   "metadata": {},
   "outputs": [
    {
     "data": {
      "text/html": [
       "<div>\n",
       "<style scoped>\n",
       "    .dataframe tbody tr th:only-of-type {\n",
       "        vertical-align: middle;\n",
       "    }\n",
       "\n",
       "    .dataframe tbody tr th {\n",
       "        vertical-align: top;\n",
       "    }\n",
       "\n",
       "    .dataframe thead th {\n",
       "        text-align: right;\n",
       "    }\n",
       "</style>\n",
       "<table border=\"1\" class=\"dataframe\">\n",
       "  <thead>\n",
       "    <tr style=\"text-align: right;\">\n",
       "      <th></th>\n",
       "      <th>TARGET</th>\n",
       "      <th>FLAG_OWN_REALTY</th>\n",
       "      <th>count</th>\n",
       "    </tr>\n",
       "  </thead>\n",
       "  <tbody>\n",
       "    <tr>\n",
       "      <th>0</th>\n",
       "      <td>0</td>\n",
       "      <td>Y</td>\n",
       "      <td>0.690942</td>\n",
       "    </tr>\n",
       "    <tr>\n",
       "      <th>1</th>\n",
       "      <td>0</td>\n",
       "      <td>N</td>\n",
       "      <td>0.309058</td>\n",
       "    </tr>\n",
       "    <tr>\n",
       "      <th>2</th>\n",
       "      <td>1</td>\n",
       "      <td>Y</td>\n",
       "      <td>0.680381</td>\n",
       "    </tr>\n",
       "    <tr>\n",
       "      <th>3</th>\n",
       "      <td>1</td>\n",
       "      <td>N</td>\n",
       "      <td>0.319619</td>\n",
       "    </tr>\n",
       "  </tbody>\n",
       "</table>\n",
       "</div>"
      ],
      "text/plain": [
       "   TARGET FLAG_OWN_REALTY     count\n",
       "0       0               Y  0.690942\n",
       "1       0               N  0.309058\n",
       "2       1               Y  0.680381\n",
       "3       1               N  0.319619"
      ]
     },
     "execution_count": 48,
     "metadata": {},
     "output_type": "execute_result"
    }
   ],
   "source": [
    "bla"
   ]
  },
  {
   "cell_type": "code",
   "execution_count": null,
   "metadata": {},
   "outputs": [],
   "source": []
  },
  {
   "cell_type": "code",
   "execution_count": null,
   "metadata": {
    "collapsed": true
   },
   "outputs": [],
   "source": []
  }
 ],
 "metadata": {
  "kernelspec": {
   "display_name": "Python 3",
   "language": "python",
   "name": "python3"
  },
  "language_info": {
   "codemirror_mode": {
    "name": "ipython",
    "version": 3
   },
   "file_extension": ".py",
   "mimetype": "text/x-python",
   "name": "python",
   "nbconvert_exporter": "python",
   "pygments_lexer": "ipython3",
   "version": "3.4.3"
  }
 },
 "nbformat": 4,
 "nbformat_minor": 2
}
