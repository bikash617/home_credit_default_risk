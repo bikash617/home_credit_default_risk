{
 "cells": [
  {
   "cell_type": "markdown",
   "metadata": {},
   "source": [
    "## Import Required Libraries "
   ]
  },
  {
   "cell_type": "code",
   "execution_count": 4,
   "metadata": {},
   "outputs": [],
   "source": [
    "import pandas as pd\n",
    "import numpy as np\n",
    "from sklearn.preprocessing import StandardScaler\n",
    "from sklearn.ensemble import RandomForestClassifier\n",
    "from sklearn.cross_validation import train_test_split\n",
    "from sklearn.metrics import accuracy_score, roc_auc_score\n",
    "import xgboost as xgb\n",
    "from sklearn.model_selection import GridSearchCV\n",
    "import lightgbm as lgb\n",
    "import warnings\n",
    "%matplotlib inline\n",
    "warnings.filterwarnings('ignore')\n",
    "import matplotlib.pyplot as plt\n",
    "import seaborn as sns"
   ]
  },
  {
   "cell_type": "markdown",
   "metadata": {},
   "source": [
    "## Load main datasets "
   ]
  },
  {
   "cell_type": "code",
   "execution_count": 5,
   "metadata": {},
   "outputs": [],
   "source": [
    "full_train_orig = pd.read_csv(\"../Data/application_train.csv\")\n",
    "test =  pd.read_csv(\"../Data/application_test.csv\")"
   ]
  },
  {
   "cell_type": "markdown",
   "metadata": {},
   "source": [
    "## Load bureau dataset and aggregate per customer"
   ]
  },
  {
   "cell_type": "code",
   "execution_count": 6,
   "metadata": {},
   "outputs": [],
   "source": [
    "### Load bureau data\n",
    "bureau = pd.read_csv(\"../Data/bureau.csv\")\n",
    "bureau_bal = pd.read_csv(\"../Data/bureau_balance.csv\")\n",
    "\n",
    "bureau_bal_aggregations = {'MONTHS_BALANCE': ['min', 'max', 'size']}\n",
    "# for col in bb_cat:\n",
    "#     bb_aggregations[col] = ['mean']\n",
    "bb_agg = bureau_bal.groupby('SK_ID_BUREAU').agg(bureau_bal_aggregations)\n",
    "bb_agg.columns = pd.Index([e[0] + \"_\" + e[1].upper() for e in bb_agg.columns.tolist()])\n",
    "#bureau = bureau.join(bb_agg, how='left', on='SK_ID_BUREAU')\n",
    "#bureau.drop(['SK_ID_BUREAU'], axis=1, inplace= True)\n",
    "\n",
    "bureau_gb = bureau.groupby(\"SK_ID_CURR\").agg({'DAYS_CREDIT':['mean', 'max', 'min'], 'CREDIT_DAY_OVERDUE':['mean', 'max', 'min'],\n",
    "                                             'CNT_CREDIT_PROLONG': ['sum', 'max'], 'AMT_CREDIT_SUM':'mean',\n",
    "                                             'DAYS_CREDIT_UPDATE':['max', 'min'], 'AMT_CREDIT_SUM_OVERDUE':['mean'],\n",
    "                                             'SK_ID_BUREAU':'count'})\n",
    "# bureau_gb = bureau.groupby(\"SK_ID_CURR\")[[\"DAYS_CREDIT\", \"CREDIT_DAY_OVERDUE\", \"CNT_CREDIT_PROLONG\", \"DAYS_CREDIT_UPDATE\"\n",
    "#                              , \"AMT_CREDIT_SUM_OVERDUE\", \"AMT_CREDIT_SUM\"]].mean().add_suffix(\"_bur\").reset_index()\n",
    "bureau_gb.columns = ['_bureau_'.join(col) for col in bureau_gb.columns]\n",
    "bureau_gb = bureau_gb.reset_index()\n",
    "\n",
    "### OHE categorical features and combine\n",
    "bureau_cats = pd.get_dummies(bureau.select_dtypes('object').drop(\"CREDIT_CURRENCY\", axis=1))\n",
    "bureau_cats['SK_ID_CURR'] = bureau['SK_ID_CURR']\n",
    "bureau_cats_grouped = bureau_cats.groupby('SK_ID_CURR').agg('sum').reset_index()\n",
    "bureau_gb = pd.merge(bureau_gb, bureau_cats_grouped, on = 'SK_ID_CURR', how = 'left')"
   ]
  },
  {
   "cell_type": "code",
   "execution_count": 7,
   "metadata": {},
   "outputs": [],
   "source": [
    "### Load bureau data\n",
    "\n",
    "\n",
    "# bureau_gb = bureau.groupby(\"SK_ID_CURR\").agg({'DAYS_CREDIT':['mean', 'max', 'min'], 'CREDIT_DAY_OVERDUE':['mean', 'max', 'min'],\n",
    "#                                              'CNT_CREDIT_PROLONG': ['sum', 'max'], 'AMT_CREDIT_SUM':'mean',\n",
    "#                                              'DAYS_CREDIT_UPDATE':['max', 'min'], 'AMT_CREDIT_SUM_OVERDUE':['mean']})\n",
    "# # bureau_gb = bureau.groupby(\"SK_ID_CURR\")[[\"DAYS_CREDIT\", \"CREDIT_DAY_OVERDUE\", \"CNT_CREDIT_PROLONG\", \"DAYS_CREDIT_UPDATE\"\n",
    "# #                              , \"AMT_CREDIT_SUM_OVERDUE\", \"AMT_CREDIT_SUM\"]].mean().add_suffix(\"_bur\").reset_index()\n",
    "# bureau_gb.columns = ['_'.join(col) for col in bureau_gb.columns]\n",
    "# bureau_gb = bureau_gb.reset_index()\n",
    "\n",
    "# ### OHE categorical features and combine\n",
    "# bureau_cats = pd.get_dummies(bureau.select_dtypes('object'))\n",
    "# bureau_cats['SK_ID_CURR'] = bureau['SK_ID_CURR']\n",
    "# bureau_cats_grouped = bureau_cats.groupby('SK_ID_CURR').agg('sum').reset_index()\n",
    "# bureau_gb = pd.merge(bureau_gb, bureau_cats_grouped, on = 'SK_ID_CURR', how = 'left')"
   ]
  },
  {
   "cell_type": "markdown",
   "metadata": {},
   "source": [
    "## Load previous dataset and aggregate per customer"
   ]
  },
  {
   "cell_type": "code",
   "execution_count": 8,
   "metadata": {},
   "outputs": [],
   "source": [
    "### Load previous application data\n",
    "prv = pd.read_csv(\"../Data/previous_application.csv\")\n",
    "prv['DAYS_LAST_DUE'].replace(365243, np.nan, inplace=True)\n",
    "prv['DAYS_TERMINATION'].replace(365243, np.nan, inplace=True)\n",
    "prv['DAYS_FIRST_DRAWING'].replace(365243, np.nan, inplace=True)\n",
    "prv['DAYS_FIRST_DUE'].replace(365243, np.nan, inplace=True)\n",
    "prv['DAYS_LAST_DUE_1ST_VERSION'].replace(365243, np.nan, inplace=True)\n",
    "prv['APP_CREDIT_PERC'] = prv['AMT_APPLICATION'] / prv['AMT_CREDIT']\n",
    "prv_gb = prv.groupby(\"SK_ID_CURR\").agg({\"AMT_ANNUITY\":['mean'], \"AMT_APPLICATION\":['mean'], \"AMT_CREDIT\":['mean'],\n",
    "                                        \"AMT_DOWN_PAYMENT\":['mean'], \"AMT_GOODS_PRICE\":['mean'], \"SELLERPLACE_AREA\":['mean'],\n",
    "                                        \"DAYS_DECISION\":['min', 'max'], \"DAYS_TERMINATION\":['min', 'max'], \"DAYS_LAST_DUE\":['min', 'max'],\n",
    "                                        \"DAYS_FIRST_DUE\":['min', 'max'], \"DAYS_LAST_DUE_1ST_VERSION\":['min', 'max'],\n",
    "                                        \"SK_ID_PREV\":['count']})\n",
    "prv_gb.columns = ['_prev_'.join(col) for col in prv_gb.columns]\n",
    "prv_gb = prv_gb.reset_index()\n",
    "\n",
    "prv_cats = pd.get_dummies(prv.select_dtypes('object').drop([\"NAME_TYPE_SUITE\", \"WEEKDAY_APPR_PROCESS_START\", \"NAME_CONTRACT_TYPE\"], axis=1))\n",
    "prv_cats['SK_ID_CURR'] = prv['SK_ID_CURR']\n",
    "prv_cats_grouped = prv_cats.groupby('SK_ID_CURR').agg('sum').reset_index()\n",
    "prv_gb = pd.merge(prv_gb, prv_cats_grouped, on = 'SK_ID_CURR', how = 'left')"
   ]
  },
  {
   "cell_type": "code",
   "execution_count": 9,
   "metadata": {},
   "outputs": [
    {
     "data": {
      "text/html": [
       "<div>\n",
       "<style scoped>\n",
       "    .dataframe tbody tr th:only-of-type {\n",
       "        vertical-align: middle;\n",
       "    }\n",
       "\n",
       "    .dataframe tbody tr th {\n",
       "        vertical-align: top;\n",
       "    }\n",
       "\n",
       "    .dataframe thead th {\n",
       "        text-align: right;\n",
       "    }\n",
       "</style>\n",
       "<table border=\"1\" class=\"dataframe\">\n",
       "  <thead>\n",
       "    <tr style=\"text-align: right;\">\n",
       "      <th></th>\n",
       "      <th>SK_ID_CURR</th>\n",
       "      <th>AMT_ANNUITY_prev_mean</th>\n",
       "      <th>AMT_APPLICATION_prev_mean</th>\n",
       "      <th>AMT_CREDIT_prev_mean</th>\n",
       "      <th>AMT_DOWN_PAYMENT_prev_mean</th>\n",
       "      <th>AMT_GOODS_PRICE_prev_mean</th>\n",
       "      <th>SELLERPLACE_AREA_prev_mean</th>\n",
       "      <th>DAYS_DECISION_prev_min</th>\n",
       "      <th>DAYS_DECISION_prev_max</th>\n",
       "      <th>DAYS_TERMINATION_prev_min</th>\n",
       "      <th>...</th>\n",
       "      <th>PRODUCT_COMBINATION_Cash X-Sell: low</th>\n",
       "      <th>PRODUCT_COMBINATION_Cash X-Sell: middle</th>\n",
       "      <th>PRODUCT_COMBINATION_POS household with interest</th>\n",
       "      <th>PRODUCT_COMBINATION_POS household without interest</th>\n",
       "      <th>PRODUCT_COMBINATION_POS industry with interest</th>\n",
       "      <th>PRODUCT_COMBINATION_POS industry without interest</th>\n",
       "      <th>PRODUCT_COMBINATION_POS mobile with interest</th>\n",
       "      <th>PRODUCT_COMBINATION_POS mobile without interest</th>\n",
       "      <th>PRODUCT_COMBINATION_POS other with interest</th>\n",
       "      <th>PRODUCT_COMBINATION_POS others without interest</th>\n",
       "    </tr>\n",
       "  </thead>\n",
       "  <tbody>\n",
       "    <tr>\n",
       "      <th>0</th>\n",
       "      <td>100001</td>\n",
       "      <td>3951.000</td>\n",
       "      <td>24835.5</td>\n",
       "      <td>23787.0</td>\n",
       "      <td>2520.0</td>\n",
       "      <td>24835.5</td>\n",
       "      <td>23.0</td>\n",
       "      <td>-1740</td>\n",
       "      <td>-1740</td>\n",
       "      <td>-1612.0</td>\n",
       "      <td>...</td>\n",
       "      <td>0</td>\n",
       "      <td>0</td>\n",
       "      <td>0</td>\n",
       "      <td>0</td>\n",
       "      <td>0</td>\n",
       "      <td>0</td>\n",
       "      <td>1</td>\n",
       "      <td>0</td>\n",
       "      <td>0</td>\n",
       "      <td>0</td>\n",
       "    </tr>\n",
       "    <tr>\n",
       "      <th>1</th>\n",
       "      <td>100002</td>\n",
       "      <td>9251.775</td>\n",
       "      <td>179055.0</td>\n",
       "      <td>179055.0</td>\n",
       "      <td>0.0</td>\n",
       "      <td>179055.0</td>\n",
       "      <td>500.0</td>\n",
       "      <td>-606</td>\n",
       "      <td>-606</td>\n",
       "      <td>-17.0</td>\n",
       "      <td>...</td>\n",
       "      <td>0</td>\n",
       "      <td>0</td>\n",
       "      <td>0</td>\n",
       "      <td>0</td>\n",
       "      <td>0</td>\n",
       "      <td>0</td>\n",
       "      <td>0</td>\n",
       "      <td>0</td>\n",
       "      <td>1</td>\n",
       "      <td>0</td>\n",
       "    </tr>\n",
       "  </tbody>\n",
       "</table>\n",
       "<p>2 rows × 143 columns</p>\n",
       "</div>"
      ],
      "text/plain": [
       "   SK_ID_CURR  AMT_ANNUITY_prev_mean  AMT_APPLICATION_prev_mean  \\\n",
       "0      100001               3951.000                    24835.5   \n",
       "1      100002               9251.775                   179055.0   \n",
       "\n",
       "   AMT_CREDIT_prev_mean  AMT_DOWN_PAYMENT_prev_mean  \\\n",
       "0               23787.0                      2520.0   \n",
       "1              179055.0                         0.0   \n",
       "\n",
       "   AMT_GOODS_PRICE_prev_mean  SELLERPLACE_AREA_prev_mean  \\\n",
       "0                    24835.5                        23.0   \n",
       "1                   179055.0                       500.0   \n",
       "\n",
       "   DAYS_DECISION_prev_min  DAYS_DECISION_prev_max  DAYS_TERMINATION_prev_min  \\\n",
       "0                   -1740                   -1740                    -1612.0   \n",
       "1                    -606                    -606                      -17.0   \n",
       "\n",
       "                        ...                         \\\n",
       "0                       ...                          \n",
       "1                       ...                          \n",
       "\n",
       "   PRODUCT_COMBINATION_Cash X-Sell: low  \\\n",
       "0                                     0   \n",
       "1                                     0   \n",
       "\n",
       "   PRODUCT_COMBINATION_Cash X-Sell: middle  \\\n",
       "0                                        0   \n",
       "1                                        0   \n",
       "\n",
       "   PRODUCT_COMBINATION_POS household with interest  \\\n",
       "0                                                0   \n",
       "1                                                0   \n",
       "\n",
       "   PRODUCT_COMBINATION_POS household without interest  \\\n",
       "0                                                  0    \n",
       "1                                                  0    \n",
       "\n",
       "   PRODUCT_COMBINATION_POS industry with interest  \\\n",
       "0                                               0   \n",
       "1                                               0   \n",
       "\n",
       "   PRODUCT_COMBINATION_POS industry without interest  \\\n",
       "0                                                  0   \n",
       "1                                                  0   \n",
       "\n",
       "   PRODUCT_COMBINATION_POS mobile with interest  \\\n",
       "0                                             1   \n",
       "1                                             0   \n",
       "\n",
       "   PRODUCT_COMBINATION_POS mobile without interest  \\\n",
       "0                                                0   \n",
       "1                                                0   \n",
       "\n",
       "   PRODUCT_COMBINATION_POS other with interest  \\\n",
       "0                                            0   \n",
       "1                                            1   \n",
       "\n",
       "   PRODUCT_COMBINATION_POS others without interest  \n",
       "0                                                0  \n",
       "1                                                0  \n",
       "\n",
       "[2 rows x 143 columns]"
      ]
     },
     "execution_count": 9,
     "metadata": {},
     "output_type": "execute_result"
    }
   ],
   "source": [
    "prv_gb.head(2)"
   ]
  },
  {
   "cell_type": "markdown",
   "metadata": {},
   "source": [
    "## Load installment dataset and aggregate per customer "
   ]
  },
  {
   "cell_type": "code",
   "execution_count": 10,
   "metadata": {},
   "outputs": [],
   "source": [
    "### installment data \n",
    "inst = pd.read_csv(\"../Data/installments_payments.csv\")\n",
    "inst[\"days_diff\"] = inst[\"DAYS_INSTALMENT\"] - inst[\"DAYS_ENTRY_PAYMENT\"]\n",
    "inst[\"amt_diff\"] = inst[\"AMT_INSTALMENT\"] - inst[\"AMT_PAYMENT\"]\n",
    "inst['PAYMENT_PERC'] = inst['AMT_PAYMENT'] / inst['AMT_INSTALMENT']\n",
    "# Days past due and days before due (no negative values)\n",
    "inst['DPD'] = inst['DAYS_ENTRY_PAYMENT'] - inst['DAYS_INSTALMENT']\n",
    "inst['DBD'] = inst['DAYS_INSTALMENT'] - inst['DAYS_ENTRY_PAYMENT']\n",
    "inst['DPD'] = inst['DPD'].apply(lambda x: x if x > 0 else 0)\n",
    "inst['DBD'] = inst['DBD'].apply(lambda x: x if x > 0 else 0)\n",
    "    \n",
    "inst_gb = inst.groupby(\"SK_ID_CURR\").agg({\"days_diff\":['mean', 'max', 'min'], \"amt_diff\":['mean', 'max', 'min'],\n",
    "                                        \"NUM_INSTALMENT_VERSION\":[ 'max', 'count'], \"NUM_INSTALMENT_NUMBER\":['max', 'count'], \n",
    "                                          \"SK_ID_PREV\":['count']})\n",
    "inst_gb.columns = ['_inst_'.join(col) for col in inst_gb.columns]\n",
    "inst_gb = inst_gb.reset_index()\n",
    "# inst_gb = inst.groupby(\"SK_ID_CURR\")[[\"AMT_INSTALMENT\",\"AMT_PAYMENT\"]].sum().add_suffix(\"_inst\").reset_index()\n",
    "# inst_gb[\"diff\"] = inst_gb[\"AMT_INSTALMENT_inst\"] - inst_gb[\"AMT_PAYMENT_inst\"]\n",
    "# inst_gb = inst_gb.drop([\"AMT_INSTALMENT_inst\", \"AMT_PAYMENT_inst\"], axis=1)"
   ]
  },
  {
   "cell_type": "code",
   "execution_count": 11,
   "metadata": {},
   "outputs": [
    {
     "data": {
      "text/html": [
       "<div>\n",
       "<style scoped>\n",
       "    .dataframe tbody tr th:only-of-type {\n",
       "        vertical-align: middle;\n",
       "    }\n",
       "\n",
       "    .dataframe tbody tr th {\n",
       "        vertical-align: top;\n",
       "    }\n",
       "\n",
       "    .dataframe thead th {\n",
       "        text-align: right;\n",
       "    }\n",
       "</style>\n",
       "<table border=\"1\" class=\"dataframe\">\n",
       "  <thead>\n",
       "    <tr style=\"text-align: right;\">\n",
       "      <th></th>\n",
       "      <th>SK_ID_CURR</th>\n",
       "      <th>days_diff_inst_mean</th>\n",
       "      <th>days_diff_inst_max</th>\n",
       "      <th>days_diff_inst_min</th>\n",
       "      <th>amt_diff_inst_mean</th>\n",
       "      <th>amt_diff_inst_max</th>\n",
       "      <th>amt_diff_inst_min</th>\n",
       "      <th>NUM_INSTALMENT_VERSION_inst_max</th>\n",
       "      <th>NUM_INSTALMENT_VERSION_inst_count</th>\n",
       "      <th>NUM_INSTALMENT_NUMBER_inst_max</th>\n",
       "      <th>NUM_INSTALMENT_NUMBER_inst_count</th>\n",
       "      <th>SK_ID_PREV_inst_count</th>\n",
       "    </tr>\n",
       "  </thead>\n",
       "  <tbody>\n",
       "    <tr>\n",
       "      <th>0</th>\n",
       "      <td>100001</td>\n",
       "      <td>7.285714</td>\n",
       "      <td>36.0</td>\n",
       "      <td>-11.0</td>\n",
       "      <td>0.0</td>\n",
       "      <td>0.0</td>\n",
       "      <td>0.0</td>\n",
       "      <td>2.0</td>\n",
       "      <td>7</td>\n",
       "      <td>4</td>\n",
       "      <td>7</td>\n",
       "      <td>7</td>\n",
       "    </tr>\n",
       "    <tr>\n",
       "      <th>1</th>\n",
       "      <td>100002</td>\n",
       "      <td>20.421053</td>\n",
       "      <td>31.0</td>\n",
       "      <td>12.0</td>\n",
       "      <td>0.0</td>\n",
       "      <td>0.0</td>\n",
       "      <td>0.0</td>\n",
       "      <td>2.0</td>\n",
       "      <td>19</td>\n",
       "      <td>19</td>\n",
       "      <td>19</td>\n",
       "      <td>19</td>\n",
       "    </tr>\n",
       "  </tbody>\n",
       "</table>\n",
       "</div>"
      ],
      "text/plain": [
       "   SK_ID_CURR  days_diff_inst_mean  days_diff_inst_max  days_diff_inst_min  \\\n",
       "0      100001             7.285714                36.0               -11.0   \n",
       "1      100002            20.421053                31.0                12.0   \n",
       "\n",
       "   amt_diff_inst_mean  amt_diff_inst_max  amt_diff_inst_min  \\\n",
       "0                 0.0                0.0                0.0   \n",
       "1                 0.0                0.0                0.0   \n",
       "\n",
       "   NUM_INSTALMENT_VERSION_inst_max  NUM_INSTALMENT_VERSION_inst_count  \\\n",
       "0                              2.0                                  7   \n",
       "1                              2.0                                 19   \n",
       "\n",
       "   NUM_INSTALMENT_NUMBER_inst_max  NUM_INSTALMENT_NUMBER_inst_count  \\\n",
       "0                               4                                 7   \n",
       "1                              19                                19   \n",
       "\n",
       "   SK_ID_PREV_inst_count  \n",
       "0                      7  \n",
       "1                     19  "
      ]
     },
     "execution_count": 11,
     "metadata": {},
     "output_type": "execute_result"
    }
   ],
   "source": [
    "inst_gb.head(2)"
   ]
  },
  {
   "cell_type": "markdown",
   "metadata": {},
   "source": [
    "## Load cash data and aggregate per customer"
   ]
  },
  {
   "cell_type": "code",
   "execution_count": 13,
   "metadata": {},
   "outputs": [],
   "source": [
    "### POS_Cash data\n",
    "cash = pd.read_csv(\"../Data/POS_CASH_balance.csv\")\n",
    "cash_gb = cash.groupby(\"SK_ID_CURR\").agg({\"SK_ID_PREV\":['count']})\n",
    "cash_gb.columns = ['_cash_'.join(col) for col in cash_gb.columns]\n",
    "cash_gb = cash_gb.reset_index()\n",
    "\n",
    "# cash_cats = pd.get_dummies(cash.select_dtypes('object'))\n",
    "# cash_cats['SK_ID_CURR'] = cash['SK_ID_CURR']\n",
    "# cash_cats_grouped = cash_cats.groupby('SK_ID_CURR').agg('sum').reset_index()\n",
    "# cash_gb = pd.merge(cash_gb, cash_cats_grouped, on = 'SK_ID_CURR', how = 'left')\n",
    "\n",
    "# cash_cats = pd.get_dummies(cash.select_dtypes('object'))\n",
    "# cash_cats['SK_ID_CURR'] = cash['SK_ID_CURR']\n",
    "# cash_gb = cash_cats.groupby('SK_ID_CURR').agg('sum').reset_index()"
   ]
  },
  {
   "cell_type": "code",
   "execution_count": 14,
   "metadata": {},
   "outputs": [
    {
     "data": {
      "text/html": [
       "<div>\n",
       "<style scoped>\n",
       "    .dataframe tbody tr th:only-of-type {\n",
       "        vertical-align: middle;\n",
       "    }\n",
       "\n",
       "    .dataframe tbody tr th {\n",
       "        vertical-align: top;\n",
       "    }\n",
       "\n",
       "    .dataframe thead th {\n",
       "        text-align: right;\n",
       "    }\n",
       "</style>\n",
       "<table border=\"1\" class=\"dataframe\">\n",
       "  <thead>\n",
       "    <tr style=\"text-align: right;\">\n",
       "      <th></th>\n",
       "      <th>SK_ID_CURR</th>\n",
       "      <th>SK_ID_PREV_cash_count</th>\n",
       "    </tr>\n",
       "  </thead>\n",
       "  <tbody>\n",
       "    <tr>\n",
       "      <th>0</th>\n",
       "      <td>100001</td>\n",
       "      <td>9</td>\n",
       "    </tr>\n",
       "    <tr>\n",
       "      <th>1</th>\n",
       "      <td>100002</td>\n",
       "      <td>19</td>\n",
       "    </tr>\n",
       "  </tbody>\n",
       "</table>\n",
       "</div>"
      ],
      "text/plain": [
       "   SK_ID_CURR  SK_ID_PREV_cash_count\n",
       "0      100001                      9\n",
       "1      100002                     19"
      ]
     },
     "execution_count": 14,
     "metadata": {},
     "output_type": "execute_result"
    }
   ],
   "source": [
    "cash_gb.head(2)"
   ]
  },
  {
   "cell_type": "markdown",
   "metadata": {},
   "source": [
    "## Load credit card balance data and aggregate per customer"
   ]
  },
  {
   "cell_type": "code",
   "execution_count": 22,
   "metadata": {},
   "outputs": [],
   "source": [
    "### credit card balance data \n",
    "ccb = pd.read_csv(\"../Data/credit_card_balance.csv\")\n",
    "ccb_gb = ccb.groupby(\"SK_ID_CURR\").agg(['min', 'max', 'mean', 'sum', 'var']).add_suffix(\"_ccb\")\n",
    "ccb_gb.columns = ['_inst_'.join(col) for col in ccb_gb.columns]\n",
    "ccb_gb = ccb_gb.reset_index()"
   ]
  },
  {
   "cell_type": "markdown",
   "metadata": {},
   "source": [
    "## Add some handcrafted features "
   ]
  },
  {
   "cell_type": "code",
   "execution_count": 15,
   "metadata": {},
   "outputs": [],
   "source": [
    "### Additional hand crafted features\n",
    "full_train_orig['LOAN_INCOME_RATIO'] = full_train_orig['AMT_CREDIT'] / full_train_orig['AMT_INCOME_TOTAL']\n",
    "full_train_orig['ANNUITY_INCOME_RATIO'] = full_train_orig['AMT_ANNUITY'] / full_train_orig['AMT_INCOME_TOTAL']\n",
    "full_train_orig['ANNUITY LENGTH'] = full_train_orig['AMT_CREDIT'] / full_train_orig['AMT_ANNUITY']\n",
    "full_train_orig['WORKING_LIFE_RATIO'] = full_train_orig['DAYS_EMPLOYED'] / full_train_orig['DAYS_BIRTH']\n",
    "full_train_orig['INCOME_PER_FAM'] = full_train_orig['AMT_INCOME_TOTAL'] / full_train_orig['CNT_FAM_MEMBERS']\n",
    "full_train_orig['CHILDREN_RATIO'] = full_train_orig['CNT_CHILDREN'] / full_train_orig['CNT_FAM_MEMBERS']\n",
    "\n",
    "full_train_orig['DAYS_EMPLOYED'].replace(365243, np.nan, inplace= True)\n",
    "full_train_orig['DAYS_EMPLOYED_PERC'] = full_train_orig['DAYS_EMPLOYED'] / full_train_orig['DAYS_BIRTH']\n",
    "full_train_orig['CNT_CHILDREN_outlier'] = (full_train_orig['CNT_CHILDREN'] > 6).astype(int)\n",
    "for i in full_train_orig['CNT_CHILDREN']:\n",
    "    if i > 6:\n",
    "        full_train_orig['CNT_CHILDREN'].replace({i: np.nan}, inplace = True)\n",
    "        \n",
    "# full_train_orig['OWN_CAR_AGE_outlier'] = (full_train_orig['OWN_CAR_AGE'] > 60).astype(int)\n",
    "# for i in full_train_orig['OWN_CAR_AGE']:\n",
    "#     if i > 60:\n",
    "#         full_train_orig['OWN_CAR_AGE'].replace({i: np.nan}, inplace = True)\n",
    "\n",
    "# full_train_orig['CNT_FAM_MEMBERS_outlier'] = (full_train_orig['CNT_FAM_MEMBERS'] > 5).astype(int)\n",
    "# for i in full_train_orig['CNT_FAM_MEMBERS']:\n",
    "#     if i > 5:\n",
    "#         full_train_orig['CNT_FAM_MEMBERS'].replace({i: np.nan}, inplace = True)\n",
    "\n",
    "full_train_orig['REGION_RATING_CLIENT_W_CITY'].map(lambda s: 1 if s == -1 else 0).sum()\n",
    "for i in full_train_orig['REGION_RATING_CLIENT_W_CITY']:\n",
    "    if i == -1:\n",
    "        full_train_orig['REGION_RATING_CLIENT_W_CITY'].replace({i: 1}, inplace = True)\n",
    "\n",
    "# full_train_orig['OBS_30_CNT_SOCIAL_CIRCLE_outlier'] = (full_train_orig['OBS_30_CNT_SOCIAL_CIRCLE'] > 17).astype(int)\n",
    "# for i in full_train_orig['OBS_30_CNT_SOCIAL_CIRCLE']:\n",
    "#     if i > 17:\n",
    "#         full_train_orig['OBS_30_CNT_SOCIAL_CIRCLE'].replace({i: np.nan}, inplace = True)\n",
    "#full_train_orig['NEW_CREDIT_TO_GOODS_RATIO'] = full_train_orig['AMT_CREDIT'] / full_train_orig['AMT_GOODS_PRICE']\n",
    "#full_train_orig = full_train_orig.drop([\"AMT_CREDIT\", \"AMT_ANNUITY\", \"AMT_GOODS_PRICE\"], axis=1)\n",
    "# full_train_orig['NEW_INC_PER_CHLD'] = full_train_orig['AMT_INCOME_TOTAL'] / (1 + full_train_orig['CNT_CHILDREN'])\n",
    "# full_train_orig['NEW_SOURCES_PROD'] = full_train_orig['EXT_SOURCE_1'] * full_train_orig['EXT_SOURCE_2'] * full_train_orig['EXT_SOURCE_3']\n",
    "# full_train_orig['NEW_EXT_SOURCES_MEAN'] = full_train_orig[['EXT_SOURCE_1', 'EXT_SOURCE_2', 'EXT_SOURCE_3']].mean(axis=1)\n",
    "# full_train_orig['NEW_SCORES_STD'] = full_train_orig[['EXT_SOURCE_1', 'EXT_SOURCE_2', 'EXT_SOURCE_3']].std(axis=1)\n",
    "# full_train_orig['NEW_CAR_TO_BIRTH_RATIO'] = full_train_orig['OWN_CAR_AGE'] / full_train_orig['DAYS_BIRTH']\n",
    "# full_train_orig['NEW_CAR_TO_EMPLOY_RATIO'] = full_train_orig['OWN_CAR_AGE'] / full_train_orig['DAYS_EMPLOYED']\n",
    "# full_train_orig['NEW_PHONE_TO_BIRTH_RATIO'] = full_train_orig['DAYS_LAST_PHONE_CHANGE'] / full_train_orig['DAYS_BIRTH']\n",
    "# full_train_orig['NEW_PHONE_TO_EMPLOY_RATIO'] = full_train_orig['DAYS_LAST_PHONE_CHANGE'] / full_train_orig['DAYS_EMPLOYED']\n",
    "\n",
    "\n",
    "test['LOAN_INCOME_RATIO'] = test['AMT_CREDIT'] / test['AMT_INCOME_TOTAL']\n",
    "test['ANNUITY_INCOME_RATIO'] = test['AMT_ANNUITY'] / test['AMT_INCOME_TOTAL']\n",
    "test['ANNUITY LENGTH'] = test['AMT_CREDIT'] / test['AMT_ANNUITY']\n",
    "test['WORKING_LIFE_RATIO'] = test['DAYS_EMPLOYED'] / test['DAYS_BIRTH']\n",
    "test['INCOME_PER_FAM'] = test['AMT_INCOME_TOTAL'] / test['CNT_FAM_MEMBERS']\n",
    "test['CHILDREN_RATIO'] = test['CNT_CHILDREN'] / test['CNT_FAM_MEMBERS']\n",
    "\n",
    "test['DAYS_EMPLOYED'].replace(365243, np.nan, inplace= True)\n",
    "test['DAYS_EMPLOYED_PERC'] = test['DAYS_EMPLOYED'] / test['DAYS_BIRTH']\n",
    "test['CNT_CHILDREN_outlier'] = (test['CNT_CHILDREN'] > 6).astype(int)\n",
    "for i in test['CNT_CHILDREN']:\n",
    "    if i > 6:\n",
    "        test['CNT_CHILDREN'].replace({i: np.nan}, inplace = True)\n",
    "\n",
    "# test['OWN_CAR_AGE_outlier'] = (test['OWN_CAR_AGE'] > 60).astype(int)\n",
    "# for i in test['OWN_CAR_AGE']:\n",
    "#     if i > 60:\n",
    "#         test['OWN_CAR_AGE'].replace({i: np.nan}, inplace = True)\n",
    "\n",
    "# test['CNT_FAM_MEMBERS_outlier'] = (test['CNT_FAM_MEMBERS'] > 5).astype(int)\n",
    "# for i in test['CNT_FAM_MEMBERS']:\n",
    "#     if i > 5:\n",
    "#         test['CNT_FAM_MEMBERS'].replace({i: np.nan}, inplace = True)\n",
    "        \n",
    "test['REGION_RATING_CLIENT_W_CITY'].map(lambda s: 1 if s == -1 else 0).sum()\n",
    "for i in test['REGION_RATING_CLIENT_W_CITY']:\n",
    "    if i == -1:\n",
    "        test['REGION_RATING_CLIENT_W_CITY'].replace({i: 1}, inplace = True)\n",
    "        \n",
    "        \n",
    "# test['OBS_30_CNT_SOCIAL_CIRCLE_outlier'] = (test['OBS_30_CNT_SOCIAL_CIRCLE'] > 17).astype(int)\n",
    "# for i in test['OBS_30_CNT_SOCIAL_CIRCLE']:\n",
    "#     if i > 17:\n",
    "#         test['OBS_30_CNT_SOCIAL_CIRCLE'].replace({i: np.nan}, inplace = True)\n",
    "#test['NEW_CREDIT_TO_GOODS_RATIO'] = test['AMT_CREDIT'] / test['AMT_GOODS_PRICE']\n",
    "#test = test.drop([\"AMT_CREDIT\", \"AMT_ANNUITY\", \"AMT_GOODS_PRICE\"], axis=1)\n",
    "# test['NEW_INC_PER_CHLD'] = test['AMT_INCOME_TOTAL'] / (1 + test['CNT_CHILDREN'])\n",
    "# test['NEW_SOURCES_PROD'] = test['EXT_SOURCE_1'] * test['EXT_SOURCE_2'] * test['EXT_SOURCE_3']\n",
    "# test['NEW_EXT_SOURCES_MEAN'] = test[['EXT_SOURCE_1', 'EXT_SOURCE_2', 'EXT_SOURCE_3']].mean(axis=1)\n",
    "# test['NEW_SCORES_STD'] = test[['EXT_SOURCE_1', 'EXT_SOURCE_2', 'EXT_SOURCE_3']].std(axis=1)\n",
    "# test['NEW_CAR_TO_BIRTH_RATIO'] = test['OWN_CAR_AGE'] / test['DAYS_BIRTH']\n",
    "# test['NEW_CAR_TO_EMPLOY_RATIO'] = test['OWN_CAR_AGE'] / test['DAYS_EMPLOYED']\n",
    "# test['NEW_PHONE_TO_BIRTH_RATIO'] = test['DAYS_LAST_PHONE_CHANGE'] / test['DAYS_BIRTH']\n",
    "# test['NEW_PHONE_TO_EMPLOY_RATIO'] = test['DAYS_LAST_PHONE_CHANGE'] / test['DAYS_EMPLOYED']"
   ]
  },
  {
   "cell_type": "markdown",
   "metadata": {},
   "source": [
    "## Combine bureau data"
   ]
  },
  {
   "cell_type": "code",
   "execution_count": 16,
   "metadata": {},
   "outputs": [],
   "source": [
    "full_train_orig = pd.merge(full_train_orig, bureau_gb, how=\"inner\", on=\"SK_ID_CURR\")\n",
    "test = pd.merge(test, bureau_gb, how=\"left\", on=\"SK_ID_CURR\")"
   ]
  },
  {
   "cell_type": "code",
   "execution_count": 17,
   "metadata": {},
   "outputs": [
    {
     "data": {
      "text/plain": [
       "(263491, 162)"
      ]
     },
     "execution_count": 17,
     "metadata": {},
     "output_type": "execute_result"
    }
   ],
   "source": [
    "full_train_orig.shape"
   ]
  },
  {
   "cell_type": "markdown",
   "metadata": {},
   "source": [
    "## Combine previous application data"
   ]
  },
  {
   "cell_type": "code",
   "execution_count": 18,
   "metadata": {},
   "outputs": [],
   "source": [
    "full_train_orig = pd.merge(full_train_orig, prv_gb, how=\"inner\", on=\"SK_ID_CURR\")\n",
    "test = pd.merge(test, prv_gb, how=\"left\", on=\"SK_ID_CURR\")"
   ]
  },
  {
   "cell_type": "markdown",
   "metadata": {},
   "source": [
    "## Combine installment data"
   ]
  },
  {
   "cell_type": "code",
   "execution_count": 19,
   "metadata": {},
   "outputs": [],
   "source": [
    "full_train_orig = pd.merge(full_train_orig, inst_gb, how=\"inner\", on=\"SK_ID_CURR\")\n",
    "test = pd.merge(test, inst_gb, how=\"left\", on=\"SK_ID_CURR\")"
   ]
  },
  {
   "cell_type": "code",
   "execution_count": 20,
   "metadata": {},
   "outputs": [
    {
     "data": {
      "text/plain": [
       "(248721, 315)"
      ]
     },
     "execution_count": 20,
     "metadata": {},
     "output_type": "execute_result"
    }
   ],
   "source": [
    "full_train_orig.shape"
   ]
  },
  {
   "cell_type": "markdown",
   "metadata": {},
   "source": [
    "## Combine credit card balance data "
   ]
  },
  {
   "cell_type": "code",
   "execution_count": 23,
   "metadata": {},
   "outputs": [],
   "source": [
    "full_train_orig = pd.merge(full_train_orig, ccb_gb, how=\"left\", on=\"SK_ID_CURR\")\n",
    "test = pd.merge(test, ccb_gb, how=\"left\", on=\"SK_ID_CURR\")"
   ]
  },
  {
   "cell_type": "code",
   "execution_count": 24,
   "metadata": {},
   "outputs": [
    {
     "data": {
      "text/plain": [
       "(248721, 420)"
      ]
     },
     "execution_count": 24,
     "metadata": {},
     "output_type": "execute_result"
    }
   ],
   "source": [
    "full_train_orig.shape"
   ]
  },
  {
   "cell_type": "markdown",
   "metadata": {},
   "source": [
    "## combine pos_cash data"
   ]
  },
  {
   "cell_type": "code",
   "execution_count": 93,
   "metadata": {},
   "outputs": [],
   "source": [
    "# full_train_orig = pd.merge(full_train_orig, cash_gb, how=\"inner\", on=\"SK_ID_CURR\")\n",
    "# test = pd.merge(test, cash_gb, how=\"left\", on=\"SK_ID_CURR\")"
   ]
  },
  {
   "cell_type": "code",
   "execution_count": 95,
   "metadata": {},
   "outputs": [],
   "source": [
    "# '''\n",
    "# Removing columns with more than 100 null values (filters out 62 columns out of 122 columns)\n",
    "# And not useful (based on EDA) which removes reduces feature size to 43)\n",
    "# '''\n",
    "\n",
    "# null_columns = full_train_orig.columns[full_train_orig.isnull().sum().values > 100000].values.tolist()\n",
    "# correlated_columns = ['AMT_ANNUITY', 'AMT_GOODS_PRICE', 'CNT_FAM_MEMBERS', 'REGION_RATING_CLIENT_W_CITY',\n",
    "#                      'OBS_60_CNT_SOCIAL_CIRCLE', 'DEF_60_CNT_SOCIAL_CIRCLE']\n",
    "# useless_columns = [ \"FLAG_DOCUMENT_2\", \"FLAG_DOCUMENT_4\", \"FLAG_DOCUMENT_5\", \"FLAG_DOCUMENT_7\"\n",
    "#                   ,'FLAG_DOCUMENT_9','FLAG_DOCUMENT_10', 'FLAG_DOCUMENT_11', 'FLAG_DOCUMENT_12',\n",
    "#        'FLAG_DOCUMENT_13', 'FLAG_DOCUMENT_14', 'FLAG_DOCUMENT_15',\n",
    "#        'FLAG_DOCUMENT_16', 'FLAG_DOCUMENT_17', 'FLAG_DOCUMENT_18',\n",
    "#        'FLAG_DOCUMENT_19', 'FLAG_DOCUMENT_20', 'FLAG_DOCUMENT_21']"
   ]
  },
  {
   "cell_type": "code",
   "execution_count": 96,
   "metadata": {},
   "outputs": [],
   "source": [
    "### Manually removing columns which doesn't make sense (based on EDA)\n",
    "#full_train = full_train_orig.drop(null_columns+useless_columns, axis = 1)"
   ]
  },
  {
   "cell_type": "code",
   "execution_count": 26,
   "metadata": {},
   "outputs": [],
   "source": [
    "full_train = full_train_orig"
   ]
  },
  {
   "cell_type": "code",
   "execution_count": 27,
   "metadata": {},
   "outputs": [],
   "source": [
    "full_train_y = full_train.TARGET.values\n",
    "full_train = full_train.drop([\"TARGET\"], axis = 1)\n",
    "full_train = full_train.set_index(\"SK_ID_CURR\")\n",
    "num_feats = full_train._get_numeric_data().columns.values.tolist()\n",
    "cat_feats = list(set(full_train.columns.values) - set(num_feats))"
   ]
  },
  {
   "cell_type": "code",
   "execution_count": 28,
   "metadata": {},
   "outputs": [],
   "source": [
    "## Categorical Features - Train\n",
    "train_cat= full_train[cat_feats]\n",
    "train_cat = pd.get_dummies(train_cat)\n",
    "\n",
    "## Numerical Features - Train\n",
    "train_num = full_train[num_feats]\n",
    "## Categorical Features - Test\n",
    "test_cat = test[cat_feats]\n",
    "test_cat = pd.get_dummies(test_cat)\n",
    "\n",
    "## Numerical Features - Test\n",
    "test_num = test[num_feats]"
   ]
  },
  {
   "cell_type": "code",
   "execution_count": 32,
   "metadata": {},
   "outputs": [],
   "source": [
    "full_train_feats = pd.concat([train_num, train_cat], axis=1)\n",
    "test_feats = pd.concat([test_num, test_cat], axis=1)"
   ]
  },
  {
   "cell_type": "code",
   "execution_count": 33,
   "metadata": {},
   "outputs": [],
   "source": [
    "full_train_feats = full_train_feats.fillna((full_train_feats.median()))\n",
    "test_feats = test_feats.fillna(test_feats.median())"
   ]
  },
  {
   "cell_type": "code",
   "execution_count": 34,
   "metadata": {},
   "outputs": [],
   "source": [
    "# full_train_feats = full_train_feats.apply(lambda x: x.fillna(x.mean()),axis=0)\n",
    "# test_feats = test_feats.apply(lambda x: x.fillna(x.mean()),axis=0)"
   ]
  },
  {
   "cell_type": "code",
   "execution_count": 35,
   "metadata": {},
   "outputs": [],
   "source": [
    "train_X, valid_X, train_y, valid_y = train_test_split(full_train_feats, full_train_y, train_size = 0.8, stratify=full_train_y, random_state=42)"
   ]
  },
  {
   "cell_type": "markdown",
   "metadata": {},
   "source": [
    "# Random Forest Classifier"
   ]
  },
  {
   "cell_type": "code",
   "execution_count": 37,
   "metadata": {},
   "outputs": [],
   "source": [
    "# ### RF classifier\n",
    "# params_rf={\n",
    "#     'max_depth': [20, 40, 60], #[3,4,5,6,7,8,9], # 5 is good but takes too long in kaggle env\n",
    "#     'n_estimators': [100, 300, 500], #[1000,2000,3000]\n",
    "# }\n",
    "\n",
    "# rf_clf = RandomForestClassifier()\n",
    "# rf = GridSearchCV(rf_clf,\n",
    "#                   params_rf,\n",
    "#                   cv=3,\n",
    "#                   scoring=\"roc_auc\",\n",
    "#                   n_jobs=1,\n",
    "#                   verbose=2)\n",
    "# rf.fit(train_X.drop(list(set(train_X.columns.tolist()) - set(test_feats.columns.tolist())), axis=1), train_y)\n",
    "# best_est_rf = rf.best_estimator_\n",
    "# print(best_est)"
   ]
  },
  {
   "cell_type": "code",
   "execution_count": null,
   "metadata": {},
   "outputs": [],
   "source": [
    "valid_probs_rf = rf.predict_proba(valid_X.drop(list(set(train_X.columns.tolist()) - set(test_feats.columns.tolist())), axis=1))[:,1]\n",
    "valid_preds_rf = rf.predict(valid_X.drop(list(set(train_X.columns.tolist()) - set(test_feats.columns.tolist())), axis=1))"
   ]
  },
  {
   "cell_type": "code",
   "execution_count": null,
   "metadata": {},
   "outputs": [],
   "source": [
    "print(accuracy_score(valid_y, valid_preds_rf))\n",
    "print(roc_auc_score(valid_y, valid_probs_rf))"
   ]
  },
  {
   "cell_type": "code",
   "execution_count": null,
   "metadata": {},
   "outputs": [],
   "source": [
    "list(set(train_X.columns.tolist()) - set(test_feats.columns.tolist()))"
   ]
  },
  {
   "cell_type": "markdown",
   "metadata": {},
   "source": [
    "# XGboost with Grid Search"
   ]
  },
  {
   "cell_type": "code",
   "execution_count": null,
   "metadata": {},
   "outputs": [],
   "source": [
    "# params={\n",
    "#     'max_depth': [3, 5], #[3,4,5,6,7,8,9], # 5 is good but takes too long in kaggle env\n",
    "#     'subsample': [0.6, 0.8], #[0.4,0.5,0.6,0.7,0.8,0.9,1.0],\n",
    "#     'colsample_bytree': [0.5, 0.7], #[0.5,0.6,0.7,0.8],\n",
    "#     'n_estimators': [500, 700], #[1000,2000,3000]\n",
    "#     'reg_alpha': [0.1, 0.05],  #[0.01, 0.02, 0.03, 0.04]\n",
    "#     'scale_pos_weight':[3, 5]\n",
    "# }\n",
    "\n",
    "# xgb_clf = xgb.XGBClassifier(missing=9999999999)\n",
    "# rs = GridSearchCV(xgb_clf,\n",
    "#                   params,\n",
    "#                   cv=3,\n",
    "#                   scoring=\"roc_auc\",\n",
    "#                   n_jobs=1,\n",
    "#                   verbose=2)\n",
    "# rs.fit(train_X.drop(list(set(train_X.columns.tolist()) - set(test_feats.columns.tolist())), axis=1), train_y)\n",
    "# best_est = rs.best_estimator_\n",
    "# print(best_est)"
   ]
  },
  {
   "cell_type": "code",
   "execution_count": null,
   "metadata": {},
   "outputs": [],
   "source": [
    "valid_probs_rs = rs.predict_proba(valid_X.drop(list(set(train_X.columns.tolist()) - set(test_feats.columns.tolist())), axis=1))[:,1]\n",
    "valid_preds_rs= rs.predict(valid_X.drop(list(set(train_X.columns.tolist()) - set(test_feats.columns.tolist())), axis=1))[:,1]\n",
    "print(accuracy_score(valid_y, valid_preds_rs))\n",
    "print(roc_auc_score(valid_y, valid_probs_rs))"
   ]
  },
  {
   "cell_type": "markdown",
   "metadata": {},
   "source": [
    "# Single XGBoost model with best parameters"
   ]
  },
  {
   "cell_type": "code",
   "execution_count": 107,
   "metadata": {},
   "outputs": [
    {
     "name": "stdout",
     "output_type": "stream",
     "text": [
      "0.907045934265\n",
      "0.788471563036\n"
     ]
    }
   ],
   "source": [
    "xgb_single = xgb.XGBClassifier(base_score=0.5, colsample_bylevel=1, colsample_bytree=0.5,\n",
    "       gamma=0, learning_rate=0.1, max_delta_step=0, max_depth=3,\n",
    "       min_child_weight=1, missing=9999999999, n_estimators=500,\n",
    "       nthread=-1, objective='binary:logistic', reg_alpha=0.05,\n",
    "       reg_lambda=1, scale_pos_weight=3, seed=0, silent=True,\n",
    "       subsample=0.8)\n",
    "\n",
    "xgb_single.fit(train_X.drop(list(set(train_X.columns.tolist()) - set(test_feats.columns.tolist())), axis=1), train_y)\n",
    "valid_probs_xgb_single = xgb_single.predict_proba(valid_X.drop(list(set(train_X.columns.tolist()) - set(test_feats.columns.tolist())), axis=1))[:,1]\n",
    "valid_preds_xgb_single = xgb_single.predict(valid_X.drop(list(set(train_X.columns.tolist()) - set(test_feats.columns.tolist())), axis=1))\n",
    "print(accuracy_score(valid_y, valid_preds_xgb_single))\n",
    "print(roc_auc_score(valid_y, valid_probs_xgb_single))"
   ]
  },
  {
   "cell_type": "code",
   "execution_count": 108,
   "metadata": {},
   "outputs": [
    {
     "name": "stdout",
     "output_type": "stream",
     "text": [
      "0.825376140119\n"
     ]
    }
   ],
   "source": [
    "### Train AUC\n",
    "train_probs_xgb_single = xgb_single.predict_proba(train_X.drop(list(set(train_X.columns.tolist()) - set(test_feats.columns.tolist())), axis=1))[:,1]\n",
    "print(roc_auc_score(train_y, train_probs_xgb_single))"
   ]
  },
  {
   "cell_type": "code",
   "execution_count": null,
   "metadata": {},
   "outputs": [],
   "source": [
    "xgb_single.fit(full_train_feats.drop(list(set(full_train_feats.columns.tolist()) - set(test_feats.columns.tolist())), axis=1), full_train_y)"
   ]
  },
  {
   "cell_type": "code",
   "execution_count": null,
   "metadata": {},
   "outputs": [],
   "source": []
  },
  {
   "cell_type": "markdown",
   "metadata": {
    "collapsed": true
   },
   "source": [
    "# LightGBM model "
   ]
  },
  {
   "cell_type": "code",
   "execution_count": null,
   "metadata": {},
   "outputs": [],
   "source": [
    "params={\n",
    "    'max_depth': [3, 4, 5], #[3,4,5,6,7,8,9], # 5 is good but takes too long in kaggle env\n",
    "    'subsample': [0.4, 0.6], #[0.4,0.5,0.6,0.7,0.8,0.9,1.0],\n",
    "    'colsample_bytree': [0.5, 0.7], #[0.5,0.6,0.7,0.8],\n",
    "    'n_estimators': [500, 700], #[1000,2000,3000]\n",
    "    'reg_alpha': [0.01, 0.05], #[0.01, 0.02, 0.03, 0.04]\n",
    "    'scale_pos_weight':[3, 5], \n",
    "    'num_leaves':[30, 50]\n",
    "    \n",
    "}\n",
    "\n",
    "lgb_clf = lgb.LGBMClassifier()\n",
    "rs = GridSearchCV(lgb_clf,\n",
    "                  params,\n",
    "                  cv=3,\n",
    "                  scoring=\"roc_auc\",\n",
    "                  n_jobs=1,\n",
    "                  verbose=1)\n",
    "rs.fit(train_X.drop(list(set(train_X.columns.tolist()) - set(test_feats.columns.tolist())), axis=1), train_y)\n",
    "best_est = rs.best_estimator_\n",
    "print(best_est)"
   ]
  },
  {
   "cell_type": "code",
   "execution_count": null,
   "metadata": {},
   "outputs": [],
   "source": [
    "valid_probs_rs = rs.predict_proba(valid_X.drop(list(set(train_X.columns.tolist()) - set(test_feats.columns.tolist())), axis=1))[:,1]\n",
    "valid_preds_rs= rs.predict(valid_X.drop(list(set(train_X.columns.tolist()) - set(test_feats.columns.tolist())), axis=1))\n",
    "print(accuracy_score(valid_y, valid_preds_rs))\n",
    "print(roc_auc_score(valid_y, valid_probs_rs))"
   ]
  },
  {
   "cell_type": "code",
   "execution_count": null,
   "metadata": {},
   "outputs": [],
   "source": [
    "rs.best_estimator_"
   ]
  },
  {
   "cell_type": "code",
   "execution_count": null,
   "metadata": {},
   "outputs": [],
   "source": [
    "best_model = lgb.LGBMClassifier(boosting_type='gbdt', class_weight=None, colsample_bytree=0.5,\n",
    "        learning_rate=0.1, max_depth=3, min_child_samples=20,\n",
    "        min_child_weight=0.001, min_split_gain=0.0, n_estimators=500,\n",
    "        n_jobs=-1, num_leaves=30, objective=None, random_state=None,\n",
    "        reg_alpha=0.05, reg_lambda=0.0, scale_pos_weight=3, silent=True,\n",
    "        subsample=0.4, subsample_for_bin=200000, subsample_freq=0)\n",
    "\n",
    "best_model.fit(train_X.drop(list(set(train_X.columns.tolist()) - set(test_feats.columns.tolist())), axis=1), train_y)\n",
    "valid_probs_best = best_model.predict_proba(valid_X.drop(list(set(train_X.columns.tolist()) - set(test_feats.columns.tolist())), axis=1))[:,1]\n",
    "valid_preds_best = best_model.predict(valid_X.drop(list(set(train_X.columns.tolist()) - set(test_feats.columns.tolist())), axis=1))\n",
    "print(accuracy_score(valid_y, valid_preds_best))\n",
    "print(roc_auc_score(valid_y, valid_probs_best))"
   ]
  },
  {
   "cell_type": "code",
   "execution_count": null,
   "metadata": {},
   "outputs": [],
   "source": [
    "best_model.fit(full_train_feats.drop(list(set(train_X.columns.tolist()) - set(test_feats.columns.tolist())), axis=1), full_train_y)"
   ]
  },
  {
   "cell_type": "markdown",
   "metadata": {},
   "source": [
    "# Prepare Submission file "
   ]
  },
  {
   "cell_type": "code",
   "execution_count": null,
   "metadata": {},
   "outputs": [],
   "source": [
    "### Prepare submission file and save to disk\n",
    "result_df = pd.DataFrame({'SK_ID_CURR':test.SK_ID_CURR.values, \"TARGET\":xgb_single.predict_proba(test_feats.drop(list(set(test_feats.columns.tolist()) - set(train_X.columns.tolist())), axis=1))[:,1]})\n",
    "result_df.to_csv(\"test_submission.csv\", index=False)"
   ]
  }
 ],
 "metadata": {
  "kernelspec": {
   "display_name": "Python 3",
   "language": "python",
   "name": "python3"
  },
  "language_info": {
   "codemirror_mode": {
    "name": "ipython",
    "version": 3
   },
   "file_extension": ".py",
   "mimetype": "text/x-python",
   "name": "python",
   "nbconvert_exporter": "python",
   "pygments_lexer": "ipython3",
   "version": "3.6.3"
  }
 },
 "nbformat": 4,
 "nbformat_minor": 2
}
