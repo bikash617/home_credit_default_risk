{
 "cells": [
  {
   "cell_type": "code",
   "execution_count": 93,
   "metadata": {},
   "outputs": [],
   "source": [
    "import pandas as pd\n",
    "import numpy as np\n",
    "from sklearn.preprocessing import StandardScaler\n",
    "from sklearn.ensemble import RandomForestClassifier\n",
    "from sklearn.cross_validation import train_test_split\n",
    "from sklearn.metrics import accuracy_score, roc_auc_score\n",
    "import xgboost as xgb\n",
    "from sklearn.model_selection import GridSearchCV"
   ]
  },
  {
   "cell_type": "code",
   "execution_count": 94,
   "metadata": {},
   "outputs": [],
   "source": [
    "full_train = pd.read_csv(\"./Data/application_train.csv\")\n",
    "test =  pd.read_csv(\"./Data/application_test.csv\")"
   ]
  },
  {
   "cell_type": "code",
   "execution_count": 189,
   "metadata": {},
   "outputs": [
    {
     "data": {
      "text/plain": [
       "array(['SK_ID_CURR', 'TARGET', 'NAME_CONTRACT_TYPE', 'CODE_GENDER',\n",
       "       'FLAG_OWN_CAR', 'FLAG_OWN_REALTY', 'CNT_CHILDREN',\n",
       "       'AMT_INCOME_TOTAL', 'AMT_CREDIT', 'AMT_ANNUITY', 'AMT_GOODS_PRICE',\n",
       "       'NAME_TYPE_SUITE', 'NAME_INCOME_TYPE', 'NAME_EDUCATION_TYPE',\n",
       "       'NAME_FAMILY_STATUS', 'NAME_HOUSING_TYPE',\n",
       "       'REGION_POPULATION_RELATIVE', 'DAYS_BIRTH', 'DAYS_EMPLOYED',\n",
       "       'DAYS_REGISTRATION', 'DAYS_ID_PUBLISH', 'OWN_CAR_AGE', 'FLAG_MOBIL',\n",
       "       'FLAG_EMP_PHONE', 'FLAG_WORK_PHONE', 'FLAG_CONT_MOBILE',\n",
       "       'FLAG_PHONE', 'FLAG_EMAIL', 'OCCUPATION_TYPE', 'CNT_FAM_MEMBERS',\n",
       "       'REGION_RATING_CLIENT', 'REGION_RATING_CLIENT_W_CITY',\n",
       "       'WEEKDAY_APPR_PROCESS_START', 'HOUR_APPR_PROCESS_START',\n",
       "       'REG_REGION_NOT_LIVE_REGION', 'REG_REGION_NOT_WORK_REGION',\n",
       "       'LIVE_REGION_NOT_WORK_REGION', 'REG_CITY_NOT_LIVE_CITY',\n",
       "       'REG_CITY_NOT_WORK_CITY', 'LIVE_CITY_NOT_WORK_CITY',\n",
       "       'ORGANIZATION_TYPE', 'EXT_SOURCE_1', 'EXT_SOURCE_2', 'EXT_SOURCE_3',\n",
       "       'APARTMENTS_AVG', 'BASEMENTAREA_AVG', 'YEARS_BEGINEXPLUATATION_AVG',\n",
       "       'YEARS_BUILD_AVG', 'COMMONAREA_AVG', 'ELEVATORS_AVG',\n",
       "       'ENTRANCES_AVG', 'FLOORSMAX_AVG', 'FLOORSMIN_AVG', 'LANDAREA_AVG',\n",
       "       'LIVINGAPARTMENTS_AVG', 'LIVINGAREA_AVG', 'NONLIVINGAPARTMENTS_AVG',\n",
       "       'NONLIVINGAREA_AVG', 'APARTMENTS_MODE', 'BASEMENTAREA_MODE',\n",
       "       'YEARS_BEGINEXPLUATATION_MODE', 'YEARS_BUILD_MODE',\n",
       "       'COMMONAREA_MODE', 'ELEVATORS_MODE', 'ENTRANCES_MODE',\n",
       "       'FLOORSMAX_MODE', 'FLOORSMIN_MODE', 'LANDAREA_MODE',\n",
       "       'LIVINGAPARTMENTS_MODE', 'LIVINGAREA_MODE',\n",
       "       'NONLIVINGAPARTMENTS_MODE', 'NONLIVINGAREA_MODE', 'APARTMENTS_MEDI',\n",
       "       'BASEMENTAREA_MEDI', 'YEARS_BEGINEXPLUATATION_MEDI',\n",
       "       'YEARS_BUILD_MEDI', 'COMMONAREA_MEDI', 'ELEVATORS_MEDI',\n",
       "       'ENTRANCES_MEDI', 'FLOORSMAX_MEDI', 'FLOORSMIN_MEDI',\n",
       "       'LANDAREA_MEDI', 'LIVINGAPARTMENTS_MEDI', 'LIVINGAREA_MEDI',\n",
       "       'NONLIVINGAPARTMENTS_MEDI', 'NONLIVINGAREA_MEDI',\n",
       "       'FONDKAPREMONT_MODE', 'HOUSETYPE_MODE', 'TOTALAREA_MODE',\n",
       "       'WALLSMATERIAL_MODE', 'EMERGENCYSTATE_MODE',\n",
       "       'OBS_30_CNT_SOCIAL_CIRCLE', 'DEF_30_CNT_SOCIAL_CIRCLE',\n",
       "       'OBS_60_CNT_SOCIAL_CIRCLE', 'DEF_60_CNT_SOCIAL_CIRCLE',\n",
       "       'DAYS_LAST_PHONE_CHANGE', 'FLAG_DOCUMENT_2', 'FLAG_DOCUMENT_3',\n",
       "       'FLAG_DOCUMENT_4', 'FLAG_DOCUMENT_5', 'FLAG_DOCUMENT_6',\n",
       "       'FLAG_DOCUMENT_7', 'FLAG_DOCUMENT_8', 'FLAG_DOCUMENT_9',\n",
       "       'FLAG_DOCUMENT_10', 'FLAG_DOCUMENT_11', 'FLAG_DOCUMENT_12',\n",
       "       'FLAG_DOCUMENT_13', 'FLAG_DOCUMENT_14', 'FLAG_DOCUMENT_15',\n",
       "       'FLAG_DOCUMENT_16', 'FLAG_DOCUMENT_17', 'FLAG_DOCUMENT_18',\n",
       "       'FLAG_DOCUMENT_19', 'FLAG_DOCUMENT_20', 'FLAG_DOCUMENT_21',\n",
       "       'AMT_REQ_CREDIT_BUREAU_HOUR', 'AMT_REQ_CREDIT_BUREAU_DAY',\n",
       "       'AMT_REQ_CREDIT_BUREAU_WEEK', 'AMT_REQ_CREDIT_BUREAU_MON',\n",
       "       'AMT_REQ_CREDIT_BUREAU_QRT', 'AMT_REQ_CREDIT_BUREAU_YEAR'], dtype=object)"
      ]
     },
     "execution_count": 189,
     "metadata": {},
     "output_type": "execute_result"
    }
   ],
   "source": [
    "full_train.columns.values"
   ]
  },
  {
   "cell_type": "code",
   "execution_count": 190,
   "metadata": {},
   "outputs": [
    {
     "data": {
      "text/plain": [
       "SK_ID_CURR                                           100002\n",
       "TARGET                                                    1\n",
       "NAME_CONTRACT_TYPE                               Cash loans\n",
       "CODE_GENDER                                               M\n",
       "FLAG_OWN_CAR                                              N\n",
       "FLAG_OWN_REALTY                                           Y\n",
       "CNT_CHILDREN                                              0\n",
       "AMT_INCOME_TOTAL                                     202500\n",
       "AMT_CREDIT                                           406598\n",
       "AMT_ANNUITY                                         24700.5\n",
       "AMT_GOODS_PRICE                                      351000\n",
       "NAME_TYPE_SUITE                               Unaccompanied\n",
       "NAME_INCOME_TYPE                                    Working\n",
       "NAME_EDUCATION_TYPE           Secondary / secondary special\n",
       "NAME_FAMILY_STATUS                     Single / not married\n",
       "NAME_HOUSING_TYPE                         House / apartment\n",
       "REGION_POPULATION_RELATIVE                         0.018801\n",
       "DAYS_BIRTH                                            -9461\n",
       "DAYS_EMPLOYED                                          -637\n",
       "DAYS_REGISTRATION                                     -3648\n",
       "DAYS_ID_PUBLISH                                       -2120\n",
       "OWN_CAR_AGE                                             NaN\n",
       "FLAG_MOBIL                                                1\n",
       "FLAG_EMP_PHONE                                            1\n",
       "FLAG_WORK_PHONE                                           0\n",
       "FLAG_CONT_MOBILE                                          1\n",
       "FLAG_PHONE                                                1\n",
       "FLAG_EMAIL                                                0\n",
       "OCCUPATION_TYPE                                    Laborers\n",
       "CNT_FAM_MEMBERS                                           1\n",
       "                                          ...              \n",
       "DEF_30_CNT_SOCIAL_CIRCLE                                  2\n",
       "OBS_60_CNT_SOCIAL_CIRCLE                                  2\n",
       "DEF_60_CNT_SOCIAL_CIRCLE                                  2\n",
       "DAYS_LAST_PHONE_CHANGE                                -1134\n",
       "FLAG_DOCUMENT_2                                           0\n",
       "FLAG_DOCUMENT_3                                           1\n",
       "FLAG_DOCUMENT_4                                           0\n",
       "FLAG_DOCUMENT_5                                           0\n",
       "FLAG_DOCUMENT_6                                           0\n",
       "FLAG_DOCUMENT_7                                           0\n",
       "FLAG_DOCUMENT_8                                           0\n",
       "FLAG_DOCUMENT_9                                           0\n",
       "FLAG_DOCUMENT_10                                          0\n",
       "FLAG_DOCUMENT_11                                          0\n",
       "FLAG_DOCUMENT_12                                          0\n",
       "FLAG_DOCUMENT_13                                          0\n",
       "FLAG_DOCUMENT_14                                          0\n",
       "FLAG_DOCUMENT_15                                          0\n",
       "FLAG_DOCUMENT_16                                          0\n",
       "FLAG_DOCUMENT_17                                          0\n",
       "FLAG_DOCUMENT_18                                          0\n",
       "FLAG_DOCUMENT_19                                          0\n",
       "FLAG_DOCUMENT_20                                          0\n",
       "FLAG_DOCUMENT_21                                          0\n",
       "AMT_REQ_CREDIT_BUREAU_HOUR                                0\n",
       "AMT_REQ_CREDIT_BUREAU_DAY                                 0\n",
       "AMT_REQ_CREDIT_BUREAU_WEEK                                0\n",
       "AMT_REQ_CREDIT_BUREAU_MON                                 0\n",
       "AMT_REQ_CREDIT_BUREAU_QRT                                 0\n",
       "AMT_REQ_CREDIT_BUREAU_YEAR                                1\n",
       "Name: 0, Length: 122, dtype: object"
      ]
     },
     "execution_count": 190,
     "metadata": {},
     "output_type": "execute_result"
    }
   ],
   "source": [
    "full_train.iloc[0]"
   ]
  },
  {
   "cell_type": "code",
   "execution_count": 300,
   "metadata": {},
   "outputs": [
    {
     "data": {
      "text/plain": [
       "2.0     18599\n",
       "1.0      7716\n",
       "3.0      6102\n",
       "4.0      2805\n",
       "5.0       420\n",
       "6.0        45\n",
       "7.0         9\n",
       "8.0         4\n",
       "9.0         2\n",
       "10.0        1\n",
       "Name: CNT_FAM_MEMBERS, dtype: int64"
      ]
     },
     "execution_count": 300,
     "metadata": {},
     "output_type": "execute_result"
    }
   ],
   "source": [
    "full_train[full_train.TARGET == 0][\"CNT_FAM_MEMBERS\"].value_counts()"
   ]
  },
  {
   "cell_type": "code",
   "execution_count": 301,
   "metadata": {},
   "outputs": [
    {
     "data": {
      "text/plain": [
       "2.0     1478\n",
       "1.0      728\n",
       "3.0      590\n",
       "4.0      279\n",
       "5.0       39\n",
       "6.0       11\n",
       "7.0        2\n",
       "13.0       1\n",
       "10.0       1\n",
       "Name: CNT_FAM_MEMBERS, dtype: int64"
      ]
     },
     "execution_count": 301,
     "metadata": {},
     "output_type": "execute_result"
    }
   ],
   "source": [
    "full_train[full_train.TARGET == 1][\"CNT_FAM_MEMBERS\"].value_counts()"
   ]
  },
  {
   "cell_type": "code",
   "execution_count": 97,
   "metadata": {},
   "outputs": [
    {
     "data": {
      "text/plain": [
       "(1716428, 17)"
      ]
     },
     "execution_count": 97,
     "metadata": {},
     "output_type": "execute_result"
    }
   ],
   "source": [
    "bureau.shape"
   ]
  },
  {
   "cell_type": "code",
   "execution_count": null,
   "metadata": {},
   "outputs": [],
   "source": []
  },
  {
   "cell_type": "code",
   "execution_count": 285,
   "metadata": {
    "collapsed": true
   },
   "outputs": [],
   "source": [
    "cat_feats = [\"NAME_CONTRACT_TYPE\", \"FLAG_OWN_CAR\", \"FLAG_OWN_REALTY\", \"OCCUPATION_TYPE\", \"FLAG_DOCUMENT_3\"]\n",
    "num_feats = [\"AMT_INCOME_TOTAL\", \"CNT_CHILDREN\", \"AMT_CREDIT\", \"AMT_ANNUITY\", \"AMT_GOODS_PRICE\", \"DAYS_BIRTH\",\n",
    "             \"DAYS_EMPLOYED\", \"DAYS_REGISTRATION\", \"DAYS_LAST_PHONE_CHANGE\"]"
   ]
  },
  {
   "cell_type": "code",
   "execution_count": 286,
   "metadata": {},
   "outputs": [],
   "source": [
    "## Categorical Features - Train\n",
    "train_cat= full_train[cat_feats]\n",
    "train_cat = pd.get_dummies(train_cat)\n",
    "\n",
    "## Numerical Features - Train\n",
    "train_num = full_train[num_feats]\n",
    "# train[num_feats].isnull().any() # Checking if the column has any null value\n",
    "#train_num = train_num.fillna((train_num.mean()), inplace=True)\n",
    "\n",
    "## Categorical Features - Test\n",
    "test_cat = test[cat_feats]\n",
    "test_cat = pd.get_dummies(test_cat)\n",
    "\n",
    "## Numerical Features - Test\n",
    "test_num = test[num_feats]\n",
    "test_num = test_num.fillna(test_num.mean())\n",
    "\n",
    "# ## Standardize numerical features\n",
    "# std = StandardScaler().fit(train_num)\n",
    "# train_num = std.transform(train_num)\n",
    "# test_num = std.transform(test_num)\n"
   ]
  },
  {
   "cell_type": "code",
   "execution_count": 287,
   "metadata": {
    "collapsed": true
   },
   "outputs": [],
   "source": [
    "full_train_feats = pd.concat([train_num, train_cat], axis=1)\n",
    "test_feats = pd.concat([test_num, test_cat], axis=1)"
   ]
  },
  {
   "cell_type": "code",
   "execution_count": 288,
   "metadata": {},
   "outputs": [],
   "source": [
    "full_train_feats = full_train_feats.apply(lambda x: x.fillna(x.mean()),axis=0)\n",
    "test_feats = test_feats.apply(lambda x: x.fillna(x.mean()),axis=0)\n",
    "full_train_y = full_train.TARGET"
   ]
  },
  {
   "cell_type": "code",
   "execution_count": 289,
   "metadata": {
    "collapsed": true
   },
   "outputs": [],
   "source": [
    "train_X, valid_X, train_y, valid_y = train_test_split(full_train_feats, full_train_y, train_size = 0.8)"
   ]
  },
  {
   "cell_type": "code",
   "execution_count": 292,
   "metadata": {},
   "outputs": [],
   "source": [
    "### RF classifier\n",
    "rf = RandomForestClassifier(n_estimators=300, n_jobs=-1)\n",
    "rf.fit(train_X, train_y)\n",
    "valid_probs_rf = rf.predict_proba(valid_X)[:,1]\n",
    "valid_preds_rf = rf.predict(valid_X)"
   ]
  },
  {
   "cell_type": "code",
   "execution_count": 293,
   "metadata": {},
   "outputs": [
    {
     "name": "stdout",
     "output_type": "stream",
     "text": [
      "0.917986352517\n",
      "0.608047562536\n"
     ]
    }
   ],
   "source": [
    "print(accuracy_score(valid_y, valid_preds_rf))\n",
    "print(roc_auc_score(valid_y, valid_probs_rf))"
   ]
  },
  {
   "cell_type": "code",
   "execution_count": 230,
   "metadata": {},
   "outputs": [
    {
     "name": "stdout",
     "output_type": "stream",
     "text": [
      "Fitting 3 folds for each of 32 candidates, totalling 96 fits\n",
      "[CV] n_estimators=300, max_depth=3, colsample_bytree=0.5, subsample=0.6, reg_alpha=0.01 \n",
      "[CV]  n_estimators=300, max_depth=3, colsample_bytree=0.5, subsample=0.6, reg_alpha=0.01, total=   2.2s\n",
      "[CV] n_estimators=300, max_depth=3, colsample_bytree=0.5, subsample=0.6, reg_alpha=0.01 \n"
     ]
    },
    {
     "name": "stderr",
     "output_type": "stream",
     "text": [
      "[Parallel(n_jobs=1)]: Done   1 out of   1 | elapsed:    2.3s remaining:    0.0s\n"
     ]
    },
    {
     "name": "stdout",
     "output_type": "stream",
     "text": [
      "[CV]  n_estimators=300, max_depth=3, colsample_bytree=0.5, subsample=0.6, reg_alpha=0.01, total=   2.0s\n",
      "[CV] n_estimators=300, max_depth=3, colsample_bytree=0.5, subsample=0.6, reg_alpha=0.01 \n",
      "[CV]  n_estimators=300, max_depth=3, colsample_bytree=0.5, subsample=0.6, reg_alpha=0.01, total=   2.2s\n",
      "[CV] n_estimators=300, max_depth=3, colsample_bytree=0.5, subsample=0.8, reg_alpha=0.01 \n",
      "[CV]  n_estimators=300, max_depth=3, colsample_bytree=0.5, subsample=0.8, reg_alpha=0.01, total=   4.9s\n",
      "[CV] n_estimators=300, max_depth=3, colsample_bytree=0.5, subsample=0.8, reg_alpha=0.01 \n",
      "[CV]  n_estimators=300, max_depth=3, colsample_bytree=0.5, subsample=0.8, reg_alpha=0.01, total=   5.5s\n",
      "[CV] n_estimators=300, max_depth=3, colsample_bytree=0.5, subsample=0.8, reg_alpha=0.01 \n",
      "[CV]  n_estimators=300, max_depth=3, colsample_bytree=0.5, subsample=0.8, reg_alpha=0.01, total=   3.1s\n",
      "[CV] n_estimators=300, max_depth=3, colsample_bytree=0.5, subsample=0.6, reg_alpha=0.05 \n",
      "[CV]  n_estimators=300, max_depth=3, colsample_bytree=0.5, subsample=0.6, reg_alpha=0.05, total=   3.2s\n",
      "[CV] n_estimators=300, max_depth=3, colsample_bytree=0.5, subsample=0.6, reg_alpha=0.05 \n",
      "[CV]  n_estimators=300, max_depth=3, colsample_bytree=0.5, subsample=0.6, reg_alpha=0.05, total=   3.5s\n",
      "[CV] n_estimators=300, max_depth=3, colsample_bytree=0.5, subsample=0.6, reg_alpha=0.05 \n",
      "[CV]  n_estimators=300, max_depth=3, colsample_bytree=0.5, subsample=0.6, reg_alpha=0.05, total=   2.8s\n",
      "[CV] n_estimators=300, max_depth=3, colsample_bytree=0.5, subsample=0.8, reg_alpha=0.05 \n",
      "[CV]  n_estimators=300, max_depth=3, colsample_bytree=0.5, subsample=0.8, reg_alpha=0.05, total=   2.8s\n",
      "[CV] n_estimators=300, max_depth=3, colsample_bytree=0.5, subsample=0.8, reg_alpha=0.05 \n",
      "[CV]  n_estimators=300, max_depth=3, colsample_bytree=0.5, subsample=0.8, reg_alpha=0.05, total=   3.6s\n",
      "[CV] n_estimators=300, max_depth=3, colsample_bytree=0.5, subsample=0.8, reg_alpha=0.05 \n",
      "[CV]  n_estimators=300, max_depth=3, colsample_bytree=0.5, subsample=0.8, reg_alpha=0.05, total=   2.7s\n",
      "[CV] n_estimators=500, max_depth=3, colsample_bytree=0.5, subsample=0.6, reg_alpha=0.01 \n",
      "[CV]  n_estimators=500, max_depth=3, colsample_bytree=0.5, subsample=0.6, reg_alpha=0.01, total=   4.9s\n",
      "[CV] n_estimators=500, max_depth=3, colsample_bytree=0.5, subsample=0.6, reg_alpha=0.01 \n",
      "[CV]  n_estimators=500, max_depth=3, colsample_bytree=0.5, subsample=0.6, reg_alpha=0.01, total=   4.4s\n",
      "[CV] n_estimators=500, max_depth=3, colsample_bytree=0.5, subsample=0.6, reg_alpha=0.01 \n",
      "[CV]  n_estimators=500, max_depth=3, colsample_bytree=0.5, subsample=0.6, reg_alpha=0.01, total=   5.1s\n",
      "[CV] n_estimators=500, max_depth=3, colsample_bytree=0.5, subsample=0.8, reg_alpha=0.01 \n",
      "[CV]  n_estimators=500, max_depth=3, colsample_bytree=0.5, subsample=0.8, reg_alpha=0.01, total=   4.9s\n",
      "[CV] n_estimators=500, max_depth=3, colsample_bytree=0.5, subsample=0.8, reg_alpha=0.01 \n",
      "[CV]  n_estimators=500, max_depth=3, colsample_bytree=0.5, subsample=0.8, reg_alpha=0.01, total=   5.2s\n",
      "[CV] n_estimators=500, max_depth=3, colsample_bytree=0.5, subsample=0.8, reg_alpha=0.01 \n",
      "[CV]  n_estimators=500, max_depth=3, colsample_bytree=0.5, subsample=0.8, reg_alpha=0.01, total=   4.7s\n",
      "[CV] n_estimators=500, max_depth=3, colsample_bytree=0.5, subsample=0.6, reg_alpha=0.05 \n",
      "[CV]  n_estimators=500, max_depth=3, colsample_bytree=0.5, subsample=0.6, reg_alpha=0.05, total=   5.0s\n",
      "[CV] n_estimators=500, max_depth=3, colsample_bytree=0.5, subsample=0.6, reg_alpha=0.05 \n",
      "[CV]  n_estimators=500, max_depth=3, colsample_bytree=0.5, subsample=0.6, reg_alpha=0.05, total=   4.7s\n",
      "[CV] n_estimators=500, max_depth=3, colsample_bytree=0.5, subsample=0.6, reg_alpha=0.05 \n",
      "[CV]  n_estimators=500, max_depth=3, colsample_bytree=0.5, subsample=0.6, reg_alpha=0.05, total=   4.8s\n",
      "[CV] n_estimators=500, max_depth=3, colsample_bytree=0.5, subsample=0.8, reg_alpha=0.05 \n",
      "[CV]  n_estimators=500, max_depth=3, colsample_bytree=0.5, subsample=0.8, reg_alpha=0.05, total=   4.9s\n",
      "[CV] n_estimators=500, max_depth=3, colsample_bytree=0.5, subsample=0.8, reg_alpha=0.05 \n",
      "[CV]  n_estimators=500, max_depth=3, colsample_bytree=0.5, subsample=0.8, reg_alpha=0.05, total=   4.8s\n",
      "[CV] n_estimators=500, max_depth=3, colsample_bytree=0.5, subsample=0.8, reg_alpha=0.05 \n",
      "[CV]  n_estimators=500, max_depth=3, colsample_bytree=0.5, subsample=0.8, reg_alpha=0.05, total=   4.7s\n",
      "[CV] n_estimators=300, max_depth=5, colsample_bytree=0.5, subsample=0.6, reg_alpha=0.01 \n",
      "[CV]  n_estimators=300, max_depth=5, colsample_bytree=0.5, subsample=0.6, reg_alpha=0.01, total=   4.7s\n",
      "[CV] n_estimators=300, max_depth=5, colsample_bytree=0.5, subsample=0.6, reg_alpha=0.01 \n",
      "[CV]  n_estimators=300, max_depth=5, colsample_bytree=0.5, subsample=0.6, reg_alpha=0.01, total=   4.5s\n",
      "[CV] n_estimators=300, max_depth=5, colsample_bytree=0.5, subsample=0.6, reg_alpha=0.01 \n",
      "[CV]  n_estimators=300, max_depth=5, colsample_bytree=0.5, subsample=0.6, reg_alpha=0.01, total=   4.7s\n",
      "[CV] n_estimators=300, max_depth=5, colsample_bytree=0.5, subsample=0.8, reg_alpha=0.01 \n",
      "[CV]  n_estimators=300, max_depth=5, colsample_bytree=0.5, subsample=0.8, reg_alpha=0.01, total=   4.6s\n",
      "[CV] n_estimators=300, max_depth=5, colsample_bytree=0.5, subsample=0.8, reg_alpha=0.01 \n",
      "[CV]  n_estimators=300, max_depth=5, colsample_bytree=0.5, subsample=0.8, reg_alpha=0.01, total=   4.5s\n",
      "[CV] n_estimators=300, max_depth=5, colsample_bytree=0.5, subsample=0.8, reg_alpha=0.01 \n",
      "[CV]  n_estimators=300, max_depth=5, colsample_bytree=0.5, subsample=0.8, reg_alpha=0.01, total=   4.4s\n",
      "[CV] n_estimators=300, max_depth=5, colsample_bytree=0.5, subsample=0.6, reg_alpha=0.05 \n",
      "[CV]  n_estimators=300, max_depth=5, colsample_bytree=0.5, subsample=0.6, reg_alpha=0.05, total=   4.7s\n",
      "[CV] n_estimators=300, max_depth=5, colsample_bytree=0.5, subsample=0.6, reg_alpha=0.05 \n",
      "[CV]  n_estimators=300, max_depth=5, colsample_bytree=0.5, subsample=0.6, reg_alpha=0.05, total=   4.6s\n",
      "[CV] n_estimators=300, max_depth=5, colsample_bytree=0.5, subsample=0.6, reg_alpha=0.05 \n",
      "[CV]  n_estimators=300, max_depth=5, colsample_bytree=0.5, subsample=0.6, reg_alpha=0.05, total=   4.7s\n",
      "[CV] n_estimators=300, max_depth=5, colsample_bytree=0.5, subsample=0.8, reg_alpha=0.05 \n",
      "[CV]  n_estimators=300, max_depth=5, colsample_bytree=0.5, subsample=0.8, reg_alpha=0.05, total=   4.7s\n",
      "[CV] n_estimators=300, max_depth=5, colsample_bytree=0.5, subsample=0.8, reg_alpha=0.05 \n",
      "[CV]  n_estimators=300, max_depth=5, colsample_bytree=0.5, subsample=0.8, reg_alpha=0.05, total=   4.8s\n",
      "[CV] n_estimators=300, max_depth=5, colsample_bytree=0.5, subsample=0.8, reg_alpha=0.05 \n",
      "[CV]  n_estimators=300, max_depth=5, colsample_bytree=0.5, subsample=0.8, reg_alpha=0.05, total=   5.0s\n",
      "[CV] n_estimators=500, max_depth=5, colsample_bytree=0.5, subsample=0.6, reg_alpha=0.01 \n",
      "[CV]  n_estimators=500, max_depth=5, colsample_bytree=0.5, subsample=0.6, reg_alpha=0.01, total=   7.7s\n",
      "[CV] n_estimators=500, max_depth=5, colsample_bytree=0.5, subsample=0.6, reg_alpha=0.01 \n",
      "[CV]  n_estimators=500, max_depth=5, colsample_bytree=0.5, subsample=0.6, reg_alpha=0.01, total=   7.8s\n",
      "[CV] n_estimators=500, max_depth=5, colsample_bytree=0.5, subsample=0.6, reg_alpha=0.01 \n",
      "[CV]  n_estimators=500, max_depth=5, colsample_bytree=0.5, subsample=0.6, reg_alpha=0.01, total=  10.4s\n",
      "[CV] n_estimators=500, max_depth=5, colsample_bytree=0.5, subsample=0.8, reg_alpha=0.01 \n",
      "[CV]  n_estimators=500, max_depth=5, colsample_bytree=0.5, subsample=0.8, reg_alpha=0.01, total=  10.3s\n",
      "[CV] n_estimators=500, max_depth=5, colsample_bytree=0.5, subsample=0.8, reg_alpha=0.01 \n",
      "[CV]  n_estimators=500, max_depth=5, colsample_bytree=0.5, subsample=0.8, reg_alpha=0.01, total=   8.3s\n",
      "[CV] n_estimators=500, max_depth=5, colsample_bytree=0.5, subsample=0.8, reg_alpha=0.01 \n",
      "[CV]  n_estimators=500, max_depth=5, colsample_bytree=0.5, subsample=0.8, reg_alpha=0.01, total=   7.9s\n",
      "[CV] n_estimators=500, max_depth=5, colsample_bytree=0.5, subsample=0.6, reg_alpha=0.05 \n",
      "[CV]  n_estimators=500, max_depth=5, colsample_bytree=0.5, subsample=0.6, reg_alpha=0.05, total=   7.9s\n",
      "[CV] n_estimators=500, max_depth=5, colsample_bytree=0.5, subsample=0.6, reg_alpha=0.05 \n",
      "[CV]  n_estimators=500, max_depth=5, colsample_bytree=0.5, subsample=0.6, reg_alpha=0.05, total=   8.8s\n",
      "[CV] n_estimators=500, max_depth=5, colsample_bytree=0.5, subsample=0.6, reg_alpha=0.05 \n"
     ]
    },
    {
     "name": "stdout",
     "output_type": "stream",
     "text": [
      "[CV]  n_estimators=500, max_depth=5, colsample_bytree=0.5, subsample=0.6, reg_alpha=0.05, total=   7.5s\n",
      "[CV] n_estimators=500, max_depth=5, colsample_bytree=0.5, subsample=0.8, reg_alpha=0.05 \n",
      "[CV]  n_estimators=500, max_depth=5, colsample_bytree=0.5, subsample=0.8, reg_alpha=0.05, total=   8.9s\n",
      "[CV] n_estimators=500, max_depth=5, colsample_bytree=0.5, subsample=0.8, reg_alpha=0.05 \n",
      "[CV]  n_estimators=500, max_depth=5, colsample_bytree=0.5, subsample=0.8, reg_alpha=0.05, total=   8.4s\n",
      "[CV] n_estimators=500, max_depth=5, colsample_bytree=0.5, subsample=0.8, reg_alpha=0.05 \n",
      "[CV]  n_estimators=500, max_depth=5, colsample_bytree=0.5, subsample=0.8, reg_alpha=0.05, total=   9.0s\n",
      "[CV] n_estimators=300, max_depth=3, colsample_bytree=0.7, subsample=0.6, reg_alpha=0.01 \n",
      "[CV]  n_estimators=300, max_depth=3, colsample_bytree=0.7, subsample=0.6, reg_alpha=0.01, total=   3.8s\n",
      "[CV] n_estimators=300, max_depth=3, colsample_bytree=0.7, subsample=0.6, reg_alpha=0.01 \n",
      "[CV]  n_estimators=300, max_depth=3, colsample_bytree=0.7, subsample=0.6, reg_alpha=0.01, total=   4.5s\n",
      "[CV] n_estimators=300, max_depth=3, colsample_bytree=0.7, subsample=0.6, reg_alpha=0.01 \n",
      "[CV]  n_estimators=300, max_depth=3, colsample_bytree=0.7, subsample=0.6, reg_alpha=0.01, total=   3.7s\n",
      "[CV] n_estimators=300, max_depth=3, colsample_bytree=0.7, subsample=0.8, reg_alpha=0.01 \n",
      "[CV]  n_estimators=300, max_depth=3, colsample_bytree=0.7, subsample=0.8, reg_alpha=0.01, total=   4.2s\n",
      "[CV] n_estimators=300, max_depth=3, colsample_bytree=0.7, subsample=0.8, reg_alpha=0.01 \n",
      "[CV]  n_estimators=300, max_depth=3, colsample_bytree=0.7, subsample=0.8, reg_alpha=0.01, total=   3.6s\n",
      "[CV] n_estimators=300, max_depth=3, colsample_bytree=0.7, subsample=0.8, reg_alpha=0.01 \n",
      "[CV]  n_estimators=300, max_depth=3, colsample_bytree=0.7, subsample=0.8, reg_alpha=0.01, total=   3.6s\n",
      "[CV] n_estimators=300, max_depth=3, colsample_bytree=0.7, subsample=0.6, reg_alpha=0.05 \n",
      "[CV]  n_estimators=300, max_depth=3, colsample_bytree=0.7, subsample=0.6, reg_alpha=0.05, total=   4.3s\n",
      "[CV] n_estimators=300, max_depth=3, colsample_bytree=0.7, subsample=0.6, reg_alpha=0.05 \n",
      "[CV]  n_estimators=300, max_depth=3, colsample_bytree=0.7, subsample=0.6, reg_alpha=0.05, total=   4.0s\n",
      "[CV] n_estimators=300, max_depth=3, colsample_bytree=0.7, subsample=0.6, reg_alpha=0.05 \n",
      "[CV]  n_estimators=300, max_depth=3, colsample_bytree=0.7, subsample=0.6, reg_alpha=0.05, total=   3.7s\n",
      "[CV] n_estimators=300, max_depth=3, colsample_bytree=0.7, subsample=0.8, reg_alpha=0.05 \n",
      "[CV]  n_estimators=300, max_depth=3, colsample_bytree=0.7, subsample=0.8, reg_alpha=0.05, total=   3.7s\n",
      "[CV] n_estimators=300, max_depth=3, colsample_bytree=0.7, subsample=0.8, reg_alpha=0.05 \n",
      "[CV]  n_estimators=300, max_depth=3, colsample_bytree=0.7, subsample=0.8, reg_alpha=0.05, total=   3.9s\n",
      "[CV] n_estimators=300, max_depth=3, colsample_bytree=0.7, subsample=0.8, reg_alpha=0.05 \n",
      "[CV]  n_estimators=300, max_depth=3, colsample_bytree=0.7, subsample=0.8, reg_alpha=0.05, total=   3.8s\n",
      "[CV] n_estimators=500, max_depth=3, colsample_bytree=0.7, subsample=0.6, reg_alpha=0.01 \n",
      "[CV]  n_estimators=500, max_depth=3, colsample_bytree=0.7, subsample=0.6, reg_alpha=0.01, total=   7.0s\n",
      "[CV] n_estimators=500, max_depth=3, colsample_bytree=0.7, subsample=0.6, reg_alpha=0.01 \n",
      "[CV]  n_estimators=500, max_depth=3, colsample_bytree=0.7, subsample=0.6, reg_alpha=0.01, total=   6.2s\n",
      "[CV] n_estimators=500, max_depth=3, colsample_bytree=0.7, subsample=0.6, reg_alpha=0.01 \n",
      "[CV]  n_estimators=500, max_depth=3, colsample_bytree=0.7, subsample=0.6, reg_alpha=0.01, total=   6.2s\n",
      "[CV] n_estimators=500, max_depth=3, colsample_bytree=0.7, subsample=0.8, reg_alpha=0.01 \n",
      "[CV]  n_estimators=500, max_depth=3, colsample_bytree=0.7, subsample=0.8, reg_alpha=0.01, total=   6.5s\n",
      "[CV] n_estimators=500, max_depth=3, colsample_bytree=0.7, subsample=0.8, reg_alpha=0.01 \n",
      "[CV]  n_estimators=500, max_depth=3, colsample_bytree=0.7, subsample=0.8, reg_alpha=0.01, total=   5.9s\n",
      "[CV] n_estimators=500, max_depth=3, colsample_bytree=0.7, subsample=0.8, reg_alpha=0.01 \n",
      "[CV]  n_estimators=500, max_depth=3, colsample_bytree=0.7, subsample=0.8, reg_alpha=0.01, total=   6.2s\n",
      "[CV] n_estimators=500, max_depth=3, colsample_bytree=0.7, subsample=0.6, reg_alpha=0.05 \n",
      "[CV]  n_estimators=500, max_depth=3, colsample_bytree=0.7, subsample=0.6, reg_alpha=0.05, total=   6.1s\n",
      "[CV] n_estimators=500, max_depth=3, colsample_bytree=0.7, subsample=0.6, reg_alpha=0.05 \n",
      "[CV]  n_estimators=500, max_depth=3, colsample_bytree=0.7, subsample=0.6, reg_alpha=0.05, total=   6.4s\n",
      "[CV] n_estimators=500, max_depth=3, colsample_bytree=0.7, subsample=0.6, reg_alpha=0.05 \n",
      "[CV]  n_estimators=500, max_depth=3, colsample_bytree=0.7, subsample=0.6, reg_alpha=0.05, total=   6.4s\n",
      "[CV] n_estimators=500, max_depth=3, colsample_bytree=0.7, subsample=0.8, reg_alpha=0.05 \n",
      "[CV]  n_estimators=500, max_depth=3, colsample_bytree=0.7, subsample=0.8, reg_alpha=0.05, total=   6.3s\n",
      "[CV] n_estimators=500, max_depth=3, colsample_bytree=0.7, subsample=0.8, reg_alpha=0.05 \n",
      "[CV]  n_estimators=500, max_depth=3, colsample_bytree=0.7, subsample=0.8, reg_alpha=0.05, total=   6.4s\n",
      "[CV] n_estimators=500, max_depth=3, colsample_bytree=0.7, subsample=0.8, reg_alpha=0.05 \n",
      "[CV]  n_estimators=500, max_depth=3, colsample_bytree=0.7, subsample=0.8, reg_alpha=0.05, total=   6.4s\n",
      "[CV] n_estimators=300, max_depth=5, colsample_bytree=0.7, subsample=0.6, reg_alpha=0.01 \n",
      "[CV]  n_estimators=300, max_depth=5, colsample_bytree=0.7, subsample=0.6, reg_alpha=0.01, total=   6.0s\n",
      "[CV] n_estimators=300, max_depth=5, colsample_bytree=0.7, subsample=0.6, reg_alpha=0.01 \n",
      "[CV]  n_estimators=300, max_depth=5, colsample_bytree=0.7, subsample=0.6, reg_alpha=0.01, total=   6.0s\n",
      "[CV] n_estimators=300, max_depth=5, colsample_bytree=0.7, subsample=0.6, reg_alpha=0.01 \n",
      "[CV]  n_estimators=300, max_depth=5, colsample_bytree=0.7, subsample=0.6, reg_alpha=0.01, total=   5.9s\n",
      "[CV] n_estimators=300, max_depth=5, colsample_bytree=0.7, subsample=0.8, reg_alpha=0.01 \n",
      "[CV]  n_estimators=300, max_depth=5, colsample_bytree=0.7, subsample=0.8, reg_alpha=0.01, total=   5.8s\n",
      "[CV] n_estimators=300, max_depth=5, colsample_bytree=0.7, subsample=0.8, reg_alpha=0.01 \n",
      "[CV]  n_estimators=300, max_depth=5, colsample_bytree=0.7, subsample=0.8, reg_alpha=0.01, total=   7.9s\n",
      "[CV] n_estimators=300, max_depth=5, colsample_bytree=0.7, subsample=0.8, reg_alpha=0.01 \n",
      "[CV]  n_estimators=300, max_depth=5, colsample_bytree=0.7, subsample=0.8, reg_alpha=0.01, total=   8.6s\n",
      "[CV] n_estimators=300, max_depth=5, colsample_bytree=0.7, subsample=0.6, reg_alpha=0.05 \n",
      "[CV]  n_estimators=300, max_depth=5, colsample_bytree=0.7, subsample=0.6, reg_alpha=0.05, total=   8.4s\n",
      "[CV] n_estimators=300, max_depth=5, colsample_bytree=0.7, subsample=0.6, reg_alpha=0.05 \n",
      "[CV]  n_estimators=300, max_depth=5, colsample_bytree=0.7, subsample=0.6, reg_alpha=0.05, total=   8.0s\n",
      "[CV] n_estimators=300, max_depth=5, colsample_bytree=0.7, subsample=0.6, reg_alpha=0.05 \n",
      "[CV]  n_estimators=300, max_depth=5, colsample_bytree=0.7, subsample=0.6, reg_alpha=0.05, total=   6.2s\n",
      "[CV] n_estimators=300, max_depth=5, colsample_bytree=0.7, subsample=0.8, reg_alpha=0.05 \n",
      "[CV]  n_estimators=300, max_depth=5, colsample_bytree=0.7, subsample=0.8, reg_alpha=0.05, total=  10.7s\n",
      "[CV] n_estimators=300, max_depth=5, colsample_bytree=0.7, subsample=0.8, reg_alpha=0.05 \n",
      "[CV]  n_estimators=300, max_depth=5, colsample_bytree=0.7, subsample=0.8, reg_alpha=0.05, total=   8.0s\n",
      "[CV] n_estimators=300, max_depth=5, colsample_bytree=0.7, subsample=0.8, reg_alpha=0.05 \n",
      "[CV]  n_estimators=300, max_depth=5, colsample_bytree=0.7, subsample=0.8, reg_alpha=0.05, total=   6.0s\n",
      "[CV] n_estimators=500, max_depth=5, colsample_bytree=0.7, subsample=0.6, reg_alpha=0.01 \n",
      "[CV]  n_estimators=500, max_depth=5, colsample_bytree=0.7, subsample=0.6, reg_alpha=0.01, total=  11.0s\n",
      "[CV] n_estimators=500, max_depth=5, colsample_bytree=0.7, subsample=0.6, reg_alpha=0.01 \n",
      "[CV]  n_estimators=500, max_depth=5, colsample_bytree=0.7, subsample=0.6, reg_alpha=0.01, total=  10.5s\n",
      "[CV] n_estimators=500, max_depth=5, colsample_bytree=0.7, subsample=0.6, reg_alpha=0.01 \n",
      "[CV]  n_estimators=500, max_depth=5, colsample_bytree=0.7, subsample=0.6, reg_alpha=0.01, total=  10.6s\n",
      "[CV] n_estimators=500, max_depth=5, colsample_bytree=0.7, subsample=0.8, reg_alpha=0.01 \n"
     ]
    },
    {
     "name": "stdout",
     "output_type": "stream",
     "text": [
      "[CV]  n_estimators=500, max_depth=5, colsample_bytree=0.7, subsample=0.8, reg_alpha=0.01, total=  10.2s\n",
      "[CV] n_estimators=500, max_depth=5, colsample_bytree=0.7, subsample=0.8, reg_alpha=0.01 \n",
      "[CV]  n_estimators=500, max_depth=5, colsample_bytree=0.7, subsample=0.8, reg_alpha=0.01, total=  10.7s\n",
      "[CV] n_estimators=500, max_depth=5, colsample_bytree=0.7, subsample=0.8, reg_alpha=0.01 \n",
      "[CV]  n_estimators=500, max_depth=5, colsample_bytree=0.7, subsample=0.8, reg_alpha=0.01, total=  10.3s\n",
      "[CV] n_estimators=500, max_depth=5, colsample_bytree=0.7, subsample=0.6, reg_alpha=0.05 \n",
      "[CV]  n_estimators=500, max_depth=5, colsample_bytree=0.7, subsample=0.6, reg_alpha=0.05, total=  10.1s\n",
      "[CV] n_estimators=500, max_depth=5, colsample_bytree=0.7, subsample=0.6, reg_alpha=0.05 \n",
      "[CV]  n_estimators=500, max_depth=5, colsample_bytree=0.7, subsample=0.6, reg_alpha=0.05, total=   9.7s\n",
      "[CV] n_estimators=500, max_depth=5, colsample_bytree=0.7, subsample=0.6, reg_alpha=0.05 \n",
      "[CV]  n_estimators=500, max_depth=5, colsample_bytree=0.7, subsample=0.6, reg_alpha=0.05, total=  10.2s\n",
      "[CV] n_estimators=500, max_depth=5, colsample_bytree=0.7, subsample=0.8, reg_alpha=0.05 \n",
      "[CV]  n_estimators=500, max_depth=5, colsample_bytree=0.7, subsample=0.8, reg_alpha=0.05, total=   9.7s\n",
      "[CV] n_estimators=500, max_depth=5, colsample_bytree=0.7, subsample=0.8, reg_alpha=0.05 \n",
      "[CV]  n_estimators=500, max_depth=5, colsample_bytree=0.7, subsample=0.8, reg_alpha=0.05, total=   9.5s\n",
      "[CV] n_estimators=500, max_depth=5, colsample_bytree=0.7, subsample=0.8, reg_alpha=0.05 \n",
      "[CV]  n_estimators=500, max_depth=5, colsample_bytree=0.7, subsample=0.8, reg_alpha=0.05, total=  11.1s\n"
     ]
    },
    {
     "name": "stderr",
     "output_type": "stream",
     "text": [
      "[Parallel(n_jobs=1)]: Done  96 out of  96 | elapsed: 10.2min finished\n"
     ]
    },
    {
     "name": "stdout",
     "output_type": "stream",
     "text": [
      "XGBClassifier(base_score=0.5, colsample_bylevel=1, colsample_bytree=0.5,\n",
      "       gamma=0, learning_rate=0.1, max_delta_step=0, max_depth=3,\n",
      "       min_child_weight=1, missing=9999999999, n_estimators=300,\n",
      "       nthread=-1, objective='binary:logistic', reg_alpha=0.05,\n",
      "       reg_lambda=1, scale_pos_weight=1, seed=0, silent=True,\n",
      "       subsample=0.8)\n"
     ]
    }
   ],
   "source": [
    "params={\n",
    "    'max_depth': [3, 5], #[3,4,5,6,7,8,9], # 5 is good but takes too long in kaggle env\n",
    "    'subsample': [0.6, 0.8], #[0.4,0.5,0.6,0.7,0.8,0.9,1.0],\n",
    "    'colsample_bytree': [0.5, 0.7], #[0.5,0.6,0.7,0.8],\n",
    "    'n_estimators': [300, 500], #[1000,2000,3000]\n",
    "    'reg_alpha': [0.01, 0.05] #[0.01, 0.02, 0.03, 0.04]\n",
    "}\n",
    "\n",
    "xgb_clf = xgb.XGBClassifier(missing=9999999999)\n",
    "rs = GridSearchCV(xgb_clf,\n",
    "                  params,\n",
    "                  cv=3,\n",
    "                  scoring=\"roc_auc\",\n",
    "                  n_jobs=1,\n",
    "                  verbose=2)\n",
    "rs.fit(train_X, train_y)\n",
    "best_est = rs.best_estimator_\n",
    "print(best_est)"
   ]
  },
  {
   "cell_type": "code",
   "execution_count": 244,
   "metadata": {},
   "outputs": [
    {
     "name": "stdout",
     "output_type": "stream",
     "text": [
      "0.919273850908\n",
      "0.671098200046\n"
     ]
    }
   ],
   "source": [
    "xgb_single = xgb.XGBClassifier(base_score=0.5, colsample_bylevel=1, colsample_bytree=0.5,\n",
    "       gamma=0, learning_rate=0.1, max_delta_step=0, max_depth=3,\n",
    "       min_child_weight=1, missing=9999999999, n_estimators=300,\n",
    "       nthread=-1, objective='binary:logistic', reg_alpha=0.05,\n",
    "       reg_lambda=1, scale_pos_weight=1, seed=0, silent=True,\n",
    "       subsample=0.8)\n",
    "\n",
    "xgb_single.fit(train_X, train_y)\n",
    "valid_probs_xgb_single = xgb_single.predict_proba(valid_X)[:,1]\n",
    "valid_preds_xgb_single = xgb_single.predict(valid_X)\n",
    "print(accuracy_score(valid_y, valid_preds_xgb_single))\n",
    "print(roc_auc_score(valid_y, valid_probs_xgb_single))"
   ]
  },
  {
   "cell_type": "code",
   "execution_count": 231,
   "metadata": {},
   "outputs": [
    {
     "name": "stdout",
     "output_type": "stream",
     "text": [
      "0.919273850908\n",
      "0.671098200046\n"
     ]
    }
   ],
   "source": [
    "valid_probs_rs = rs.predict_proba(valid_X)[:,1]\n",
    "valid_preds_rs= rs.predict(valid_X)\n",
    "print(accuracy_score(valid_y, valid_preds_rs))\n",
    "print(roc_auc_score(valid_y, valid_probs_rs))"
   ]
  },
  {
   "cell_type": "code",
   "execution_count": 232,
   "metadata": {
    "collapsed": true
   },
   "outputs": [],
   "source": [
    "### Prepare submission file and save to disk\n",
    "result_df = pd.DataFrame({'SK_ID_CURR':test.SK_ID_CURR.values, \"TARGET\":rs.predict_proba(test_feats)[:,1]})\n",
    "result_df.to_csv(\"submimssion_2_xgboost_gridsearch_added_features.csv\", index=False)"
   ]
  },
  {
   "cell_type": "code",
   "execution_count": 233,
   "metadata": {
    "collapsed": true
   },
   "outputs": [],
   "source": []
  }
 ],
 "metadata": {
  "kernelspec": {
   "display_name": "Python 3",
   "language": "python",
   "name": "python3"
  },
  "language_info": {
   "codemirror_mode": {
    "name": "ipython",
    "version": 3
   },
   "file_extension": ".py",
   "mimetype": "text/x-python",
   "name": "python",
   "nbconvert_exporter": "python",
   "pygments_lexer": "ipython3",
   "version": "3.4.3"
  }
 },
 "nbformat": 4,
 "nbformat_minor": 2
}
