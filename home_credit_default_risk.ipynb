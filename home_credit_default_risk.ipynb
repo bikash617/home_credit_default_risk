{
 "cells": [
  {
   "cell_type": "code",
   "execution_count": 19,
   "metadata": {},
   "outputs": [],
   "source": [
    "import pandas as pd\n",
    "import numpy as np\n",
    "from sklearn.preprocessing import StandardScaler\n",
    "from sklearn.ensemble import RandomForestClassifier\n",
    "from sklearn.cross_validation import train_test_split\n",
    "from sklearn.metrics import accuracy_score, roc_auc_score\n",
    "import xgboost as xgb\n",
    "from sklearn.model_selection import GridSearchCV\n",
    "import lightgbm as lgb\n",
    "import warnings\n",
    "%matplotlib inline\n",
    "warnings.filterwarnings('ignore')\n",
<<<<<<< HEAD
    "import matplotlib.pyplot as plt\n",
    "import seaborn as sns"
=======
    "import matplotlib.pyplot as plt"
>>>>>>> 4b755b1fad0c0bb28263dc9869fbfb912958957e
   ]
  },
  {
   "cell_type": "code",
<<<<<<< HEAD
   "execution_count": 2,
=======
   "execution_count": 20,
>>>>>>> 4b755b1fad0c0bb28263dc9869fbfb912958957e
   "metadata": {},
   "outputs": [],
   "source": [
    "full_train_orig = pd.read_csv(\"../Data/application_train.csv\")\n",
    "test =  pd.read_csv(\"../Data/application_test.csv\")"
   ]
  },
  {
   "cell_type": "code",
<<<<<<< HEAD
   "execution_count": 3,
=======
   "execution_count": 21,
>>>>>>> 4b755b1fad0c0bb28263dc9869fbfb912958957e
   "metadata": {},
   "outputs": [
    {
     "data": {
      "text/plain": [
       "(307511, 122)"
      ]
     },
<<<<<<< HEAD
     "execution_count": 3,
=======
     "execution_count": 21,
>>>>>>> 4b755b1fad0c0bb28263dc9869fbfb912958957e
     "metadata": {},
     "output_type": "execute_result"
    }
   ],
<<<<<<< HEAD
   "source": [
    "full_train_orig.shape"
=======
   "source": [
    "full_train_orig.shape"
   ]
  },
  {
   "cell_type": "code",
   "execution_count": 22,
   "metadata": {},
   "outputs": [],
   "source": [
    "### Load bureau data\n",
    "bureau = pd.read_csv(\"../Data/bureau.csv\")\n",
    "bureau_gb = bureau.groupby(\"SK_ID_CURR\")[[\"DAYS_CREDIT\", \"CREDIT_DAY_OVERDUE\", \"CNT_CREDIT_PROLONG\", \"DAYS_CREDIT_UPDATE\"\n",
    "                             , \"AMT_CREDIT_SUM_OVERDUE\", \"AMT_CREDIT_SUM\"]].mean().add_suffix(\"_bur\").reset_index()"
   ]
  },
  {
   "cell_type": "code",
   "execution_count": 23,
   "metadata": {},
   "outputs": [],
   "source": [
    "### Load previous application data\n",
    "prv = pd.read_csv(\"../Data/previous_application.csv\")\n",
    "prv_gb = prv.groupby(\"SK_ID_CURR\")[[\"AMT_ANNUITY\", \"AMT_APPLICATION\", \"AMT_CREDIT\", \"AMT_DOWN_PAYMENT\",\n",
    "                                   \"AMT_GOODS_PRICE\", \"HOUR_APPR_PROCESS_START\", \"NFLAG_LAST_APPL_IN_DAY\", \n",
    "                                   \"DAYS_DECISION\", \"SELLERPLACE_AREA\", \"CNT_PAYMENT\", \"DAYS_TERMINATION\", \n",
    "                                   \"DAYS_LAST_DUE\", \"DAYS_LAST_DUE_1ST_VERSION\", \"DAYS_FIRST_DUE\", \n",
    "                                   \"DAYS_FIRST_DRAWING\"]].mean().add_suffix(\"_prev\").reset_index()"
   ]
  },
  {
   "cell_type": "code",
   "execution_count": 24,
   "metadata": {},
   "outputs": [],
   "source": [
    "### installment data \n",
    "inst = pd.read_csv(\"../Data/installments_payments.csv\")\n",
    "inst_gb = inst.groupby(\"SK_ID_CURR\")[[\"AMT_INSTALMENT\",\"AMT_PAYMENT\"]].sum().add_suffix(\"_inst\").reset_index()\n",
    "inst_gb[\"diff\"] = inst_gb[\"AMT_INSTALMENT_inst\"] - inst_gb[\"AMT_PAYMENT_inst\"]\n",
    "inst_gb = inst_gb.drop([\"AMT_INSTALMENT_inst\", \"AMT_PAYMENT_inst\"], axis=1)"
   ]
  },
  {
   "cell_type": "code",
   "execution_count": 25,
   "metadata": {},
   "outputs": [],
   "source": [
    "### credit card balance data \n",
    "ccb = pd.read_csv(\"../Data/credit_card_balance.csv\")\n",
    "ccb_gb = ccb[ccb.MONTHS_BALANCE == -1].groupby(\"SK_ID_CURR\")[[\"AMT_BALANCE\", \"AMT_CREDIT_LIMIT_ACTUAL\", \"AMT_DRAWINGS_CURRENT\",\n",
    "                                                    \"AMT_RECIVABLE\", \"AMT_TOTAL_RECEIVABLE\"]].sum().add_suffix(\"_ccb\").reset_index()"
   ]
  },
  {
   "cell_type": "markdown",
   "metadata": {},
   "source": [
    "## Combine bureau data"
>>>>>>> 4b755b1fad0c0bb28263dc9869fbfb912958957e
   ]
  },
  {
   "cell_type": "code",
   "execution_count": 26,
   "metadata": {},
   "outputs": [],
   "source": [
<<<<<<< HEAD
    "### Load bureau data\n",
    "bureau = pd.read_csv(\"../Data/bureau.csv\")\n",
    "\n",
    "bureau_gb = bureau.groupby(\"SK_ID_CURR\").agg({'DAYS_CREDIT':['max', 'min'], 'CREDIT_DAY_OVERDUE':['max', 'min'],\n",
    "                                             'CNT_CREDIT_PROLONG': ['sum'], 'AMT_CREDIT_SUM':'mean',\n",
    "                                             'DAYS_CREDIT_UPDATE':['max', 'min'], 'AMT_CREDIT_SUM_OVERDUE':['mean']})\n",
    "# bureau_gb = bureau.groupby(\"SK_ID_CURR\")[[\"DAYS_CREDIT\", \"CREDIT_DAY_OVERDUE\", \"CNT_CREDIT_PROLONG\", \"DAYS_CREDIT_UPDATE\"\n",
    "#                              , \"AMT_CREDIT_SUM_OVERDUE\", \"AMT_CREDIT_SUM\"]].mean().add_suffix(\"_bur\").reset_index()\n",
    "bureau_gb.columns = ['_'.join(col) for col in bureau_gb.columns]\n",
    "bureau_gb = bureau_gb.reset_index()\n",
    "\n",
    "### OHE categorical features and combine\n",
    "bureau_cats = pd.get_dummies(bureau.select_dtypes('object'))\n",
    "bureau_cats['SK_ID_CURR'] = bureau['SK_ID_CURR']\n",
    "bureau_cats_grouped = bureau_cats.groupby('SK_ID_CURR').agg('sum').reset_index()\n",
    "bureau_gb = pd.merge(bureau_gb, bureau_cats_grouped, on = 'SK_ID_CURR', how = 'left')"
=======
    "full_train_orig = pd.merge(full_train_orig, bureau_gb, how=\"inner\", on=\"SK_ID_CURR\")\n",
    "test = pd.merge(test, bureau_gb, how=\"left\", on=\"SK_ID_CURR\")"
>>>>>>> 4b755b1fad0c0bb28263dc9869fbfb912958957e
   ]
  },
  {
   "cell_type": "code",
<<<<<<< HEAD
   "execution_count": 5,
   "metadata": {},
   "outputs": [],
   "source": [
    "### Load previous application data\n",
    "prv = pd.read_csv(\"../Data/previous_application.csv\")\n",
    "prv_gb = prv.groupby(\"SK_ID_CURR\")[[\"AMT_ANNUITY\", \"AMT_APPLICATION\", \"AMT_CREDIT\", \"AMT_DOWN_PAYMENT\",\n",
    "                                   \"AMT_GOODS_PRICE\", \"HOUR_APPR_PROCESS_START\", \"NFLAG_LAST_APPL_IN_DAY\", \n",
    "                                   \"DAYS_DECISION\", \"SELLERPLACE_AREA\", \"CNT_PAYMENT\", \"DAYS_TERMINATION\", \n",
    "                                   \"DAYS_LAST_DUE\", \"DAYS_LAST_DUE_1ST_VERSION\", \"DAYS_FIRST_DUE\", \n",
    "                                   \"DAYS_FIRST_DRAWING\"]].mean().add_suffix(\"_prev\").reset_index()"
   ]
  },
  {
   "cell_type": "code",
   "execution_count": 6,
   "metadata": {},
   "outputs": [],
   "source": [
    "### installment data \n",
    "inst = pd.read_csv(\"../Data/installments_payments.csv\")\n",
    "inst_gb = inst.groupby(\"SK_ID_CURR\")[[\"AMT_INSTALMENT\",\"AMT_PAYMENT\"]].sum().add_suffix(\"_inst\").reset_index()\n",
    "inst_gb[\"diff\"] = inst_gb[\"AMT_INSTALMENT_inst\"] - inst_gb[\"AMT_PAYMENT_inst\"]\n",
    "inst_gb = inst_gb.drop([\"AMT_INSTALMENT_inst\", \"AMT_PAYMENT_inst\"], axis=1)"
   ]
  },
  {
   "cell_type": "code",
   "execution_count": 7,
   "metadata": {},
   "outputs": [],
   "source": [
    "### credit card balance data \n",
    "ccb = pd.read_csv(\"../Data/credit_card_balance.csv\")\n",
    "ccb_gb = ccb[ccb.MONTHS_BALANCE == -1].groupby(\"SK_ID_CURR\")[[\"AMT_BALANCE\", \"AMT_CREDIT_LIMIT_ACTUAL\", \"AMT_DRAWINGS_CURRENT\",\n",
    "                                                    \"AMT_RECIVABLE\", \"AMT_TOTAL_RECEIVABLE\"]].sum().add_suffix(\"_ccb\").reset_index()"
   ]
  },
  {
   "cell_type": "markdown",
   "metadata": {},
   "source": [
    "## Combine bureau data"
   ]
  },
  {
   "cell_type": "code",
   "execution_count": 8,
   "metadata": {},
   "outputs": [],
   "source": [
    "full_train_orig = pd.merge(full_train_orig, bureau_gb, how=\"inner\", on=\"SK_ID_CURR\")\n",
    "test = pd.merge(test, bureau_gb, how=\"left\", on=\"SK_ID_CURR\")"
   ]
  },
  {
   "cell_type": "code",
   "execution_count": 9,
=======
   "execution_count": 27,
>>>>>>> 4b755b1fad0c0bb28263dc9869fbfb912958957e
   "metadata": {},
   "outputs": [
    {
     "data": {
      "text/plain": [
<<<<<<< HEAD
       "(263491, 154)"
      ]
     },
     "execution_count": 9,
=======
       "(263491, 128)"
      ]
     },
     "execution_count": 27,
>>>>>>> 4b755b1fad0c0bb28263dc9869fbfb912958957e
     "metadata": {},
     "output_type": "execute_result"
    }
   ],
   "source": [
    "full_train_orig.shape"
   ]
  },
  {
   "cell_type": "markdown",
   "metadata": {},
   "source": [
    "## Combine previous application data"
   ]
  },
  {
   "cell_type": "code",
<<<<<<< HEAD
   "execution_count": 10,
=======
   "execution_count": 28,
>>>>>>> 4b755b1fad0c0bb28263dc9869fbfb912958957e
   "metadata": {},
   "outputs": [],
   "source": [
    "full_train_orig = pd.merge(full_train_orig, prv_gb, how=\"inner\", on=\"SK_ID_CURR\")\n",
    "test = pd.merge(test, prv_gb, how=\"left\", on=\"SK_ID_CURR\")"
   ]
  },
  {
   "cell_type": "code",
<<<<<<< HEAD
   "execution_count": 11,
=======
   "execution_count": 29,
>>>>>>> 4b755b1fad0c0bb28263dc9869fbfb912958957e
   "metadata": {},
   "outputs": [
    {
     "data": {
      "text/plain": [
<<<<<<< HEAD
       "(249507, 169)"
      ]
     },
     "execution_count": 11,
=======
       "(249507, 143)"
      ]
     },
     "execution_count": 29,
>>>>>>> 4b755b1fad0c0bb28263dc9869fbfb912958957e
     "metadata": {},
     "output_type": "execute_result"
    }
   ],
   "source": [
    "full_train_orig.shape"
   ]
  },
  {
   "cell_type": "markdown",
   "metadata": {},
   "source": [
    "## Combine installment data"
   ]
  },
  {
   "cell_type": "code",
<<<<<<< HEAD
   "execution_count": 12,
=======
   "execution_count": 30,
>>>>>>> 4b755b1fad0c0bb28263dc9869fbfb912958957e
   "metadata": {},
   "outputs": [],
   "source": [
    "full_train_orig = pd.merge(full_train_orig, inst_gb, how=\"inner\", on=\"SK_ID_CURR\")\n",
    "test = pd.merge(test, inst_gb, how=\"left\", on=\"SK_ID_CURR\")"
   ]
  },
  {
   "cell_type": "code",
<<<<<<< HEAD
   "execution_count": 13,
=======
   "execution_count": 31,
>>>>>>> 4b755b1fad0c0bb28263dc9869fbfb912958957e
   "metadata": {},
   "outputs": [
    {
     "data": {
      "text/plain": [
<<<<<<< HEAD
       "(248721, 170)"
      ]
     },
     "execution_count": 13,
=======
       "(248721, 144)"
      ]
     },
     "execution_count": 31,
>>>>>>> 4b755b1fad0c0bb28263dc9869fbfb912958957e
     "metadata": {},
     "output_type": "execute_result"
    }
   ],
   "source": [
    "full_train_orig.shape"
   ]
  },
  {
   "cell_type": "markdown",
   "metadata": {},
   "source": [
    "## combine credit card balance data "
   ]
  },
  {
   "cell_type": "code",
<<<<<<< HEAD
   "execution_count": 14,
=======
   "execution_count": 32,
>>>>>>> 4b755b1fad0c0bb28263dc9869fbfb912958957e
   "metadata": {},
   "outputs": [],
   "source": [
    "# full_train_orig = pd.merge(full_train_orig, ccb_gb, how=\"inner\", on=\"SK_ID_CURR\")\n",
    "# test = pd.merge(test, ccb_gb, how=\"left\", on=\"SK_ID_CURR\")"
   ]
  },
  {
   "cell_type": "code",
<<<<<<< HEAD
   "execution_count": 15,
=======
   "execution_count": 33,
>>>>>>> 4b755b1fad0c0bb28263dc9869fbfb912958957e
   "metadata": {},
   "outputs": [],
   "source": [
    "#full_train_orig.shape"
   ]
  },
  {
   "cell_type": "code",
<<<<<<< HEAD
   "execution_count": 16,
=======
   "execution_count": 34,
>>>>>>> 4b755b1fad0c0bb28263dc9869fbfb912958957e
   "metadata": {},
   "outputs": [],
   "source": [
    "'''\n",
    "Removing columns with more than 100 null values (filters out 62 columns out of 122 columns)\n",
    "And not useful (based on EDA) which removes reduces feature size to 43)\n",
    "'''\n",
    "\n",
<<<<<<< HEAD
    "null_columns = full_train_orig.columns[full_train_orig.isnull().sum().values > 100000].values.tolist()\n",
    "correlated_columns = ['AMT_ANNUITY', 'AMT_GOODS_PRICE', 'CNT_FAM_MEMBERS', 'REGION_RATING_CLIENT_W_CITY',\n",
    "                     'OBS_60_CNT_SOCIAL_CIRCLE', 'DEF_60_CNT_SOCIAL_CIRCLE']\n",
=======
    "null_columns = full_train_orig.columns[full_train_orig.isnull().sum().values > 10000].values.tolist()\n",
>>>>>>> 4b755b1fad0c0bb28263dc9869fbfb912958957e
    "useless_columns = [ \"FLAG_DOCUMENT_2\", \"FLAG_DOCUMENT_4\", \"FLAG_DOCUMENT_5\", \"FLAG_DOCUMENT_7\"\n",
    "                  ,'FLAG_DOCUMENT_9','FLAG_DOCUMENT_10', 'FLAG_DOCUMENT_11', 'FLAG_DOCUMENT_12',\n",
    "       'FLAG_DOCUMENT_13', 'FLAG_DOCUMENT_14', 'FLAG_DOCUMENT_15',\n",
    "       'FLAG_DOCUMENT_16', 'FLAG_DOCUMENT_17', 'FLAG_DOCUMENT_18',\n",
    "       'FLAG_DOCUMENT_19', 'FLAG_DOCUMENT_20', 'FLAG_DOCUMENT_21']"
   ]
  },
  {
   "cell_type": "code",
<<<<<<< HEAD
   "execution_count": 17,
=======
   "execution_count": 35,
>>>>>>> 4b755b1fad0c0bb28263dc9869fbfb912958957e
   "metadata": {},
   "outputs": [],
   "source": [
    "### Manually removing columns which doesn't make sense (based on EDA)\n",
    "full_train = full_train_orig.drop(null_columns+useless_columns+correlated_columns, axis = 1)"
   ]
  },
  {
   "cell_type": "code",
<<<<<<< HEAD
   "execution_count": 18,
=======
   "execution_count": 36,
>>>>>>> 4b755b1fad0c0bb28263dc9869fbfb912958957e
   "metadata": {},
   "outputs": [],
   "source": [
    "#cat_columns_all = set(full_train.columns) - set(full_train._get_numeric_data().columns.tolist())"
   ]
  },
  {
   "cell_type": "code",
<<<<<<< HEAD
   "execution_count": 19,
=======
   "execution_count": 37,
>>>>>>> 4b755b1fad0c0bb28263dc9869fbfb912958957e
   "metadata": {},
   "outputs": [],
   "source": [
    "# cat_feats = [\"CODE_GENDER\", \"NAME_CONTRACT_TYPE\", \"FLAG_OWN_CAR\", \"FLAG_OWN_REALTY\", \n",
    "#              \"NAME_INCOME_TYPE\", \"NAME_EDUCATION_TYPE\", \"NAME_FAMILY_STATUS\", \"OCCUPATION_TYPE\",\n",
    "#              \"NAME_HOUSING_TYPE\", \"FLAG_DOCUMENT_3\"]\n",
    "# num_feats = [\"AMT_INCOME_TOTAL\", \"CNT_CHILDREN\", \"AMT_CREDIT\", \"AMT_ANNUITY\", \"AMT_GOODS_PRICE\", \"DAYS_BIRTH\",\n",
    "#              \"DAYS_EMPLOYED\", \"DAYS_REGISTRATION\", \"DAYS_LAST_PHONE_CHANGE\", \"AMT_REQ_CREDIT_BUREAU_YEAR\", \n",
    "#             \"REGION_POPULATION_RELATIVE\", ]"
   ]
  },
  {
   "cell_type": "code",
<<<<<<< HEAD
   "execution_count": 20,
=======
   "execution_count": 38,
>>>>>>> 4b755b1fad0c0bb28263dc9869fbfb912958957e
   "metadata": {},
   "outputs": [],
   "source": [
    "full_train_y = full_train.TARGET.values\n",
    "full_train = full_train.drop([\"TARGET\"], axis = 1)\n",
    "full_train = full_train.set_index(\"SK_ID_CURR\")\n",
    "num_feats = full_train._get_numeric_data().columns.values.tolist()\n",
    "cat_feats = list(set(full_train.columns.values) - set(num_feats))"
   ]
  },
  {
   "cell_type": "code",
<<<<<<< HEAD
   "execution_count": 21,
=======
   "execution_count": 39,
>>>>>>> 4b755b1fad0c0bb28263dc9869fbfb912958957e
   "metadata": {},
   "outputs": [],
   "source": [
    "## Categorical Features - Train\n",
    "train_cat= full_train[cat_feats]\n",
    "train_cat = pd.get_dummies(train_cat)\n",
    "\n",
    "## Numerical Features - Train\n",
    "train_num = full_train[num_feats]\n",
    "# train[num_feats].isnull().any() # Checking if the column has any null value\n",
    "#train_num = train_num.fillna((train_num.mean()), inplace=True)\n",
    "\n",
    "## Categorical Features - Test\n",
    "test_cat = test[cat_feats]\n",
    "test_cat = pd.get_dummies(test_cat)\n",
    "\n",
    "## Numerical Features - Test\n",
    "test_num = test[num_feats]\n",
    "test_num = test_num.fillna(test_num.mean())\n",
    "\n",
    "# ## Standardize numerical features\n",
    "# std = StandardScaler().fit(train_num)\n",
    "# train_num = std.transform(train_num)\n",
    "# test_num = std.transform(test_num)\n"
   ]
  },
  {
   "cell_type": "code",
<<<<<<< HEAD
   "execution_count": 22,
=======
   "execution_count": 40,
>>>>>>> 4b755b1fad0c0bb28263dc9869fbfb912958957e
   "metadata": {},
   "outputs": [],
   "source": [
    "full_train_feats = pd.concat([train_num, train_cat], axis=1)\n",
    "test_feats = pd.concat([test_num, test_cat], axis=1)"
   ]
  },
  {
   "cell_type": "code",
<<<<<<< HEAD
   "execution_count": 23,
=======
   "execution_count": 41,
>>>>>>> 4b755b1fad0c0bb28263dc9869fbfb912958957e
   "metadata": {},
   "outputs": [],
   "source": [
    "full_train_feats = full_train_feats.apply(lambda x: x.fillna(x.mean()),axis=0)\n",
    "test_feats = test_feats.apply(lambda x: x.fillna(x.mean()),axis=0)"
   ]
  },
  {
   "cell_type": "code",
<<<<<<< HEAD
   "execution_count": 24,
=======
   "execution_count": 42,
>>>>>>> 4b755b1fad0c0bb28263dc9869fbfb912958957e
   "metadata": {},
   "outputs": [
    {
     "data": {
      "text/plain": [
<<<<<<< HEAD
       "(248721, 96)"
      ]
     },
     "execution_count": 24,
=======
       "(248721, 73)"
      ]
     },
     "execution_count": 42,
>>>>>>> 4b755b1fad0c0bb28263dc9869fbfb912958957e
     "metadata": {},
     "output_type": "execute_result"
    }
   ],
   "source": [
    "full_train.shape"
   ]
  },
  {
   "cell_type": "code",
<<<<<<< HEAD
   "execution_count": 25,
=======
   "execution_count": 43,
>>>>>>> 4b755b1fad0c0bb28263dc9869fbfb912958957e
   "metadata": {},
   "outputs": [],
   "source": [
    "train_X, valid_X, train_y, valid_y = train_test_split(full_train_feats, full_train_y, train_size = 0.8, stratify=full_train_y, random_state=42)"
   ]
  },
  {
   "cell_type": "markdown",
   "metadata": {},
   "source": [
    "# Random Forest Classifier"
   ]
  },
  {
   "cell_type": "code",
   "execution_count": null,
   "metadata": {},
   "outputs": [],
   "source": [
    "# ### RF classifier\n",
    "# params_rf={\n",
    "#     'max_depth': [20, 40, 60], #[3,4,5,6,7,8,9], # 5 is good but takes too long in kaggle env\n",
    "#     'n_estimators': [100, 300, 500], #[1000,2000,3000]\n",
    "# }\n",
    "\n",
    "# rf_clf = RandomForestClassifier()\n",
    "# rf = GridSearchCV(rf_clf,\n",
    "#                   params_rf,\n",
    "#                   cv=3,\n",
    "#                   scoring=\"roc_auc\",\n",
    "#                   n_jobs=1,\n",
    "#                   verbose=2)\n",
    "# rf.fit(train_X.drop(list(set(train_X.columns.tolist()) - set(test_feats.columns.tolist())), axis=1), train_y)\n",
    "# best_est_rf = rf.best_estimator_\n",
    "# print(best_est)"
   ]
  },
  {
   "cell_type": "code",
   "execution_count": null,
   "metadata": {},
   "outputs": [],
   "source": [
    "valid_probs_rf = rf.predict_proba(valid_X.drop(list(set(train_X.columns.tolist()) - set(test_feats.columns.tolist())), axis=1))[:,1]\n",
    "valid_preds_rf = rf.predict(valid_X.drop(list(set(train_X.columns.tolist()) - set(test_feats.columns.tolist())), axis=1))"
   ]
  },
  {
   "cell_type": "code",
   "execution_count": null,
   "metadata": {},
   "outputs": [],
   "source": [
    "print(accuracy_score(valid_y, valid_preds_rf))\n",
    "print(roc_auc_score(valid_y, valid_probs_rf))"
   ]
  },
  {
   "cell_type": "code",
   "execution_count": null,
   "metadata": {},
   "outputs": [],
   "source": []
  },
  {
   "cell_type": "markdown",
   "metadata": {},
   "source": [
    "# XGboost with Grid Search"
   ]
  },
  {
   "cell_type": "code",
   "execution_count": null,
   "metadata": {},
   "outputs": [],
   "source": [
    "params={\n",
    "    'max_depth': [3, 4, 5], #[3,4,5,6,7,8,9], # 5 is good but takes too long in kaggle env\n",
    "    'subsample': [0.6, 0.8], #[0.4,0.5,0.6,0.7,0.8,0.9,1.0],\n",
    "    'colsample_bytree': [0.5, 0.7], #[0.5,0.6,0.7,0.8],\n",
    "    'n_estimators': [300, 500, 700], #[1000,2000,3000]\n",
    "    'reg_alpha': [0.01, 0.05],  #[0.01, 0.02, 0.03, 0.04]\n",
    "    'scale_pos_weight':[1,3, 5]\n",
    "}\n",
    "\n",
    "xgb_clf = xgb.XGBClassifier(missing=9999999999)\n",
    "rs = GridSearchCV(xgb_clf,\n",
    "                  params,\n",
    "                  cv=3,\n",
    "                  scoring=\"roc_auc\",\n",
    "                  n_jobs=1,\n",
    "                  verbose=2)\n",
    "rs.fit(train_X.drop(list(set(train_X.columns.tolist()) - set(test_feats.columns.tolist())), axis=1), train_y)\n",
    "best_est = rs.best_estimator_\n",
    "print(best_est)"
   ]
  },
  {
   "cell_type": "code",
   "execution_count": null,
   "metadata": {},
   "outputs": [],
   "source": [
    "valid_probs_rs = rs.predict_proba(valid_X.drop(list(set(train_X.columns.tolist()) - set(test_feats.columns.tolist())), axis=1))[:,1]\n",
    "valid_preds_rs= rs.predict(valid_X.drop(list(set(train_X.columns.tolist()) - set(test_feats.columns.tolist())), axis=1))[:,1]\n",
    "print(accuracy_score(valid_y, valid_preds_rs))\n",
    "print(roc_auc_score(valid_y, valid_probs_rs))"
   ]
  },
  {
   "cell_type": "markdown",
   "metadata": {},
   "source": [
    "# Single XGBoost model with best parameters"
   ]
  },
  {
   "cell_type": "code",
<<<<<<< HEAD
   "execution_count": 26,
=======
   "execution_count": 44,
>>>>>>> 4b755b1fad0c0bb28263dc9869fbfb912958957e
   "metadata": {},
   "outputs": [
    {
     "name": "stdout",
     "output_type": "stream",
     "text": [
<<<<<<< HEAD
      "0.9081314705\n",
      "0.770508300264\n"
     ]
    }
   ],
   "source": [
    "xgb_single = xgb.XGBClassifier(base_score=0.5, colsample_bylevel=1, colsample_bytree=0.5,\n",
    "       gamma=0, learning_rate=0.1, max_delta_step=0, max_depth=3,\n",
    "       min_child_weight=1, missing=9999999999, n_estimators=500,\n",
    "       nthread=-1, objective='binary:logistic', reg_alpha=0.05,\n",
    "       reg_lambda=1, scale_pos_weight=3, seed=0, silent=True,\n",
    "       subsample=0.8)\n",
    "\n",
    "xgb_single.fit(train_X.drop(list(set(train_X.columns.tolist()) - set(test_feats.columns.tolist())), axis=1), train_y)\n",
    "valid_probs_xgb_single = xgb_single.predict_proba(valid_X.drop(list(set(train_X.columns.tolist()) - set(test_feats.columns.tolist())), axis=1))[:,1]\n",
    "valid_preds_xgb_single = xgb_single.predict(valid_X.drop(list(set(train_X.columns.tolist()) - set(test_feats.columns.tolist())), axis=1))\n",
    "print(accuracy_score(valid_y, valid_preds_xgb_single))\n",
    "print(roc_auc_score(valid_y, valid_probs_xgb_single))"
   ]
  },
  {
   "cell_type": "code",
   "execution_count": 27,
   "metadata": {},
   "outputs": [
    {
     "name": "stdout",
     "output_type": "stream",
     "text": [
      "0.802560034805\n"
=======
      "0.910362850538\n",
      "0.753800442932\n"
>>>>>>> 4b755b1fad0c0bb28263dc9869fbfb912958957e
     ]
    }
   ],
   "source": [
<<<<<<< HEAD
    "### Train AUC\n",
    "train_probs_xgb_single = xgb_single.predict_proba(train_X.drop(list(set(train_X.columns.tolist()) - set(test_feats.columns.tolist())), axis=1))[:,1]\n",
    "print(roc_auc_score(train_y, train_probs_xgb_single))"
=======
    "xgb_single = xgb.XGBClassifier(base_score=0.5, colsample_bylevel=1, colsample_bytree=0.5,\n",
    "       gamma=0, learning_rate=0.1, max_delta_step=0, max_depth=3,\n",
    "       min_child_weight=1, missing=9999999999, n_estimators=500,\n",
    "       nthread=-1, objective='binary:logistic', reg_alpha=0.05,\n",
    "       reg_lambda=1, scale_pos_weight=3, seed=0, silent=True,\n",
    "       subsample=0.8)\n",
    "\n",
    "xgb_single.fit(train_X.drop(list(set(train_X.columns.tolist()) - set(test_feats.columns.tolist())), axis=1), train_y)\n",
    "valid_probs_xgb_single = xgb_single.predict_proba(valid_X.drop(list(set(train_X.columns.tolist()) - set(test_feats.columns.tolist())), axis=1))[:,1]\n",
    "valid_preds_xgb_single = xgb_single.predict(valid_X.drop(list(set(train_X.columns.tolist()) - set(test_feats.columns.tolist())), axis=1))\n",
    "print(accuracy_score(valid_y, valid_preds_xgb_single))\n",
    "print(roc_auc_score(valid_y, valid_probs_xgb_single))"
>>>>>>> 4b755b1fad0c0bb28263dc9869fbfb912958957e
   ]
  },
  {
   "cell_type": "code",
   "execution_count": null,
   "metadata": {},
   "outputs": [],
   "source": []
  },
  {
<<<<<<< HEAD
   "cell_type": "code",
   "execution_count": null,
   "metadata": {},
   "outputs": [],
   "source": []
  },
  {
=======
>>>>>>> 4b755b1fad0c0bb28263dc9869fbfb912958957e
   "cell_type": "markdown",
   "metadata": {
    "collapsed": true
   },
   "source": [
    "# LightGBM model "
   ]
  },
  {
   "cell_type": "code",
   "execution_count": null,
   "metadata": {},
   "outputs": [],
   "source": [
    "params={\n",
    "    'max_depth': [3, 5], #[3,4,5,6,7,8,9], # 5 is good but takes too long in kaggle env\n",
    "    'subsample': [0.4, 0.6], #[0.4,0.5,0.6,0.7,0.8,0.9,1.0],\n",
    "    'colsample_bytree': [0.5, 0.7], #[0.5,0.6,0.7,0.8],\n",
    "    'n_estimators': [500, 700], #[1000,2000,3000]\n",
    "    'reg_alpha': [0.01, 0.05], #[0.01, 0.02, 0.03, 0.04]\n",
    "    'scale_pos_weight':[1,3], \n",
    "    'num_leaves':[30, 50]\n",
    "    \n",
    "}\n",
    "\n",
    "lgb_clf = lgb.LGBMClassifier()\n",
    "rs = GridSearchCV(lgb_clf,\n",
    "                  params,\n",
    "                  cv=3,\n",
    "                  scoring=\"roc_auc\",\n",
    "                  n_jobs=-1,\n",
    "                  verbose=2)\n",
    "rs.fit(train_X.drop(list(set(train_X.columns.tolist()) - set(test_feats.columns.tolist())), axis=1), train_y)\n",
    "best_est = rs.best_estimator_\n",
    "print(best_est)"
   ]
  },
  {
   "cell_type": "code",
   "execution_count": null,
   "metadata": {},
   "outputs": [],
   "source": [
    "valid_probs_rs = rs.predict_proba(valid_X.drop(list(set(train_X.columns.tolist()) - set(test_feats.columns.tolist())), axis=1))[:,1]\n",
    "valid_preds_rs= rs.predict(valid_X.drop(list(set(train_X.columns.tolist()) - set(test_feats.columns.tolist())), axis=1))\n",
    "print(accuracy_score(valid_y, valid_preds_rs))\n",
    "print(roc_auc_score(valid_y, valid_probs_rs))"
   ]
  },
  {
   "cell_type": "code",
   "execution_count": null,
   "metadata": {},
   "outputs": [],
   "source": [
    "rs.best_estimator_"
   ]
  },
  {
   "cell_type": "code",
   "execution_count": null,
   "metadata": {},
   "outputs": [],
   "source": [
    "best_model = lgb.LGBMClassifier(boosting_type='gbdt', class_weight=None, colsample_bytree=0.5,\n",
    "        learning_rate=0.1, max_depth=3, min_child_samples=20,\n",
    "        min_child_weight=0.001, min_split_gain=0.0, n_estimators=700,\n",
    "        n_jobs=-1, num_leaves=30, objective=None, random_state=None,\n",
    "        reg_alpha=0.05, reg_lambda=0.0, scale_pos_weight=1, silent=True,\n",
    "        subsample=0.4, subsample_for_bin=200000, subsample_freq=0)"
   ]
  },
  {
   "cell_type": "code",
   "execution_count": null,
   "metadata": {},
   "outputs": [],
   "source": [
    "best_model.fit(full_train_feats.drop(list(set(train_X.columns.tolist()) - set(test_feats.columns.tolist())), axis=1), full_train_y)"
   ]
  },
  {
   "cell_type": "markdown",
   "metadata": {},
   "source": [
    "# Prepare Submission file "
   ]
  },
  {
   "cell_type": "code",
   "execution_count": 45,
   "metadata": {},
   "outputs": [],
   "source": [
    "### Prepare submission file and save to disk\n",
    "result_df = pd.DataFrame({'SK_ID_CURR':test.SK_ID_CURR.values, \"TARGET\":xgb_single.predict_proba(test_feats.drop(list(set(test_feats.columns.tolist()) - set(train_X.columns.tolist())), axis=1))[:,1]})\n",
<<<<<<< HEAD
    "result_df.to_csv(\"submimssion_xgbsingle_fulldata_bureau_prev_inst_update.csv\", index=False)"
=======
    "result_df.to_csv(\"submimssion_xgbsingle_fulldata_bureau_prev_inst.csv\", index=False)"
>>>>>>> 4b755b1fad0c0bb28263dc9869fbfb912958957e
   ]
  },
  {
   "cell_type": "code",
   "execution_count": null,
   "metadata": {},
   "outputs": [],
   "source": [
    "result_df.shape"
   ]
  },
  {
   "cell_type": "code",
   "execution_count": null,
   "metadata": {},
   "outputs": [],
   "source": []
  },
  {
   "cell_type": "code",
   "execution_count": null,
   "metadata": {},
   "outputs": [],
   "source": [
    "train_X.drop(np.array(list(set(train_X.columns.tolist()) - set(test_feats.columns.tolist()))), axis=1).columns.values[np.argsort(xgb_single.feature_importances_)]"
   ]
  },
  {
   "cell_type": "code",
   "execution_count": null,
   "metadata": {},
   "outputs": [],
   "source": [
    "xgb_cols = list(set(train_X.columns.tolist()).intersection(set(test_feats.columns.tolist())))"
   ]
  },
  {
   "cell_type": "code",
   "execution_count": null,
   "metadata": {},
   "outputs": [],
   "source": [
    "pd.DataFrame.from_dict(xgb_single.booster().get_fscore(), orient='index').sort_values(by=0, ascending=False).plot(kind=\"bar\", figsize=(20,10))"
   ]
  },
  {
   "cell_type": "code",
   "execution_count": null,
   "metadata": {},
   "outputs": [],
   "source": [
    "pd.DataFrame.from_dict(xgb_single.booster().get_fscore(), orient='index').reset_index().plot(kind=\"bar\", figsize=(12,10))"
   ]
  },
  {
   "cell_type": "markdown",
   "metadata": {},
   "source": [
    "# EDA"
   ]
  },
  {
<<<<<<< HEAD
   "cell_type": "markdown",
   "metadata": {},
   "source": [
    "### check correlation among numerical featuers and between target"
=======
   "cell_type": "code",
   "execution_count": null,
   "metadata": {},
   "outputs": [],
   "source": [
    "bb = pd.read_csv(\"../Data/bureau_balance.csv\")"
   ]
  },
  {
   "cell_type": "code",
   "execution_count": null,
   "metadata": {},
   "outputs": [],
   "source": [
    "xgb_single."
   ]
  },
  {
   "cell_type": "code",
   "execution_count": null,
   "metadata": {},
   "outputs": [],
   "source": [
    "bb.head(100)"
   ]
  },
  {
   "cell_type": "code",
   "execution_count": null,
   "metadata": {},
   "outputs": [],
   "source": [
    "pcb = pd.read_csv(\"../Data/POS_CASH_balance.csv\")"
   ]
  },
  {
   "cell_type": "code",
   "execution_count": null,
   "metadata": {},
   "outputs": [],
   "source": [
    "pcb.head()"
   ]
  },
  {
   "cell_type": "code",
   "execution_count": null,
   "metadata": {},
   "outputs": [],
   "source": [
    "pcb.shape"
   ]
  },
  {
   "cell_type": "code",
   "execution_count": null,
   "metadata": {},
   "outputs": [],
   "source": [
    "ftpcb = pd.merge(full_train_orig, pcb.groupby(\"SK_ID_CURR\")[\"CNT_INSTALMENT\"].min().reset_index(), how=\"inner\", on=\"SK_ID_CURR\")"
   ]
  },
  {
   "cell_type": "code",
   "execution_count": null,
   "metadata": {},
   "outputs": [],
   "source": []
  },
  {
   "cell_type": "code",
   "execution_count": null,
   "metadata": {},
   "outputs": [],
   "source": [
    "ftpcb.head()"
>>>>>>> 4b755b1fad0c0bb28263dc9869fbfb912958957e
   ]
  },
  {
   "cell_type": "code",
   "execution_count": null,
   "metadata": {},
   "outputs": [],
   "source": [
<<<<<<< HEAD
    "fig = plt.figure(figsize=(20,20))\n",
    "sns.heatmap(full_train[full_train.columns[full_train.dtypes != \"object\"]].corr(),annot=True, fmt = \".2f\", cmap = \"coolwarm\")"
=======
    "ftpcb.groupby(\"TARGET\")[\"MONTHS_BALANCE\"].mean()"
>>>>>>> 4b755b1fad0c0bb28263dc9869fbfb912958957e
   ]
  },
  {
   "cell_type": "code",
   "execution_count": null,
   "metadata": {},
   "outputs": [],
<<<<<<< HEAD
   "source": [
    "full_train.columns"
=======
   "source": []
  },
  {
   "cell_type": "code",
   "execution_count": null,
   "metadata": {},
   "outputs": [],
   "source": [
    "prv.shape"
>>>>>>> 4b755b1fad0c0bb28263dc9869fbfb912958957e
   ]
  },
  {
   "cell_type": "code",
   "execution_count": null,
   "metadata": {},
   "outputs": [],
<<<<<<< HEAD
   "source": [
    "full_train_orig[[\"EXT_SOURCE_1\", \"EXT_SOURCE_2\", \"EXT_SOURCE_3\"]].isnull().sum()"
=======
   "source": []
  },
  {
   "cell_type": "code",
   "execution_count": null,
   "metadata": {},
   "outputs": [],
   "source": [
    "ccb = pd.read_csv(\"../Data/credit_card_balance.csv\")"
   ]
  },
  {
   "cell_type": "code",
   "execution_count": null,
   "metadata": {},
   "outputs": [],
   "source": []
  },
  {
   "cell_type": "code",
   "execution_count": null,
   "metadata": {},
   "outputs": [],
   "source": [
    "ccb[ccb.MONTHS_BALANCE == -1].groupby(\"SK_ID_CURR\").mean().shape"
>>>>>>> 4b755b1fad0c0bb28263dc9869fbfb912958957e
   ]
  },
  {
   "cell_type": "code",
   "execution_count": null,
   "metadata": {},
   "outputs": [],
   "source": [
<<<<<<< HEAD
    "full_train_orig.EXT_SOURCE_1"
=======
    "ccb[ccb.MONTHS_BALANCE == -1].groupby(\"SK_ID_CURR\").mean().isnull().sum()"
   ]
  },
  {
   "cell_type": "code",
   "execution_count": null,
   "metadata": {},
   "outputs": [],
   "source": [
    "bla.groupby(\"TARGET\")[\"AMT_INSTALMENT\"].mean()"
   ]
  },
  {
   "cell_type": "code",
   "execution_count": null,
   "metadata": {},
   "outputs": [],
   "source": [
    "bla.groupby(\"TARGET\")[\"AMT_PAYMENT\"].mean()"
   ]
  },
  {
   "cell_type": "code",
   "execution_count": null,
   "metadata": {},
   "outputs": [],
   "source": []
  },
  {
   "cell_type": "code",
   "execution_count": null,
   "metadata": {},
   "outputs": [],
   "source": [
    "bla.groupby(\"TARGET\")[\"diff\"].mean()"
>>>>>>> 4b755b1fad0c0bb28263dc9869fbfb912958957e
   ]
  },
  {
   "cell_type": "code",
   "execution_count": null,
   "metadata": {},
   "outputs": [],
   "source": []
  }
 ],
 "metadata": {
  "kernelspec": {
   "display_name": "Python 3",
   "language": "python",
   "name": "python3"
  },
  "language_info": {
   "codemirror_mode": {
    "name": "ipython",
    "version": 3
   },
   "file_extension": ".py",
   "mimetype": "text/x-python",
   "name": "python",
   "nbconvert_exporter": "python",
   "pygments_lexer": "ipython3",
   "version": "3.6.3"
  }
 },
 "nbformat": 4,
 "nbformat_minor": 2
}
