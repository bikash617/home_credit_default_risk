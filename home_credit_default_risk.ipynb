{
 "cells": [
  {
   "cell_type": "code",
   "execution_count": 17,
   "metadata": {},
   "outputs": [],
   "source": [
    "import pandas as pd\n",
    "import numpy as np\n",
    "from sklearn.preprocessing import StandardScaler\n",
    "from sklearn.ensemble import RandomForestClassifier\n",
    "from sklearn.cross_validation import train_test_split\n",
    "from sklearn.metrics import accuracy_score, roc_auc_score\n",
    "import xgboost as xgb\n",
    "from sklearn.model_selection import GridSearchCV\n",
    "from imblearn.over_sampling import SMOTE\n",
    "from sklearn.decomposition import PCA"
   ]
  },
  {
   "cell_type": "code",
   "execution_count": 2,
   "metadata": {
    "collapsed": true
   },
   "outputs": [],
   "source": [
    "full_train_orig = pd.read_csv(\"../Data/application_train.csv\")\n",
    "test =  pd.read_csv(\"../Data/application_test.csv\")\n",
    "bureau = pd.read_csv(\"../Data/bureau.csv\")"
   ]
  },
  {
   "cell_type": "code",
   "execution_count": 3,
   "metadata": {
    "collapsed": true
   },
   "outputs": [],
   "source": [
    "'''\n",
    "Removing columns with more than 100 null values (filters out 62 columns out of 122 columns)\n",
    "And not useful (based on EDA) which removes reduces feature size to 43)\n",
    "'''\n",
    "\n",
    "null_columns = full_train_orig.columns[full_train_orig.isnull().sum().values > 100].values.tolist()\n",
    "useless_columns = [\"FLAG_DOCUMENT_2\", \"FLAG_DOCUMENT_4\", \"FLAG_DOCUMENT_5\", \"FLAG_DOCUMENT_7\"\n",
    "                  ,'FLAG_DOCUMENT_9','FLAG_DOCUMENT_10', 'FLAG_DOCUMENT_11', 'FLAG_DOCUMENT_12',\n",
    "       'FLAG_DOCUMENT_13', 'FLAG_DOCUMENT_14', 'FLAG_DOCUMENT_15',\n",
    "       'FLAG_DOCUMENT_16', 'FLAG_DOCUMENT_17', 'FLAG_DOCUMENT_18',\n",
    "       'FLAG_DOCUMENT_19', 'FLAG_DOCUMENT_20', 'FLAG_DOCUMENT_21']"
   ]
  },
  {
   "cell_type": "code",
   "execution_count": 4,
   "metadata": {
    "collapsed": true
   },
   "outputs": [],
   "source": [
    "### Manually removing columns which doesn't make sense (based on EDA)\n",
    "full_train = full_train_orig.drop(null_columns+useless_columns, axis = 1)"
   ]
  },
  {
   "cell_type": "code",
   "execution_count": null,
   "metadata": {},
   "outputs": [],
   "source": []
  },
  {
   "cell_type": "code",
   "execution_count": 8,
   "metadata": {
    "collapsed": true
   },
   "outputs": [],
   "source": [
    "#cat_columns_all = set(full_train.columns) - set(full_train._get_numeric_data().columns.tolist())"
   ]
  },
  {
   "cell_type": "code",
   "execution_count": 9,
   "metadata": {
    "collapsed": true
   },
   "outputs": [],
   "source": [
    "# cat_feats = [\"CODE_GENDER\", \"NAME_CONTRACT_TYPE\", \"FLAG_OWN_CAR\", \"FLAG_OWN_REALTY\", \n",
    "#              \"NAME_INCOME_TYPE\", \"NAME_EDUCATION_TYPE\", \"NAME_FAMILY_STATUS\", \"OCCUPATION_TYPE\",\n",
    "#              \"NAME_HOUSING_TYPE\", \"FLAG_DOCUMENT_3\"]\n",
    "# num_feats = [\"AMT_INCOME_TOTAL\", \"CNT_CHILDREN\", \"AMT_CREDIT\", \"AMT_ANNUITY\", \"AMT_GOODS_PRICE\", \"DAYS_BIRTH\",\n",
    "#              \"DAYS_EMPLOYED\", \"DAYS_REGISTRATION\", \"DAYS_LAST_PHONE_CHANGE\", \"AMT_REQ_CREDIT_BUREAU_YEAR\", \n",
    "#             \"REGION_POPULATION_RELATIVE\", ]"
   ]
  },
  {
   "cell_type": "code",
   "execution_count": 10,
   "metadata": {
    "collapsed": true
   },
   "outputs": [],
   "source": [
    "full_train_y = full_train.TARGET.values\n",
    "full_train = full_train.drop([\"TARGET\"], axis = 1)\n",
    "full_train = full_train.set_index(\"SK_ID_CURR\")\n",
    "num_feats = full_train._get_numeric_data().columns.values.tolist()\n",
    "cat_feats = list(set(full_train.columns.values) - set(num_feats))"
   ]
  },
  {
   "cell_type": "code",
   "execution_count": 11,
   "metadata": {
    "collapsed": true
   },
   "outputs": [],
   "source": [
    "## Categorical Features - Train\n",
    "train_cat= full_train[cat_feats]\n",
    "train_cat = pd.get_dummies(train_cat)\n",
    "\n",
    "## Numerical Features - Train\n",
    "train_num = full_train[num_feats]\n",
    "# train[num_feats].isnull().any() # Checking if the column has any null value\n",
    "#train_num = train_num.fillna((train_num.mean()), inplace=True)\n",
    "\n",
    "## Categorical Features - Test\n",
    "test_cat = test[cat_feats]\n",
    "test_cat = pd.get_dummies(test_cat)\n",
    "\n",
    "## Numerical Features - Test\n",
    "test_num = test[num_feats]\n",
    "test_num = test_num.fillna(test_num.mean())\n",
    "\n",
    "# ## Standardize numerical features\n",
    "# std = StandardScaler().fit(train_num)\n",
    "# train_num = std.transform(train_num)\n",
    "# test_num = std.transform(test_num)\n"
   ]
  },
  {
   "cell_type": "code",
   "execution_count": 12,
   "metadata": {
    "collapsed": true
   },
   "outputs": [],
   "source": [
    "full_train_feats = pd.concat([train_num, train_cat], axis=1)\n",
    "test_feats = pd.concat([test_num, test_cat], axis=1)"
   ]
  },
  {
   "cell_type": "code",
   "execution_count": 13,
   "metadata": {
    "collapsed": true
   },
   "outputs": [],
   "source": [
    "full_train_feats = full_train_feats.apply(lambda x: x.fillna(x.mean()),axis=0)\n",
    "test_feats = test_feats.apply(lambda x: x.fillna(x.mean()),axis=0)"
   ]
  },
  {
   "cell_type": "code",
   "execution_count": 14,
   "metadata": {
    "collapsed": true
   },
   "outputs": [],
   "source": [
    "train_X, valid_X, train_y, valid_y = train_test_split(full_train_feats, full_train_y, train_size = 0.8)"
   ]
  },
  {
   "cell_type": "code",
   "execution_count": 16,
   "metadata": {},
   "outputs": [],
   "source": [
    "# sm = SMOTE(random_state=12, ratio = 1.0)\n",
    "# train_X_res, train_y_res = sm.fit_sample(train_X, train_y)\n",
    "#train_X_res = pd.DataFrame(train_X_res, columns=train_X.columns)"
   ]
  },
  {
   "cell_type": "code",
   "execution_count": null,
   "metadata": {
    "collapsed": true
   },
   "outputs": [],
   "source": [
    "### reducing dimension using PCA"
   ]
  },
  {
   "cell_type": "code",
   "execution_count": 35,
   "metadata": {},
   "outputs": [],
   "source": [
    "pca = PCA(n_components=20)\n",
    "pca.fit(train_X.drop(\"CODE_GENDER_XNA\", axis=1))\n",
    "train_X_pca = pca.transform(train_X.drop(\"CODE_GENDER_XNA\", axis=1))\n",
    "valid_X_pca = pca.transform(valid_X.drop(\"CODE_GENDER_XNA\", axis=1))\n",
    "test_feats_pca = pca.transform(test_feats)"
   ]
  },
  {
   "cell_type": "code",
   "execution_count": 36,
   "metadata": {},
   "outputs": [],
   "source": [
    "# ### RF classifier\n",
    "# params_rf={\n",
    "#     'max_depth': [20, 40, 60], #[3,4,5,6,7,8,9], # 5 is good but takes too long in kaggle env\n",
    "#     'n_estimators': [100, 300, 500], #[1000,2000,3000]\n",
    "# }\n",
    "\n",
    "# rf_clf = RandomForestClassifier()\n",
    "# rf = GridSearchCV(rf_clf,\n",
    "#                   params_rf,\n",
    "#                   cv=3,\n",
    "#                   scoring=\"roc_auc\",\n",
    "#                   n_jobs=1,\n",
    "#                   verbose=2)\n",
    "# rf.fit(train_X_res.drop(\"CODE_GENDER_XNA\", axis=1), train_y_res)\n",
    "# best_est_rf = rf.best_estimator_\n",
    "# print(best_est_rf)\n",
    "# valid_probs_rf = rf.predict_proba(valid_X)[:,1]\n",
    "# valid_preds_rf = rf.predict(valid_X)"
   ]
  },
  {
   "cell_type": "code",
   "execution_count": 37,
   "metadata": {
    "collapsed": true
   },
   "outputs": [],
   "source": [
    "# trainrf = RandomForestClassifier(bootstrap=True, class_weight=None, criterion='gini',\n",
    "#             max_depth=40, max_features='auto', max_leaf_nodes=None,\n",
    "#             min_impurity_decrease=0.0, min_impurity_split=None,\n",
    "#             min_samples_leaf=1, min_samples_split=2,\n",
    "#             min_weight_fraction_leaf=0.0, n_estimators=500, n_jobs=1,\n",
    "#             oob_score=False, random_state=None, verbose=0,\n",
    "#             warm_start=False)\n",
    "\n",
    "# trainrf.fit(train_X.drop(\"CODE_GENDER_XNA\", axis=1), train_y)\n",
    "# valid_probs_rf = trainrf.predict_proba(valid_X.drop(\"CODE_GENDER_XNA\", axis=1))[:,1]\n",
    "# valid_preds_rf = trainrf.predict(valid_X.drop(\"CODE_GENDER_XNA\", axis=1))"
   ]
  },
  {
   "cell_type": "code",
   "execution_count": 38,
   "metadata": {},
   "outputs": [],
   "source": [
    "# print(accuracy_score(valid_y, valid_preds_rf))\n",
    "# print(roc_auc_score(valid_y, valid_probs_rf))"
   ]
  },
  {
   "cell_type": "code",
   "execution_count": 39,
   "metadata": {},
   "outputs": [
    {
     "name": "stdout",
     "output_type": "stream",
     "text": [
      "Fitting 3 folds for each of 32 candidates, totalling 96 fits\n",
      "[CV] subsample=0.6, reg_alpha=0.01, colsample_bytree=0.5, max_depth=3, n_estimators=300 \n",
      "[CV]  subsample=0.6, reg_alpha=0.01, colsample_bytree=0.5, max_depth=3, n_estimators=300, total=   3.2s\n",
      "[CV] subsample=0.6, reg_alpha=0.01, colsample_bytree=0.5, max_depth=3, n_estimators=300 \n"
     ]
    },
    {
     "name": "stderr",
     "output_type": "stream",
     "text": [
      "[Parallel(n_jobs=1)]: Done   1 out of   1 | elapsed:    3.3s remaining:    0.0s\n"
     ]
    },
    {
     "name": "stdout",
     "output_type": "stream",
     "text": [
      "[CV]  subsample=0.6, reg_alpha=0.01, colsample_bytree=0.5, max_depth=3, n_estimators=300, total=   3.3s\n",
      "[CV] subsample=0.6, reg_alpha=0.01, colsample_bytree=0.5, max_depth=3, n_estimators=300 \n",
      "[CV]  subsample=0.6, reg_alpha=0.01, colsample_bytree=0.5, max_depth=3, n_estimators=300, total=   5.7s\n",
      "[CV] subsample=0.8, reg_alpha=0.01, colsample_bytree=0.5, max_depth=3, n_estimators=300 \n",
      "[CV]  subsample=0.8, reg_alpha=0.01, colsample_bytree=0.5, max_depth=3, n_estimators=300, total=   3.8s\n",
      "[CV] subsample=0.8, reg_alpha=0.01, colsample_bytree=0.5, max_depth=3, n_estimators=300 \n",
      "[CV]  subsample=0.8, reg_alpha=0.01, colsample_bytree=0.5, max_depth=3, n_estimators=300, total=   3.9s\n",
      "[CV] subsample=0.8, reg_alpha=0.01, colsample_bytree=0.5, max_depth=3, n_estimators=300 \n",
      "[CV]  subsample=0.8, reg_alpha=0.01, colsample_bytree=0.5, max_depth=3, n_estimators=300, total=   3.7s\n",
      "[CV] subsample=0.6, reg_alpha=0.05, colsample_bytree=0.5, max_depth=3, n_estimators=300 \n",
      "[CV]  subsample=0.6, reg_alpha=0.05, colsample_bytree=0.5, max_depth=3, n_estimators=300, total=   3.4s\n",
      "[CV] subsample=0.6, reg_alpha=0.05, colsample_bytree=0.5, max_depth=3, n_estimators=300 \n",
      "[CV]  subsample=0.6, reg_alpha=0.05, colsample_bytree=0.5, max_depth=3, n_estimators=300, total=   3.4s\n",
      "[CV] subsample=0.6, reg_alpha=0.05, colsample_bytree=0.5, max_depth=3, n_estimators=300 \n",
      "[CV]  subsample=0.6, reg_alpha=0.05, colsample_bytree=0.5, max_depth=3, n_estimators=300, total=   3.3s\n",
      "[CV] subsample=0.8, reg_alpha=0.05, colsample_bytree=0.5, max_depth=3, n_estimators=300 \n",
      "[CV]  subsample=0.8, reg_alpha=0.05, colsample_bytree=0.5, max_depth=3, n_estimators=300, total=   3.5s\n",
      "[CV] subsample=0.8, reg_alpha=0.05, colsample_bytree=0.5, max_depth=3, n_estimators=300 \n",
      "[CV]  subsample=0.8, reg_alpha=0.05, colsample_bytree=0.5, max_depth=3, n_estimators=300, total=   3.6s\n",
      "[CV] subsample=0.8, reg_alpha=0.05, colsample_bytree=0.5, max_depth=3, n_estimators=300 \n",
      "[CV]  subsample=0.8, reg_alpha=0.05, colsample_bytree=0.5, max_depth=3, n_estimators=300, total=   4.0s\n",
      "[CV] subsample=0.6, reg_alpha=0.01, colsample_bytree=0.5, max_depth=3, n_estimators=500 \n",
      "[CV]  subsample=0.6, reg_alpha=0.01, colsample_bytree=0.5, max_depth=3, n_estimators=500, total=   5.7s\n",
      "[CV] subsample=0.6, reg_alpha=0.01, colsample_bytree=0.5, max_depth=3, n_estimators=500 \n",
      "[CV]  subsample=0.6, reg_alpha=0.01, colsample_bytree=0.5, max_depth=3, n_estimators=500, total=   6.1s\n",
      "[CV] subsample=0.6, reg_alpha=0.01, colsample_bytree=0.5, max_depth=3, n_estimators=500 \n",
      "[CV]  subsample=0.6, reg_alpha=0.01, colsample_bytree=0.5, max_depth=3, n_estimators=500, total=   8.7s\n",
      "[CV] subsample=0.8, reg_alpha=0.01, colsample_bytree=0.5, max_depth=3, n_estimators=500 \n",
      "[CV]  subsample=0.8, reg_alpha=0.01, colsample_bytree=0.5, max_depth=3, n_estimators=500, total=  10.3s\n",
      "[CV] subsample=0.8, reg_alpha=0.01, colsample_bytree=0.5, max_depth=3, n_estimators=500 \n",
      "[CV]  subsample=0.8, reg_alpha=0.01, colsample_bytree=0.5, max_depth=3, n_estimators=500, total=  10.1s\n",
      "[CV] subsample=0.8, reg_alpha=0.01, colsample_bytree=0.5, max_depth=3, n_estimators=500 \n",
      "[CV]  subsample=0.8, reg_alpha=0.01, colsample_bytree=0.5, max_depth=3, n_estimators=500, total=   8.3s\n",
      "[CV] subsample=0.6, reg_alpha=0.05, colsample_bytree=0.5, max_depth=3, n_estimators=500 \n",
      "[CV]  subsample=0.6, reg_alpha=0.05, colsample_bytree=0.5, max_depth=3, n_estimators=500, total=   7.4s\n",
      "[CV] subsample=0.6, reg_alpha=0.05, colsample_bytree=0.5, max_depth=3, n_estimators=500 \n",
      "[CV]  subsample=0.6, reg_alpha=0.05, colsample_bytree=0.5, max_depth=3, n_estimators=500, total=   7.3s\n",
      "[CV] subsample=0.6, reg_alpha=0.05, colsample_bytree=0.5, max_depth=3, n_estimators=500 \n",
      "[CV]  subsample=0.6, reg_alpha=0.05, colsample_bytree=0.5, max_depth=3, n_estimators=500, total=   6.4s\n",
      "[CV] subsample=0.8, reg_alpha=0.05, colsample_bytree=0.5, max_depth=3, n_estimators=500 \n",
      "[CV]  subsample=0.8, reg_alpha=0.05, colsample_bytree=0.5, max_depth=3, n_estimators=500, total=  10.8s\n",
      "[CV] subsample=0.8, reg_alpha=0.05, colsample_bytree=0.5, max_depth=3, n_estimators=500 \n",
      "[CV]  subsample=0.8, reg_alpha=0.05, colsample_bytree=0.5, max_depth=3, n_estimators=500, total=   8.4s\n",
      "[CV] subsample=0.8, reg_alpha=0.05, colsample_bytree=0.5, max_depth=3, n_estimators=500 \n",
      "[CV]  subsample=0.8, reg_alpha=0.05, colsample_bytree=0.5, max_depth=3, n_estimators=500, total=   8.6s\n",
      "[CV] subsample=0.6, reg_alpha=0.01, colsample_bytree=0.5, max_depth=5, n_estimators=300 \n",
      "[CV]  subsample=0.6, reg_alpha=0.01, colsample_bytree=0.5, max_depth=5, n_estimators=300, total=   7.3s\n",
      "[CV] subsample=0.6, reg_alpha=0.01, colsample_bytree=0.5, max_depth=5, n_estimators=300 \n",
      "[CV]  subsample=0.6, reg_alpha=0.01, colsample_bytree=0.5, max_depth=5, n_estimators=300, total=   7.7s\n",
      "[CV] subsample=0.6, reg_alpha=0.01, colsample_bytree=0.5, max_depth=5, n_estimators=300 \n",
      "[CV]  subsample=0.6, reg_alpha=0.01, colsample_bytree=0.5, max_depth=5, n_estimators=300, total=   8.9s\n",
      "[CV] subsample=0.8, reg_alpha=0.01, colsample_bytree=0.5, max_depth=5, n_estimators=300 \n",
      "[CV]  subsample=0.8, reg_alpha=0.01, colsample_bytree=0.5, max_depth=5, n_estimators=300, total=   7.0s\n",
      "[CV] subsample=0.8, reg_alpha=0.01, colsample_bytree=0.5, max_depth=5, n_estimators=300 \n",
      "[CV]  subsample=0.8, reg_alpha=0.01, colsample_bytree=0.5, max_depth=5, n_estimators=300, total=   7.0s\n",
      "[CV] subsample=0.8, reg_alpha=0.01, colsample_bytree=0.5, max_depth=5, n_estimators=300 \n",
      "[CV]  subsample=0.8, reg_alpha=0.01, colsample_bytree=0.5, max_depth=5, n_estimators=300, total=   9.3s\n",
      "[CV] subsample=0.6, reg_alpha=0.05, colsample_bytree=0.5, max_depth=5, n_estimators=300 \n",
      "[CV]  subsample=0.6, reg_alpha=0.05, colsample_bytree=0.5, max_depth=5, n_estimators=300, total=   8.0s\n",
      "[CV] subsample=0.6, reg_alpha=0.05, colsample_bytree=0.5, max_depth=5, n_estimators=300 \n",
      "[CV]  subsample=0.6, reg_alpha=0.05, colsample_bytree=0.5, max_depth=5, n_estimators=300, total=   8.8s\n",
      "[CV] subsample=0.6, reg_alpha=0.05, colsample_bytree=0.5, max_depth=5, n_estimators=300 \n",
      "[CV]  subsample=0.6, reg_alpha=0.05, colsample_bytree=0.5, max_depth=5, n_estimators=300, total=   8.6s\n",
      "[CV] subsample=0.8, reg_alpha=0.05, colsample_bytree=0.5, max_depth=5, n_estimators=300 \n",
      "[CV]  subsample=0.8, reg_alpha=0.05, colsample_bytree=0.5, max_depth=5, n_estimators=300, total=  10.3s\n",
      "[CV] subsample=0.8, reg_alpha=0.05, colsample_bytree=0.5, max_depth=5, n_estimators=300 \n",
      "[CV]  subsample=0.8, reg_alpha=0.05, colsample_bytree=0.5, max_depth=5, n_estimators=300, total=   7.9s\n",
      "[CV] subsample=0.8, reg_alpha=0.05, colsample_bytree=0.5, max_depth=5, n_estimators=300 \n",
      "[CV]  subsample=0.8, reg_alpha=0.05, colsample_bytree=0.5, max_depth=5, n_estimators=300, total=   8.0s\n",
      "[CV] subsample=0.6, reg_alpha=0.01, colsample_bytree=0.5, max_depth=5, n_estimators=500 \n",
      "[CV]  subsample=0.6, reg_alpha=0.01, colsample_bytree=0.5, max_depth=5, n_estimators=500, total=  12.8s\n",
      "[CV] subsample=0.6, reg_alpha=0.01, colsample_bytree=0.5, max_depth=5, n_estimators=500 \n",
      "[CV]  subsample=0.6, reg_alpha=0.01, colsample_bytree=0.5, max_depth=5, n_estimators=500, total=  13.6s\n",
      "[CV] subsample=0.6, reg_alpha=0.01, colsample_bytree=0.5, max_depth=5, n_estimators=500 \n",
      "[CV]  subsample=0.6, reg_alpha=0.01, colsample_bytree=0.5, max_depth=5, n_estimators=500, total=  14.0s\n",
      "[CV] subsample=0.8, reg_alpha=0.01, colsample_bytree=0.5, max_depth=5, n_estimators=500 \n",
      "[CV]  subsample=0.8, reg_alpha=0.01, colsample_bytree=0.5, max_depth=5, n_estimators=500, total=  14.8s\n",
      "[CV] subsample=0.8, reg_alpha=0.01, colsample_bytree=0.5, max_depth=5, n_estimators=500 \n",
      "[CV]  subsample=0.8, reg_alpha=0.01, colsample_bytree=0.5, max_depth=5, n_estimators=500, total=  14.4s\n",
      "[CV] subsample=0.8, reg_alpha=0.01, colsample_bytree=0.5, max_depth=5, n_estimators=500 \n",
      "[CV]  subsample=0.8, reg_alpha=0.01, colsample_bytree=0.5, max_depth=5, n_estimators=500, total=  14.0s\n",
      "[CV] subsample=0.6, reg_alpha=0.05, colsample_bytree=0.5, max_depth=5, n_estimators=500 \n",
      "[CV]  subsample=0.6, reg_alpha=0.05, colsample_bytree=0.5, max_depth=5, n_estimators=500, total=  12.9s\n",
      "[CV] subsample=0.6, reg_alpha=0.05, colsample_bytree=0.5, max_depth=5, n_estimators=500 \n",
      "[CV]  subsample=0.6, reg_alpha=0.05, colsample_bytree=0.5, max_depth=5, n_estimators=500, total=  12.9s\n",
      "[CV] subsample=0.6, reg_alpha=0.05, colsample_bytree=0.5, max_depth=5, n_estimators=500 \n"
     ]
    },
    {
     "name": "stdout",
     "output_type": "stream",
     "text": [
      "[CV]  subsample=0.6, reg_alpha=0.05, colsample_bytree=0.5, max_depth=5, n_estimators=500, total=  12.4s\n",
      "[CV] subsample=0.8, reg_alpha=0.05, colsample_bytree=0.5, max_depth=5, n_estimators=500 \n",
      "[CV]  subsample=0.8, reg_alpha=0.05, colsample_bytree=0.5, max_depth=5, n_estimators=500, total=  13.6s\n",
      "[CV] subsample=0.8, reg_alpha=0.05, colsample_bytree=0.5, max_depth=5, n_estimators=500 \n",
      "[CV]  subsample=0.8, reg_alpha=0.05, colsample_bytree=0.5, max_depth=5, n_estimators=500, total=  13.6s\n",
      "[CV] subsample=0.8, reg_alpha=0.05, colsample_bytree=0.5, max_depth=5, n_estimators=500 \n",
      "[CV]  subsample=0.8, reg_alpha=0.05, colsample_bytree=0.5, max_depth=5, n_estimators=500, total=  13.5s\n",
      "[CV] subsample=0.6, reg_alpha=0.01, colsample_bytree=0.7, max_depth=3, n_estimators=300 \n",
      "[CV]  subsample=0.6, reg_alpha=0.01, colsample_bytree=0.7, max_depth=3, n_estimators=300, total=   5.2s\n",
      "[CV] subsample=0.6, reg_alpha=0.01, colsample_bytree=0.7, max_depth=3, n_estimators=300 \n",
      "[CV]  subsample=0.6, reg_alpha=0.01, colsample_bytree=0.7, max_depth=3, n_estimators=300, total=   5.3s\n",
      "[CV] subsample=0.6, reg_alpha=0.01, colsample_bytree=0.7, max_depth=3, n_estimators=300 \n",
      "[CV]  subsample=0.6, reg_alpha=0.01, colsample_bytree=0.7, max_depth=3, n_estimators=300, total=   5.5s\n",
      "[CV] subsample=0.8, reg_alpha=0.01, colsample_bytree=0.7, max_depth=3, n_estimators=300 \n",
      "[CV]  subsample=0.8, reg_alpha=0.01, colsample_bytree=0.7, max_depth=3, n_estimators=300, total=   6.1s\n",
      "[CV] subsample=0.8, reg_alpha=0.01, colsample_bytree=0.7, max_depth=3, n_estimators=300 \n",
      "[CV]  subsample=0.8, reg_alpha=0.01, colsample_bytree=0.7, max_depth=3, n_estimators=300, total=   6.1s\n",
      "[CV] subsample=0.8, reg_alpha=0.01, colsample_bytree=0.7, max_depth=3, n_estimators=300 \n",
      "[CV]  subsample=0.8, reg_alpha=0.01, colsample_bytree=0.7, max_depth=3, n_estimators=300, total=   6.9s\n",
      "[CV] subsample=0.6, reg_alpha=0.05, colsample_bytree=0.7, max_depth=3, n_estimators=300 \n",
      "[CV]  subsample=0.6, reg_alpha=0.05, colsample_bytree=0.7, max_depth=3, n_estimators=300, total=   5.4s\n",
      "[CV] subsample=0.6, reg_alpha=0.05, colsample_bytree=0.7, max_depth=3, n_estimators=300 \n",
      "[CV]  subsample=0.6, reg_alpha=0.05, colsample_bytree=0.7, max_depth=3, n_estimators=300, total=   5.2s\n",
      "[CV] subsample=0.6, reg_alpha=0.05, colsample_bytree=0.7, max_depth=3, n_estimators=300 \n",
      "[CV]  subsample=0.6, reg_alpha=0.05, colsample_bytree=0.7, max_depth=3, n_estimators=300, total=   5.3s\n",
      "[CV] subsample=0.8, reg_alpha=0.05, colsample_bytree=0.7, max_depth=3, n_estimators=300 \n",
      "[CV]  subsample=0.8, reg_alpha=0.05, colsample_bytree=0.7, max_depth=3, n_estimators=300, total=  10.1s\n",
      "[CV] subsample=0.8, reg_alpha=0.05, colsample_bytree=0.7, max_depth=3, n_estimators=300 \n",
      "[CV]  subsample=0.8, reg_alpha=0.05, colsample_bytree=0.7, max_depth=3, n_estimators=300, total=   5.8s\n",
      "[CV] subsample=0.8, reg_alpha=0.05, colsample_bytree=0.7, max_depth=3, n_estimators=300 \n",
      "[CV]  subsample=0.8, reg_alpha=0.05, colsample_bytree=0.7, max_depth=3, n_estimators=300, total=   5.2s\n",
      "[CV] subsample=0.6, reg_alpha=0.01, colsample_bytree=0.7, max_depth=3, n_estimators=500 \n",
      "[CV]  subsample=0.6, reg_alpha=0.01, colsample_bytree=0.7, max_depth=3, n_estimators=500, total=   8.1s\n",
      "[CV] subsample=0.6, reg_alpha=0.01, colsample_bytree=0.7, max_depth=3, n_estimators=500 \n",
      "[CV]  subsample=0.6, reg_alpha=0.01, colsample_bytree=0.7, max_depth=3, n_estimators=500, total=   7.7s\n",
      "[CV] subsample=0.6, reg_alpha=0.01, colsample_bytree=0.7, max_depth=3, n_estimators=500 \n",
      "[CV]  subsample=0.6, reg_alpha=0.01, colsample_bytree=0.7, max_depth=3, n_estimators=500, total=  12.8s\n",
      "[CV] subsample=0.8, reg_alpha=0.01, colsample_bytree=0.7, max_depth=3, n_estimators=500 \n",
      "[CV]  subsample=0.8, reg_alpha=0.01, colsample_bytree=0.7, max_depth=3, n_estimators=500, total=   9.8s\n",
      "[CV] subsample=0.8, reg_alpha=0.01, colsample_bytree=0.7, max_depth=3, n_estimators=500 \n",
      "[CV]  subsample=0.8, reg_alpha=0.01, colsample_bytree=0.7, max_depth=3, n_estimators=500, total=   8.7s\n",
      "[CV] subsample=0.8, reg_alpha=0.01, colsample_bytree=0.7, max_depth=3, n_estimators=500 \n",
      "[CV]  subsample=0.8, reg_alpha=0.01, colsample_bytree=0.7, max_depth=3, n_estimators=500, total=   9.0s\n",
      "[CV] subsample=0.6, reg_alpha=0.05, colsample_bytree=0.7, max_depth=3, n_estimators=500 \n",
      "[CV]  subsample=0.6, reg_alpha=0.05, colsample_bytree=0.7, max_depth=3, n_estimators=500, total=   9.7s\n",
      "[CV] subsample=0.6, reg_alpha=0.05, colsample_bytree=0.7, max_depth=3, n_estimators=500 \n",
      "[CV]  subsample=0.6, reg_alpha=0.05, colsample_bytree=0.7, max_depth=3, n_estimators=500, total=  10.1s\n",
      "[CV] subsample=0.6, reg_alpha=0.05, colsample_bytree=0.7, max_depth=3, n_estimators=500 \n",
      "[CV]  subsample=0.6, reg_alpha=0.05, colsample_bytree=0.7, max_depth=3, n_estimators=500, total=   8.3s\n",
      "[CV] subsample=0.8, reg_alpha=0.05, colsample_bytree=0.7, max_depth=3, n_estimators=500 \n",
      "[CV]  subsample=0.8, reg_alpha=0.05, colsample_bytree=0.7, max_depth=3, n_estimators=500, total=   8.9s\n",
      "[CV] subsample=0.8, reg_alpha=0.05, colsample_bytree=0.7, max_depth=3, n_estimators=500 \n",
      "[CV]  subsample=0.8, reg_alpha=0.05, colsample_bytree=0.7, max_depth=3, n_estimators=500, total=   8.5s\n",
      "[CV] subsample=0.8, reg_alpha=0.05, colsample_bytree=0.7, max_depth=3, n_estimators=500 \n",
      "[CV]  subsample=0.8, reg_alpha=0.05, colsample_bytree=0.7, max_depth=3, n_estimators=500, total=   9.4s\n",
      "[CV] subsample=0.6, reg_alpha=0.01, colsample_bytree=0.7, max_depth=5, n_estimators=300 \n",
      "[CV]  subsample=0.6, reg_alpha=0.01, colsample_bytree=0.7, max_depth=5, n_estimators=300, total=   7.6s\n",
      "[CV] subsample=0.6, reg_alpha=0.01, colsample_bytree=0.7, max_depth=5, n_estimators=300 \n",
      "[CV]  subsample=0.6, reg_alpha=0.01, colsample_bytree=0.7, max_depth=5, n_estimators=300, total=   8.6s\n",
      "[CV] subsample=0.6, reg_alpha=0.01, colsample_bytree=0.7, max_depth=5, n_estimators=300 \n",
      "[CV]  subsample=0.6, reg_alpha=0.01, colsample_bytree=0.7, max_depth=5, n_estimators=300, total=   7.7s\n",
      "[CV] subsample=0.8, reg_alpha=0.01, colsample_bytree=0.7, max_depth=5, n_estimators=300 \n",
      "[CV]  subsample=0.8, reg_alpha=0.01, colsample_bytree=0.7, max_depth=5, n_estimators=300, total=   8.4s\n",
      "[CV] subsample=0.8, reg_alpha=0.01, colsample_bytree=0.7, max_depth=5, n_estimators=300 \n",
      "[CV]  subsample=0.8, reg_alpha=0.01, colsample_bytree=0.7, max_depth=5, n_estimators=300, total=   8.3s\n",
      "[CV] subsample=0.8, reg_alpha=0.01, colsample_bytree=0.7, max_depth=5, n_estimators=300 \n",
      "[CV]  subsample=0.8, reg_alpha=0.01, colsample_bytree=0.7, max_depth=5, n_estimators=300, total=   8.8s\n",
      "[CV] subsample=0.6, reg_alpha=0.05, colsample_bytree=0.7, max_depth=5, n_estimators=300 \n",
      "[CV]  subsample=0.6, reg_alpha=0.05, colsample_bytree=0.7, max_depth=5, n_estimators=300, total=   7.3s\n",
      "[CV] subsample=0.6, reg_alpha=0.05, colsample_bytree=0.7, max_depth=5, n_estimators=300 \n",
      "[CV]  subsample=0.6, reg_alpha=0.05, colsample_bytree=0.7, max_depth=5, n_estimators=300, total=   7.2s\n",
      "[CV] subsample=0.6, reg_alpha=0.05, colsample_bytree=0.7, max_depth=5, n_estimators=300 \n",
      "[CV]  subsample=0.6, reg_alpha=0.05, colsample_bytree=0.7, max_depth=5, n_estimators=300, total=   7.2s\n",
      "[CV] subsample=0.8, reg_alpha=0.05, colsample_bytree=0.7, max_depth=5, n_estimators=300 \n",
      "[CV]  subsample=0.8, reg_alpha=0.05, colsample_bytree=0.7, max_depth=5, n_estimators=300, total=  10.0s\n",
      "[CV] subsample=0.8, reg_alpha=0.05, colsample_bytree=0.7, max_depth=5, n_estimators=300 \n",
      "[CV]  subsample=0.8, reg_alpha=0.05, colsample_bytree=0.7, max_depth=5, n_estimators=300, total=  10.0s\n",
      "[CV] subsample=0.8, reg_alpha=0.05, colsample_bytree=0.7, max_depth=5, n_estimators=300 \n",
      "[CV]  subsample=0.8, reg_alpha=0.05, colsample_bytree=0.7, max_depth=5, n_estimators=300, total=   9.3s\n",
      "[CV] subsample=0.6, reg_alpha=0.01, colsample_bytree=0.7, max_depth=5, n_estimators=500 \n",
      "[CV]  subsample=0.6, reg_alpha=0.01, colsample_bytree=0.7, max_depth=5, n_estimators=500, total=  13.6s\n",
      "[CV] subsample=0.6, reg_alpha=0.01, colsample_bytree=0.7, max_depth=5, n_estimators=500 \n",
      "[CV]  subsample=0.6, reg_alpha=0.01, colsample_bytree=0.7, max_depth=5, n_estimators=500, total=  15.3s\n",
      "[CV] subsample=0.6, reg_alpha=0.01, colsample_bytree=0.7, max_depth=5, n_estimators=500 \n",
      "[CV]  subsample=0.6, reg_alpha=0.01, colsample_bytree=0.7, max_depth=5, n_estimators=500, total=  13.0s\n",
      "[CV] subsample=0.8, reg_alpha=0.01, colsample_bytree=0.7, max_depth=5, n_estimators=500 \n"
     ]
    },
    {
     "name": "stdout",
     "output_type": "stream",
     "text": [
      "[CV]  subsample=0.8, reg_alpha=0.01, colsample_bytree=0.7, max_depth=5, n_estimators=500, total=  16.3s\n",
      "[CV] subsample=0.8, reg_alpha=0.01, colsample_bytree=0.7, max_depth=5, n_estimators=500 \n",
      "[CV]  subsample=0.8, reg_alpha=0.01, colsample_bytree=0.7, max_depth=5, n_estimators=500, total=  14.8s\n",
      "[CV] subsample=0.8, reg_alpha=0.01, colsample_bytree=0.7, max_depth=5, n_estimators=500 \n",
      "[CV]  subsample=0.8, reg_alpha=0.01, colsample_bytree=0.7, max_depth=5, n_estimators=500, total=  15.5s\n",
      "[CV] subsample=0.6, reg_alpha=0.05, colsample_bytree=0.7, max_depth=5, n_estimators=500 \n",
      "[CV]  subsample=0.6, reg_alpha=0.05, colsample_bytree=0.7, max_depth=5, n_estimators=500, total=  13.3s\n",
      "[CV] subsample=0.6, reg_alpha=0.05, colsample_bytree=0.7, max_depth=5, n_estimators=500 \n",
      "[CV]  subsample=0.6, reg_alpha=0.05, colsample_bytree=0.7, max_depth=5, n_estimators=500, total=  14.4s\n",
      "[CV] subsample=0.6, reg_alpha=0.05, colsample_bytree=0.7, max_depth=5, n_estimators=500 \n",
      "[CV]  subsample=0.6, reg_alpha=0.05, colsample_bytree=0.7, max_depth=5, n_estimators=500, total=  13.2s\n",
      "[CV] subsample=0.8, reg_alpha=0.05, colsample_bytree=0.7, max_depth=5, n_estimators=500 \n",
      "[CV]  subsample=0.8, reg_alpha=0.05, colsample_bytree=0.7, max_depth=5, n_estimators=500, total=  15.3s\n",
      "[CV] subsample=0.8, reg_alpha=0.05, colsample_bytree=0.7, max_depth=5, n_estimators=500 \n",
      "[CV]  subsample=0.8, reg_alpha=0.05, colsample_bytree=0.7, max_depth=5, n_estimators=500, total=  15.4s\n",
      "[CV] subsample=0.8, reg_alpha=0.05, colsample_bytree=0.7, max_depth=5, n_estimators=500 \n",
      "[CV]  subsample=0.8, reg_alpha=0.05, colsample_bytree=0.7, max_depth=5, n_estimators=500, total=  15.5s\n"
     ]
    },
    {
     "name": "stderr",
     "output_type": "stream",
     "text": [
      "[Parallel(n_jobs=1)]: Done  96 out of  96 | elapsed: 14.7min finished\n"
     ]
    },
    {
     "name": "stdout",
     "output_type": "stream",
     "text": [
      "XGBClassifier(base_score=0.5, colsample_bylevel=1, colsample_bytree=0.7,\n",
      "       gamma=0, learning_rate=0.1, max_delta_step=0, max_depth=3,\n",
      "       min_child_weight=1, missing=9999999999, n_estimators=300,\n",
      "       nthread=-1, objective='binary:logistic', reg_alpha=0.01,\n",
      "       reg_lambda=1, scale_pos_weight=1, seed=0, silent=True,\n",
      "       subsample=0.8)\n"
     ]
    }
   ],
   "source": [
    "params={\n",
    "    'max_depth': [3, 5], #[3,4,5,6,7,8,9], # 5 is good but takes too long in kaggle env\n",
    "    'subsample': [0.6, 0.8], #[0.4,0.5,0.6,0.7,0.8,0.9,1.0],\n",
    "    'colsample_bytree': [0.5, 0.7], #[0.5,0.6,0.7,0.8],\n",
    "    'n_estimators': [300, 500], #[1000,2000,3000]\n",
    "    'reg_alpha': [0.01, 0.05] #[0.01, 0.02, 0.03, 0.04]\n",
    "}\n",
    "\n",
    "xgb_clf = xgb.XGBClassifier(missing=9999999999)\n",
    "rs = GridSearchCV(xgb_clf,\n",
    "                  params,\n",
    "                  cv=3,\n",
    "                  scoring=\"roc_auc\",\n",
    "                  n_jobs=1,\n",
    "                  verbose=2)\n",
    "rs.fit(train_X_pca, train_y)\n",
    "best_est = rs.best_estimator_\n",
    "print(best_est)"
   ]
  },
  {
   "cell_type": "code",
   "execution_count": 40,
   "metadata": {
    "collapsed": true
   },
   "outputs": [],
   "source": [
    "# xgb_single = xgb.XGBClassifier(base_score=0.5, colsample_bylevel=1, colsample_bytree=0.5,\n",
    "#        gamma=0, learning_rate=0.1, max_delta_step=0, max_depth=3,\n",
    "#        min_child_weight=1, missing=9999999999, n_estimators=300,\n",
    "#        nthread=-1, objective='binary:logistic', reg_alpha=0.05,\n",
    "#        reg_lambda=1, scale_pos_weight=1, seed=0, silent=True,\n",
    "#        subsample=0.8)\n",
    "\n",
    "# xgb_single.fit(train_X, train_y)\n",
    "# valid_probs_xgb_single = xgb_single.predict_proba(valid_X)[:,1]\n",
    "# valid_preds_xgb_single = xgb_single.predict(valid_X)\n",
    "# print(accuracy_score(valid_y, valid_preds_xgb_single))\n",
    "# print(roc_auc_score(valid_y, valid_probs_xgb_single))"
   ]
  },
  {
   "cell_type": "code",
   "execution_count": 42,
   "metadata": {},
   "outputs": [
    {
     "name": "stdout",
     "output_type": "stream",
     "text": [
      "0.92172009785\n",
      "0.66251741459\n"
     ]
    }
   ],
   "source": [
    "valid_probs_rs = rs.predict_proba(valid_X_pca)[:,1]\n",
    "valid_preds_rs= rs.predict(valid_X_pca)\n",
    "print(accuracy_score(valid_y, valid_preds_rs))\n",
    "print(roc_auc_score(valid_y, valid_probs_rs))"
   ]
  },
  {
   "cell_type": "code",
   "execution_count": 46,
   "metadata": {
    "collapsed": true
   },
   "outputs": [],
   "source": [
    "### Prepare submission file and save to disk\n",
    "result_df = pd.DataFrame({'SK_ID_CURR':test.SK_ID_CURR.values, \"TARGET\":rs.predict_proba(test_feats)[:,1]})\n",
    "result_df.to_csv(\"submimssion_3_xgboost_gridsearch_allfeatures_smote.csv\", index=False)"
   ]
  },
  {
   "cell_type": "code",
   "execution_count": null,
   "metadata": {
    "collapsed": true
   },
   "outputs": [],
   "source": []
  },
  {
   "cell_type": "code",
   "execution_count": 47,
   "metadata": {},
   "outputs": [
    {
     "data": {
      "text/plain": [
       "Index(['NAME_CONTRACT_TYPE', 'CODE_GENDER', 'FLAG_OWN_CAR', 'FLAG_OWN_REALTY',\n",
       "       'CNT_CHILDREN', 'AMT_INCOME_TOTAL', 'AMT_CREDIT', 'AMT_ANNUITY',\n",
       "       'AMT_GOODS_PRICE', 'NAME_INCOME_TYPE', 'NAME_EDUCATION_TYPE',\n",
       "       'NAME_FAMILY_STATUS', 'NAME_HOUSING_TYPE', 'REGION_POPULATION_RELATIVE',\n",
       "       'DAYS_BIRTH', 'DAYS_EMPLOYED', 'DAYS_REGISTRATION', 'DAYS_ID_PUBLISH',\n",
       "       'FLAG_MOBIL', 'FLAG_EMP_PHONE', 'FLAG_WORK_PHONE', 'FLAG_CONT_MOBILE',\n",
       "       'FLAG_PHONE', 'FLAG_EMAIL', 'CNT_FAM_MEMBERS', 'REGION_RATING_CLIENT',\n",
       "       'REGION_RATING_CLIENT_W_CITY', 'WEEKDAY_APPR_PROCESS_START',\n",
       "       'HOUR_APPR_PROCESS_START', 'REG_REGION_NOT_LIVE_REGION',\n",
       "       'REG_REGION_NOT_WORK_REGION', 'LIVE_REGION_NOT_WORK_REGION',\n",
       "       'REG_CITY_NOT_LIVE_CITY', 'REG_CITY_NOT_WORK_CITY',\n",
       "       'LIVE_CITY_NOT_WORK_CITY', 'ORGANIZATION_TYPE', 'EXT_SOURCE_2',\n",
       "       'DAYS_LAST_PHONE_CHANGE', 'FLAG_DOCUMENT_3', 'FLAG_DOCUMENT_6',\n",
       "       'FLAG_DOCUMENT_8'],\n",
       "      dtype='object')"
      ]
     },
     "execution_count": 47,
     "metadata": {},
     "output_type": "execute_result"
    }
   ],
   "source": [
    "full_train.columns"
   ]
  },
  {
   "cell_type": "code",
   "execution_count": 53,
   "metadata": {},
   "outputs": [
    {
     "ename": "AttributeError",
     "evalue": "'numpy.ndarray' object has no attribute 'values'",
     "output_type": "error",
     "traceback": [
      "\u001b[0;31m---------------------------------------------------------------------------\u001b[0m",
      "\u001b[0;31mAttributeError\u001b[0m                            Traceback (most recent call last)",
      "\u001b[0;32m<ipython-input-53-e2309143e6d6>\u001b[0m in \u001b[0;36m<module>\u001b[0;34m()\u001b[0m\n\u001b[0;32m----> 1\u001b[0;31m \u001b[0mfull_train\u001b[0m\u001b[0;34m[\u001b[0m\u001b[0;34m\"FLAG_OWN_CAR\"\u001b[0m\u001b[0;34m]\u001b[0m\u001b[0;34m.\u001b[0m\u001b[0munique\u001b[0m\u001b[0;34m(\u001b[0m\u001b[0;34m)\u001b[0m\u001b[0;34m.\u001b[0m\u001b[0mvalues\u001b[0m\u001b[0;34m(\u001b[0m\u001b[0;34m)\u001b[0m\u001b[0;34m\u001b[0m\u001b[0m\n\u001b[0m",
      "\u001b[0;31mAttributeError\u001b[0m: 'numpy.ndarray' object has no attribute 'values'"
     ]
    }
   ],
   "source": [
    "full_train[\"FLAG_OWN_CAR\"].unique()"
   ]
  },
  {
   "cell_type": "code",
   "execution_count": null,
   "metadata": {
    "collapsed": true
   },
   "outputs": [],
   "source": []
  },
  {
   "cell_type": "code",
   "execution_count": null,
   "metadata": {
    "collapsed": true
   },
   "outputs": [],
   "source": []
  }
 ],
 "metadata": {
  "kernelspec": {
   "display_name": "Python 3",
   "language": "python",
   "name": "python3"
  },
  "language_info": {
   "codemirror_mode": {
    "name": "ipython",
    "version": 3
   },
   "file_extension": ".py",
   "mimetype": "text/x-python",
   "name": "python",
   "nbconvert_exporter": "python",
   "pygments_lexer": "ipython3",
   "version": "3.4.3"
  }
 },
 "nbformat": 4,
 "nbformat_minor": 2
}
